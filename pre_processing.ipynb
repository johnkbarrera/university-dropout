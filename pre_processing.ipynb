{
 "cells": [
  {
   "cell_type": "code",
   "execution_count": 1,
   "id": "8e58ec1b",
   "metadata": {},
   "outputs": [
    {
     "name": "stderr",
     "output_type": "stream",
     "text": [
      "/opt/anaconda3/lib/python3.9/site-packages/geopandas/_compat.py:106: UserWarning: The Shapely GEOS version (3.9.1dev-CAPI-1.14.1) is incompatible with the GEOS version PyGEOS was compiled with (3.10.3-CAPI-1.16.1). Conversions between both will be slow.\n",
      "  warnings.warn(\n"
     ]
    }
   ],
   "source": [
    "import pandas as pd\n",
    "import numpy as np\n",
    "import math\n",
    "\n",
    "import seaborn as sns\n",
    "import matplotlib.pyplot as plt\n",
    "\n",
    "import plotly.express as px\n",
    "import plotly.figure_factory as ff\n",
    "\n",
    "from tqdm import tqdm, trange"
   ]
  },
  {
   "cell_type": "code",
   "execution_count": 2,
   "id": "4c430b6e",
   "metadata": {},
   "outputs": [],
   "source": [
    "def function_data_historical(df):\n",
    "  df = df[df['SITUACION_MATRICULA']==1]\n",
    "  df = df[['SEMESTRE',\n",
    "                        'ID',\n",
    "                        'COD_ESTUDIANTE',\n",
    "                        'ESCUELA_PROFESIONAL',\n",
    "                        'CANT_CURSO_MAT_CICLO_01', 'CANT_CURSO_MAT_CICLO_02', 'CANT_CURSO_MAT_CICLO_03',\n",
    "                        'CANT_CURSO_MAT_CICLO_04', 'CANT_CURSO_MAT_CICLO_05', 'CANT_CURSO_MAT_CICLO_06',\n",
    "                        'CANT_CURSO_MAT_CICLO_07', 'CANT_CURSO_MAT_CICLO_08', 'CANT_CURSO_MAT_CICLO_09',\n",
    "                        'CANT_CURSO_MAT_CICLO_10', 'CANT_CURSO_MAT_CICLO_11', 'CANT_CURSO_MAT_CICLO_12',\n",
    "                        'CANT_CURSO_MAT_CICLO_13', 'CANT_CURSO_MAT_CICLO_14',\n",
    "                        'CANT_CURSO_MAT_DES_CICLO_01', 'CANT_CURSO_MAT_DES_CICLO_02', 'CANT_CURSO_MAT_DES_CICLO_03',\n",
    "                        'CANT_CURSO_MAT_DES_CICLO_04', 'CANT_CURSO_MAT_DES_CICLO_05', 'CANT_CURSO_MAT_DES_CICLO_06',\n",
    "                        'CANT_CURSO_MAT_DES_CICLO_07', 'CANT_CURSO_MAT_DES_CICLO_08', 'CANT_CURSO_MAT_DES_CICLO_09',\n",
    "                        'CANT_CURSO_MAT_DES_CICLO_10', 'CANT_CURSO_MAT_DES_CICLO_11', 'CANT_CURSO_MAT_DES_CICLO_12',\n",
    "                        'CANT_CURSO_MAT_DES_CICLO_13', 'CANT_CURSO_MAT_DES_CICLO_14'\n",
    "                        ]]\n",
    "  df = df.reset_index(drop=True)\n",
    "\n",
    "  df = df.groupby(['ID']).agg(\n",
    "                #        NUM_MATRICULAS=('SEMESTRE','count'),\n",
    "                        COD_ESTUDIANTE=('COD_ESTUDIANTE','max'),\n",
    "                        ESCUELA_PROFESIONAL=('ESCUELA_PROFESIONAL','max'),\n",
    "                        NUM_CURSOS_APR_CICLO_01=('CANT_CURSO_MAT_CICLO_01','sum'),\n",
    "                        NUM_CURSOS_APR_CICLO_02=('CANT_CURSO_MAT_CICLO_02','sum'),\n",
    "                        NUM_CURSOS_APR_CICLO_03=('CANT_CURSO_MAT_CICLO_03','sum'),\n",
    "                        NUM_CURSOS_APR_CICLO_04=('CANT_CURSO_MAT_CICLO_04','sum'),\n",
    "                        NUM_CURSOS_APR_CICLO_05=('CANT_CURSO_MAT_CICLO_05','sum'),\n",
    "                        NUM_CURSOS_APR_CICLO_06=('CANT_CURSO_MAT_CICLO_06','sum'),\n",
    "                        NUM_CURSOS_APR_CICLO_07=('CANT_CURSO_MAT_CICLO_07','sum'),\n",
    "                        NUM_CURSOS_APR_CICLO_08=('CANT_CURSO_MAT_CICLO_08','sum'),\n",
    "                        NUM_CURSOS_APR_CICLO_09=('CANT_CURSO_MAT_CICLO_09','sum'),\n",
    "                        NUM_CURSOS_APR_CICLO_10=('CANT_CURSO_MAT_CICLO_10','sum'),\n",
    "                        NUM_CURSOS_APR_CICLO_11=('CANT_CURSO_MAT_CICLO_11','sum'),\n",
    "                        NUM_CURSOS_APR_CICLO_12=('CANT_CURSO_MAT_CICLO_12','sum'),\n",
    "                        NUM_CURSOS_APR_CICLO_13=('CANT_CURSO_MAT_CICLO_13','sum'),\n",
    "                        NUM_CURSOS_APR_CICLO_14=('CANT_CURSO_MAT_CICLO_14','sum'),\n",
    "                #         NUM_CURSOS_DES_CICLO_01=('CANT_CURSO_MAT_DES_CICLO_01','sum'),\n",
    "                #         NUM_CURSOS_DES_CICLO_02=('CANT_CURSO_MAT_DES_CICLO_02','sum'),\n",
    "                #         NUM_CURSOS_DES_CICLO_03=('CANT_CURSO_MAT_DES_CICLO_03','sum'),\n",
    "                #         NUM_CURSOS_DES_CICLO_04=('CANT_CURSO_MAT_DES_CICLO_04','sum'),\n",
    "                #         NUM_CURSOS_DES_CICLO_05=('CANT_CURSO_MAT_DES_CICLO_05','sum'),\n",
    "                #         NUM_CURSOS_DES_CICLO_06=('CANT_CURSO_MAT_DES_CICLO_06','sum'),\n",
    "                #         NUM_CURSOS_DES_CICLO_07=('CANT_CURSO_MAT_DES_CICLO_07','sum'),\n",
    "                #         NUM_CURSOS_DES_CICLO_08=('CANT_CURSO_MAT_DES_CICLO_08','sum'),\n",
    "                #         NUM_CURSOS_DES_CICLO_09=('CANT_CURSO_MAT_DES_CICLO_09','sum'),\n",
    "                #         NUM_CURSOS_DES_CICLO_10=('CANT_CURSO_MAT_DES_CICLO_10','sum'),\n",
    "                #         NUM_CURSOS_DES_CICLO_11=('CANT_CURSO_MAT_DES_CICLO_11','sum'),\n",
    "                #         NUM_CURSOS_DES_CICLO_12=('CANT_CURSO_MAT_DES_CICLO_12','sum'),\n",
    "                #         NUM_CURSOS_DES_CICLO_13=('CANT_CURSO_MAT_DES_CICLO_13','sum'),\n",
    "                #         NUM_CURSOS_DES_CICLO_14=('CANT_CURSO_MAT_DES_CICLO_14','sum'),\n",
    "      ).sort_values(by=['COD_ESTUDIANTE'], ascending=False)\n",
    "\n",
    "  df = df.reset_index(drop=False)\n",
    "  return df"
   ]
  },
  {
   "attachments": {},
   "cell_type": "markdown",
   "id": "4141ee6b",
   "metadata": {},
   "source": [
    "### Preparación de archivo\n",
    "\n",
    "Este código en Python utiliza las bibliotecas Pandas y Pickle para trabajar con un archivo de Excel y guardarlo en un archivo de formato pickle.\n",
    "\n",
    " - La primera línea establece una variable \"file\" que contiene la ruta al archivo \"DataSet_Tesis_COMPLETO_descompress.xlsx\".\n",
    " - La segunda línea utiliza el método \"read_excel\" de pandas para leer el archivo de excel especificado en la variable \"file\" y almacenar los datos en una variable llamada \"data\".\n",
    " - La tercera línea utiliza el método \"to_pickle\" de pandas para guardar los datos en un archivo llamado \"DataSet_Tesis.pkl\" en formato pickle.\n",
    " - La cuarta línea utiliza el método \"read_pickle\" de pandas para cargar los datos del archivo pickle \"DataSet_Tesis.pkl\" en una variable llamada \"data\".\n",
    " \n",
    " \n",
    "En resumen este código esta leyendo un archivo excel, guardando esa información en un archivo pickle y luego cargando nuevamente esa información desde ese archivo pickle.\n"
   ]
  },
  {
   "cell_type": "code",
   "execution_count": 3,
   "id": "1e7edb63",
   "metadata": {},
   "outputs": [],
   "source": [
    "data = pd.read_pickle('data/DataSet_Tesis.pkl')"
   ]
  },
  {
   "cell_type": "code",
   "execution_count": 4,
   "id": "602a8952",
   "metadata": {},
   "outputs": [
    {
     "name": "stdout",
     "output_type": "stream",
     "text": [
      "Record number: 812720\n",
      "New record number: 797769\n"
     ]
    }
   ],
   "source": [
    "import hashlib\n",
    "\n",
    "data['ID'] = data['COD_ESTUDIANTE'] + data['ESCUELA_PROFESIONAL']\n",
    "data['ID'] = data['ID'].apply(lambda x: hashlib.sha256(x.encode('utf-8')).hexdigest())\n",
    "print('Record number:',len(data))\n",
    "\n",
    "# Eliminamos los ciclos de verano\n",
    "data = data[~data['SEMESTRE'].str.contains('C|O')]\n",
    "print('New record number:',len(data))"
   ]
  },
  {
   "attachments": {},
   "cell_type": "markdown",
   "id": "9143995e",
   "metadata": {},
   "source": [
    "##### Lista de alumnos"
   ]
  },
  {
   "cell_type": "code",
   "execution_count": 5,
   "id": "1fc8f7d6",
   "metadata": {},
   "outputs": [
    {
     "name": "stdout",
     "output_type": "stream",
     "text": [
      "Number of students: 52926\n"
     ]
    }
   ],
   "source": [
    "# Lista de alumnos\n",
    "alumnos_lista = list(set(data['ID']))\n",
    "print('Number of students:',len(alumnos_lista))"
   ]
  },
  {
   "attachments": {},
   "cell_type": "markdown",
   "id": "a68b674e",
   "metadata": {},
   "source": [
    "##### Eliminar datos de alumnos que están incompletos"
   ]
  },
  {
   "cell_type": "code",
   "execution_count": 6,
   "id": "ba9446f3",
   "metadata": {},
   "outputs": [
    {
     "data": {
      "image/svg+xml": "<svg class=\"main-svg\" xmlns=\"http://www.w3.org/2000/svg\" xmlns:xlink=\"http://www.w3.org/1999/xlink\" width=\"700\" height=\"500\" style=\"\" viewBox=\"0 0 700 500\"><rect x=\"0\" y=\"0\" width=\"700\" height=\"500\" style=\"fill: rgb(255, 255, 255); fill-opacity: 1;\"/><defs id=\"defs-2c6b07\"><g class=\"clips\"><clipPath id=\"clip2c6b07xyplot\" class=\"plotclip\"><rect width=\"540\" height=\"77.14285714285712\"/></clipPath><clipPath class=\"axesclip\" id=\"clip2c6b07x\"><rect x=\"80\" y=\"0\" width=\"540\" height=\"500\"/></clipPath><clipPath class=\"axesclip\" id=\"clip2c6b07y\"><rect x=\"0\" y=\"201.42857142857144\" width=\"700\" height=\"77.14285714285712\"/></clipPath><clipPath class=\"axesclip\" id=\"clip2c6b07xy\"><rect x=\"80\" y=\"201.42857142857144\" width=\"540\" height=\"77.14285714285712\"/></clipPath></g><g class=\"gradients\"><linearGradient x1=\"0\" x2=\"0\" y1=\"1\" y2=\"0\" id=\"g2c6b07-cbcoloraxis\"><stop offset=\"0%\" stop-color=\"rgb(13, 8, 135)\" stop-opacity=\"1\"/><stop offset=\"11.111111%\" stop-color=\"rgb(70, 3, 159)\" stop-opacity=\"1\"/><stop offset=\"22.222222%\" stop-color=\"rgb(114, 1, 168)\" stop-opacity=\"1\"/><stop offset=\"33.333333%\" stop-color=\"rgb(156, 23, 158)\" stop-opacity=\"1\"/><stop offset=\"44.444444%\" stop-color=\"rgb(189, 55, 134)\" stop-opacity=\"1\"/><stop offset=\"55.555556%\" stop-color=\"rgb(216, 87, 107)\" stop-opacity=\"1\"/><stop offset=\"66.666667%\" stop-color=\"rgb(237, 121, 83)\" stop-opacity=\"1\"/><stop offset=\"77.777778%\" stop-color=\"rgb(251, 159, 58)\" stop-opacity=\"1\"/><stop offset=\"88.888889%\" stop-color=\"rgb(253, 202, 38)\" stop-opacity=\"1\"/><stop offset=\"100%\" stop-color=\"rgb(240, 249, 33)\" stop-opacity=\"1\"/></linearGradient></g><g class=\"patterns\"/></defs><g class=\"bglayer\"><rect class=\"bg\" x=\"80\" y=\"201.42857142857144\" width=\"540\" height=\"77.14285714285712\" style=\"fill: rgb(229, 236, 246); fill-opacity: 1; stroke-width: 0;\"/></g><g class=\"layer-below\"><g class=\"imagelayer\"/><g class=\"shapelayer\"/></g><g class=\"cartesianlayer\"><g class=\"subplot xy\"><g class=\"layer-subplot\"><g class=\"shapelayer\"/><g class=\"imagelayer\"/></g><g class=\"minor-gridlayer\"><g class=\"x\"/><g class=\"y\"/></g><g class=\"gridlayer\"><g class=\"x\"><path class=\"xgrid crisp\" transform=\"translate(176.43,0)\" d=\"M0,201.42857142857144v77.14285714285712\" style=\"stroke: rgb(255, 255, 255); stroke-opacity: 1; stroke-width: 1px;\"/><path class=\"xgrid crisp\" transform=\"translate(253.57,0)\" d=\"M0,201.42857142857144v77.14285714285712\" style=\"stroke: rgb(255, 255, 255); stroke-opacity: 1; stroke-width: 1px;\"/><path class=\"xgrid crisp\" transform=\"translate(330.71000000000004,0)\" d=\"M0,201.42857142857144v77.14285714285712\" style=\"stroke: rgb(255, 255, 255); stroke-opacity: 1; stroke-width: 1px;\"/><path class=\"xgrid crisp\" transform=\"translate(407.86,0)\" d=\"M0,201.42857142857144v77.14285714285712\" style=\"stroke: rgb(255, 255, 255); stroke-opacity: 1; stroke-width: 1px;\"/><path class=\"xgrid crisp\" transform=\"translate(485,0)\" d=\"M0,201.42857142857144v77.14285714285712\" style=\"stroke: rgb(255, 255, 255); stroke-opacity: 1; stroke-width: 1px;\"/><path class=\"xgrid crisp\" transform=\"translate(562.14,0)\" d=\"M0,201.42857142857144v77.14285714285712\" style=\"stroke: rgb(255, 255, 255); stroke-opacity: 1; stroke-width: 1px;\"/></g><g class=\"y\"><path class=\"ygrid crisp\" transform=\"translate(0,259.28857142857146)\" d=\"M80,0h540\" style=\"stroke: rgb(255, 255, 255); stroke-opacity: 1; stroke-width: 1px;\"/><path class=\"ygrid crisp\" transform=\"translate(0,239.99857142857144)\" d=\"M80,0h540\" style=\"stroke: rgb(255, 255, 255); stroke-opacity: 1; stroke-width: 1px;\"/></g></g><g class=\"zerolinelayer\"><path class=\"xzl zl crisp\" transform=\"translate(99.28999999999999,0)\" d=\"M0,201.42857142857144v77.14285714285712\" style=\"stroke: rgb(255, 255, 255); stroke-opacity: 1; stroke-width: 2px;\"/><path class=\"yzl zl crisp\" transform=\"translate(0,220.71857142857144)\" d=\"M80,0h540\" style=\"stroke: rgb(255, 255, 255); stroke-opacity: 1; stroke-width: 2px;\"/></g><path class=\"xlines-below\"/><path class=\"ylines-below\"/><g class=\"overlines-below\"/><g class=\"xaxislayer-below\"/><g class=\"yaxislayer-below\"/><g class=\"overaxes-below\"/><g class=\"plot\" transform=\"translate(80,201.42857142857144)\" clip-path=\"url(#clip2c6b07xyplot)\"><g class=\"heatmaplayer mlayer\"><g class=\"hm\"><image xmlns=\"http://www.w3.org/2000/svg\" preserveAspectRatio=\"none\" height=\"77\" width=\"540\" x=\"0\" y=\"0\" xlink:href=\"data:image/png;base64,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\" style=\"opacity: 1;\"/><g class=\"heatmap-label\"><text text-anchor=\"middle\" data-notex=\"1\" x=\"19\" y=\"20.75\" style=\"font-family: 'Open Sans', verdana, arial, sans-serif; font-size: 5px; fill: rgb(255, 255, 255); fill-opacity: 1; white-space: pre;\">2.481176</text></g><g class=\"heatmap-label\"><text text-anchor=\"middle\" data-notex=\"1\" x=\"58\" y=\"20.75\" style=\"font-family: 'Open Sans', verdana, arial, sans-serif; font-size: 5px; fill: rgb(68, 68, 68); fill-opacity: 1; white-space: pre;\">7.041832</text></g><g class=\"heatmap-label\"><text text-anchor=\"middle\" data-notex=\"1\" x=\"96\" y=\"20.75\" style=\"font-family: 'Open Sans', verdana, arial, sans-serif; font-size: 5px; fill: rgb(68, 68, 68); fill-opacity: 1; white-space: pre;\">5.354079</text></g><g class=\"heatmap-label\"><text text-anchor=\"middle\" data-notex=\"1\" x=\"135\" y=\"20.75\" style=\"font-family: 'Open Sans', verdana, arial, sans-serif; font-size: 5px; fill: rgb(68, 68, 68); fill-opacity: 1; white-space: pre;\">4.27035</text></g><g class=\"heatmap-label\"><text text-anchor=\"middle\" data-notex=\"1\" x=\"174\" y=\"20.75\" style=\"font-family: 'Open Sans', verdana, arial, sans-serif; font-size: 5px; fill: rgb(255, 255, 255); fill-opacity: 1; white-space: pre;\">3.885944</text></g><g class=\"heatmap-label\"><text text-anchor=\"middle\" data-notex=\"1\" x=\"212\" y=\"20.75\" style=\"font-family: 'Open Sans', verdana, arial, sans-serif; font-size: 5px; fill: rgb(255, 255, 255); fill-opacity: 1; white-space: pre;\">3.571648</text></g><g class=\"heatmap-label\"><text text-anchor=\"middle\" data-notex=\"1\" x=\"251\" y=\"20.75\" style=\"font-family: 'Open Sans', verdana, arial, sans-serif; font-size: 5px; fill: rgb(255, 255, 255); fill-opacity: 1; white-space: pre;\">3.463141</text></g><g class=\"heatmap-label\"><text text-anchor=\"middle\" data-notex=\"1\" x=\"289\" y=\"20.75\" style=\"font-family: 'Open Sans', verdana, arial, sans-serif; font-size: 5px; fill: rgb(255, 255, 255); fill-opacity: 1; white-space: pre;\">2.911299</text></g><g class=\"heatmap-label\"><text text-anchor=\"middle\" data-notex=\"1\" x=\"328\" y=\"20.75\" style=\"font-family: 'Open Sans', verdana, arial, sans-serif; font-size: 5px; fill: rgb(255, 255, 255); fill-opacity: 1; white-space: pre;\">2.509348</text></g><g class=\"heatmap-label\"><text text-anchor=\"middle\" data-notex=\"1\" x=\"366\" y=\"20.75\" style=\"font-family: 'Open Sans', verdana, arial, sans-serif; font-size: 5px; fill: rgb(255, 255, 255); fill-opacity: 1; white-space: pre;\">2.07946</text></g><g class=\"heatmap-label\"><text text-anchor=\"middle\" data-notex=\"1\" x=\"405\" y=\"20.75\" style=\"font-family: 'Open Sans', verdana, arial, sans-serif; font-size: 5px; fill: rgb(255, 255, 255); fill-opacity: 1; white-space: pre;\">0.5046101</text></g><g class=\"heatmap-label\"><text text-anchor=\"middle\" data-notex=\"1\" x=\"444\" y=\"20.75\" style=\"font-family: 'Open Sans', verdana, arial, sans-serif; font-size: 5px; fill: rgb(255, 255, 255); fill-opacity: 1; white-space: pre;\">0.5688522</text></g><g class=\"heatmap-label\"><text text-anchor=\"middle\" data-notex=\"1\" x=\"482\" y=\"20.75\" style=\"font-family: 'Open Sans', verdana, arial, sans-serif; font-size: 5px; fill: rgb(255, 255, 255); fill-opacity: 1; white-space: pre;\">0.005314381</text></g><g class=\"heatmap-label\"><text text-anchor=\"middle\" data-notex=\"1\" x=\"521\" y=\"20.75\" style=\"font-family: 'Open Sans', verdana, arial, sans-serif; font-size: 5px; fill: rgb(255, 255, 255); fill-opacity: 1; white-space: pre;\">0.004012464</text></g><g class=\"heatmap-label\"><text text-anchor=\"middle\" data-notex=\"1\" x=\"19\" y=\"59.75\" style=\"font-family: 'Open Sans', verdana, arial, sans-serif; font-size: 5px; fill: rgb(68, 68, 68); fill-opacity: 1; white-space: pre;\">5.226668</text></g><g class=\"heatmap-label\"><text text-anchor=\"middle\" data-notex=\"1\" x=\"58\" y=\"59.75\" style=\"font-family: 'Open Sans', verdana, arial, sans-serif; font-size: 5px; fill: rgb(68, 68, 68); fill-opacity: 1; white-space: pre;\">5.423341</text></g><g class=\"heatmap-label\"><text text-anchor=\"middle\" data-notex=\"1\" x=\"96\" y=\"59.75\" style=\"font-family: 'Open Sans', verdana, arial, sans-serif; font-size: 5px; fill: rgb(68, 68, 68); fill-opacity: 1; white-space: pre;\">4.398529</text></g><g class=\"heatmap-label\"><text text-anchor=\"middle\" data-notex=\"1\" x=\"135\" y=\"59.75\" style=\"font-family: 'Open Sans', verdana, arial, sans-serif; font-size: 5px; fill: rgb(255, 255, 255); fill-opacity: 1; white-space: pre;\">3.885735</text></g><g class=\"heatmap-label\"><text text-anchor=\"middle\" data-notex=\"1\" x=\"174\" y=\"59.75\" style=\"font-family: 'Open Sans', verdana, arial, sans-serif; font-size: 5px; fill: rgb(255, 255, 255); fill-opacity: 1; white-space: pre;\">3.792233</text></g><g class=\"heatmap-label\"><text text-anchor=\"middle\" data-notex=\"1\" x=\"212\" y=\"59.75\" style=\"font-family: 'Open Sans', verdana, arial, sans-serif; font-size: 5px; fill: rgb(255, 255, 255); fill-opacity: 1; white-space: pre;\">3.73107</text></g><g class=\"heatmap-label\"><text text-anchor=\"middle\" data-notex=\"1\" x=\"251\" y=\"59.75\" style=\"font-family: 'Open Sans', verdana, arial, sans-serif; font-size: 5px; fill: rgb(68, 68, 68); fill-opacity: 1; white-space: pre;\">4.011413</text></g><g class=\"heatmap-label\"><text text-anchor=\"middle\" data-notex=\"1\" x=\"289\" y=\"59.75\" style=\"font-family: 'Open Sans', verdana, arial, sans-serif; font-size: 5px; fill: rgb(255, 255, 255); fill-opacity: 1; white-space: pre;\">3.576626</text></g><g class=\"heatmap-label\"><text text-anchor=\"middle\" data-notex=\"1\" x=\"328\" y=\"59.75\" style=\"font-family: 'Open Sans', verdana, arial, sans-serif; font-size: 5px; fill: rgb(255, 255, 255); fill-opacity: 1; white-space: pre;\">3.16823</text></g><g class=\"heatmap-label\"><text text-anchor=\"middle\" data-notex=\"1\" x=\"366\" y=\"59.75\" style=\"font-family: 'Open Sans', verdana, arial, sans-serif; font-size: 5px; fill: rgb(255, 255, 255); fill-opacity: 1; white-space: pre;\">2.889277</text></g><g class=\"heatmap-label\"><text text-anchor=\"middle\" data-notex=\"1\" x=\"405\" y=\"59.75\" style=\"font-family: 'Open Sans', verdana, arial, sans-serif; font-size: 5px; fill: rgb(255, 255, 255); fill-opacity: 1; white-space: pre;\">1.701238</text></g><g class=\"heatmap-label\"><text text-anchor=\"middle\" data-notex=\"1\" x=\"444\" y=\"59.75\" style=\"font-family: 'Open Sans', verdana, arial, sans-serif; font-size: 5px; fill: rgb(255, 255, 255); fill-opacity: 1; white-space: pre;\">2.050175</text></g><g class=\"heatmap-label\"><text text-anchor=\"middle\" data-notex=\"1\" x=\"482\" y=\"59.75\" style=\"font-family: 'Open Sans', verdana, arial, sans-serif; font-size: 5px; fill: rgb(255, 255, 255); fill-opacity: 1; white-space: pre;\">0.07299957</text></g><g class=\"heatmap-label\"><text text-anchor=\"middle\" data-notex=\"1\" x=\"521\" y=\"59.75\" style=\"font-family: 'Open Sans', verdana, arial, sans-serif; font-size: 5px; fill: rgb(255, 255, 255); fill-opacity: 1; white-space: pre;\">0.06321748</text></g></g></g></g><g class=\"overplot\"/><path class=\"xlines-above crisp\" d=\"M0,0\" style=\"fill: none;\"/><path class=\"ylines-above crisp\" d=\"M0,0\" style=\"fill: none;\"/><g class=\"overlines-above\"/><g class=\"xaxislayer-above\"><g class=\"xtick\"><text text-anchor=\"middle\" x=\"0\" y=\"291.57142857142856\" transform=\"translate(99.28999999999999,0)\" style=\"font-family: 'Open Sans', verdana, arial, sans-serif; font-size: 12px; fill: rgb(42, 63, 95); fill-opacity: 1; white-space: pre; opacity: 1;\">0</text></g><g class=\"xtick\"><text text-anchor=\"middle\" x=\"0\" y=\"291.57142857142856\" style=\"font-family: 'Open Sans', verdana, arial, sans-serif; font-size: 12px; fill: rgb(42, 63, 95); fill-opacity: 1; white-space: pre; opacity: 1;\" transform=\"translate(176.43,0)\">2</text></g><g class=\"xtick\"><text text-anchor=\"middle\" x=\"0\" y=\"291.57142857142856\" style=\"font-family: 'Open Sans', verdana, arial, sans-serif; font-size: 12px; fill: rgb(42, 63, 95); fill-opacity: 1; white-space: pre; opacity: 1;\" transform=\"translate(253.57,0)\">4</text></g><g class=\"xtick\"><text text-anchor=\"middle\" x=\"0\" y=\"291.57142857142856\" style=\"font-family: 'Open Sans', verdana, arial, sans-serif; font-size: 12px; fill: rgb(42, 63, 95); fill-opacity: 1; white-space: pre; opacity: 1;\" transform=\"translate(330.71000000000004,0)\">6</text></g><g class=\"xtick\"><text text-anchor=\"middle\" x=\"0\" y=\"291.57142857142856\" style=\"font-family: 'Open Sans', verdana, arial, sans-serif; font-size: 12px; fill: rgb(42, 63, 95); fill-opacity: 1; white-space: pre; opacity: 1;\" transform=\"translate(407.86,0)\">8</text></g><g class=\"xtick\"><text text-anchor=\"middle\" x=\"0\" y=\"291.57142857142856\" style=\"font-family: 'Open Sans', verdana, arial, sans-serif; font-size: 12px; fill: rgb(42, 63, 95); fill-opacity: 1; white-space: pre; opacity: 1;\" transform=\"translate(485,0)\">10</text></g><g class=\"xtick\"><text text-anchor=\"middle\" x=\"0\" y=\"291.57142857142856\" style=\"font-family: 'Open Sans', verdana, arial, sans-serif; font-size: 12px; fill: rgb(42, 63, 95); fill-opacity: 1; white-space: pre; opacity: 1;\" transform=\"translate(562.14,0)\">12</text></g></g><g class=\"yaxislayer-above\"><g class=\"ytick\"><text text-anchor=\"end\" x=\"79\" y=\"4.199999999999999\" transform=\"translate(0,278.56857142857143)\" style=\"font-family: 'Open Sans', verdana, arial, sans-serif; font-size: 12px; fill: rgb(42, 63, 95); fill-opacity: 1; white-space: pre; opacity: 1;\">1.5</text></g><g class=\"ytick\"><text text-anchor=\"end\" x=\"79\" y=\"4.199999999999999\" style=\"font-family: 'Open Sans', verdana, arial, sans-serif; font-size: 12px; fill: rgb(42, 63, 95); fill-opacity: 1; white-space: pre; opacity: 1;\" transform=\"translate(0,259.28857142857146)\">1</text></g><g class=\"ytick\"><text text-anchor=\"end\" x=\"79\" y=\"4.199999999999999\" style=\"font-family: 'Open Sans', verdana, arial, sans-serif; font-size: 12px; fill: rgb(42, 63, 95); fill-opacity: 1; white-space: pre; opacity: 1;\" transform=\"translate(0,239.99857142857144)\">0.5</text></g><g class=\"ytick\"><text text-anchor=\"end\" x=\"79\" y=\"4.199999999999999\" style=\"font-family: 'Open Sans', verdana, arial, sans-serif; font-size: 12px; fill: rgb(42, 63, 95); fill-opacity: 1; white-space: pre; opacity: 1;\" transform=\"translate(0,220.71857142857144)\">0</text></g><g class=\"ytick\"><text text-anchor=\"end\" x=\"79\" y=\"4.199999999999999\" style=\"font-family: 'Open Sans', verdana, arial, sans-serif; font-size: 12px; fill: rgb(42, 63, 95); fill-opacity: 1; white-space: pre; opacity: 1;\" transform=\"translate(0,201.42857142857144)\">−0.5</text></g></g><g class=\"overaxes-above\"/></g></g><g class=\"polarlayer\"/><g class=\"smithlayer\"/><g class=\"ternarylayer\"/><g class=\"geolayer\"/><g class=\"funnelarealayer\"/><g class=\"pielayer\"/><g class=\"iciclelayer\"/><g class=\"treemaplayer\"/><g class=\"sunburstlayer\"/><g class=\"glimages\"/><defs id=\"topdefs-2c6b07\"><g class=\"clips\"/></defs><g class=\"layer-above\"><g class=\"imagelayer\"/><g class=\"shapelayer\"/></g><g class=\"infolayer\"><g class=\"cbcoloraxis colorbar\" transform=\"translate(80,60)\"><rect class=\"cbbg\" x=\"551\" y=\"0\" width=\"57.640625\" height=\"360\" style=\"fill: rgb(0, 0, 0); fill-opacity: 0; stroke: rgb(68, 68, 68); stroke-opacity: 1; stroke-width: 0;\"/><g class=\"cbfills\" transform=\"translate(0,10)\"><rect class=\"cbfill gradient_filled\" x=\"561\" y=\"0\" width=\"30\" height=\"340\" style=\"fill: url('#g2c6b07-cbcoloraxis');\"/></g><g class=\"cblines\" transform=\"translate(0,10)\"/><g class=\"cbaxis crisp\" transform=\"translate(0,-60)\"><g class=\"ycbcoloraxistick\"><text text-anchor=\"start\" x=\"593.9\" y=\"4.199999999999999\" transform=\"translate(0,361.88)\" style=\"font-family: 'Open Sans', verdana, arial, sans-serif; font-size: 12px; fill: rgb(42, 63, 95); fill-opacity: 1; white-space: pre; opacity: 1;\">1</text></g><g class=\"ycbcoloraxistick\"><text text-anchor=\"start\" x=\"593.9\" y=\"4.199999999999999\" style=\"font-family: 'Open Sans', verdana, arial, sans-serif; font-size: 12px; fill: rgb(42, 63, 95); fill-opacity: 1; white-space: pre; opacity: 1;\" transform=\"translate(0,313.57)\">2</text></g><g class=\"ycbcoloraxistick\"><text text-anchor=\"start\" x=\"593.9\" y=\"4.199999999999999\" style=\"font-family: 'Open Sans', verdana, arial, sans-serif; font-size: 12px; fill: rgb(42, 63, 95); fill-opacity: 1; white-space: pre; opacity: 1;\" transform=\"translate(0,265.26)\">3</text></g><g class=\"ycbcoloraxistick\"><text text-anchor=\"start\" x=\"593.9\" y=\"4.199999999999999\" style=\"font-family: 'Open Sans', verdana, arial, sans-serif; font-size: 12px; fill: rgb(42, 63, 95); fill-opacity: 1; white-space: pre; opacity: 1;\" transform=\"translate(0,216.95)\">4</text></g><g class=\"ycbcoloraxistick\"><text text-anchor=\"start\" x=\"593.9\" y=\"4.199999999999999\" style=\"font-family: 'Open Sans', verdana, arial, sans-serif; font-size: 12px; fill: rgb(42, 63, 95); fill-opacity: 1; white-space: pre; opacity: 1;\" transform=\"translate(0,168.64)\">5</text></g><g class=\"ycbcoloraxistick\"><text text-anchor=\"start\" x=\"593.9\" y=\"4.199999999999999\" style=\"font-family: 'Open Sans', verdana, arial, sans-serif; font-size: 12px; fill: rgb(42, 63, 95); fill-opacity: 1; white-space: pre; opacity: 1;\" transform=\"translate(0,120.33)\">6</text></g><g class=\"ycbcoloraxistick\"><text text-anchor=\"start\" x=\"593.9\" y=\"4.199999999999999\" style=\"font-family: 'Open Sans', verdana, arial, sans-serif; font-size: 12px; fill: rgb(42, 63, 95); fill-opacity: 1; white-space: pre; opacity: 1;\" transform=\"translate(0,72.02)\">7</text></g></g><g class=\"cbtitleunshift\" transform=\"translate(-80,-60)\"><g class=\"cbtitle\"/></g><rect class=\"cboutline\" x=\"561\" y=\"10\" width=\"30\" height=\"340\" style=\"stroke: rgb(68, 68, 68); stroke-opacity: 1; fill: none; stroke-width: 0;\"/></g><g class=\"g-gtitle\"/><g class=\"g-xtitle\"/><g class=\"g-ytitle\"/></g></svg>"
     },
     "metadata": {},
     "output_type": "display_data"
    }
   ],
   "source": [
    "# Data historial del Alumno (evolutivo)\n",
    "data_historial =  function_data_historical(data)\n",
    "data_historial.head()\n",
    "\n",
    "data_img =  data_historial.describe().iloc[1:3,:].values\n",
    "fig = px.imshow(data_img, text_auto=True)\n",
    "# fig.show()\n",
    "\n",
    "fig.show(renderer=\"svg\")"
   ]
  },
  {
   "cell_type": "code",
   "execution_count": 7,
   "id": "cdca3c75",
   "metadata": {},
   "outputs": [
    {
     "name": "stdout",
     "output_type": "stream",
     "text": [
      "Alumnos a eliminar (no se registra sus primeros ciclos): 26107\n",
      "New record number: 393306\n"
     ]
    }
   ],
   "source": [
    "# Eliminamos Alumnos cuya activIDad se registro despues del primer ciclo (son datos sin detalle previo)\n",
    "alumno_eliminar = data_historial[data_historial['NUM_CURSOS_APR_CICLO_01']==0]['ID'].values\n",
    "print('Alumnos a eliminar (no se registra sus primeros ciclos): '+str(len(alumno_eliminar)))\n",
    "data = data[~data['ID'].isin(alumno_eliminar)].reset_index(drop=True)\n",
    "\n",
    "print('New record number:',len(data))"
   ]
  },
  {
   "cell_type": "code",
   "execution_count": 8,
   "id": "341760e4",
   "metadata": {
    "scrolled": false
   },
   "outputs": [
    {
     "name": "stdout",
     "output_type": "stream",
     "text": [
      "20747\n"
     ]
    },
    {
     "data": {
      "application/vnd.plotly.v1+json": {
       "config": {
        "plotlyServerURL": "https://plot.ly"
       },
       "data": [
        {
         "coloraxis": "coloraxis",
         "hovertemplate": "x: %{x}<br>y: %{y}<br>color: %{z}<extra></extra>",
         "name": "0",
         "texttemplate": "%{z}",
         "type": "heatmap",
         "xaxis": "x",
         "yaxis": "y",
         "z": [
          [
           5.603364341832554,
           9.19067817033788,
           6.361883645828312,
           4.82956572034511,
           4.187545187255989,
           3.559357979466911,
           3.0806381645539114,
           2.4121559743577383,
           1.8589675615751675,
           1.5155926157998747,
           0.336385983515689,
           0.329493420735528,
           0.002506386465513086,
           0.001253193232756543
          ],
          [
           6.648293138591917,
           6.129069345507333,
           5.071687847458044,
           4.4051939077465905,
           4.3755059845753905,
           4.120425538175669,
           3.9507359424748367,
           3.3592583284224578,
           2.7804156916463456,
           2.5833983556460347,
           1.3823501167307322,
           1.4847075960942686,
           0.05000224997530444,
           0.03537913326066768
          ]
         ]
        }
       ],
       "layout": {
        "coloraxis": {
         "colorscale": [
          [
           0,
           "#0d0887"
          ],
          [
           0.1111111111111111,
           "#46039f"
          ],
          [
           0.2222222222222222,
           "#7201a8"
          ],
          [
           0.3333333333333333,
           "#9c179e"
          ],
          [
           0.4444444444444444,
           "#bd3786"
          ],
          [
           0.5555555555555556,
           "#d8576b"
          ],
          [
           0.6666666666666666,
           "#ed7953"
          ],
          [
           0.7777777777777778,
           "#fb9f3a"
          ],
          [
           0.8888888888888888,
           "#fdca26"
          ],
          [
           1,
           "#f0f921"
          ]
         ]
        },
        "margin": {
         "t": 60
        },
        "template": {
         "data": {
          "bar": [
           {
            "error_x": {
             "color": "#2a3f5f"
            },
            "error_y": {
             "color": "#2a3f5f"
            },
            "marker": {
             "line": {
              "color": "#E5ECF6",
              "width": 0.5
             },
             "pattern": {
              "fillmode": "overlay",
              "size": 10,
              "solidity": 0.2
             }
            },
            "type": "bar"
           }
          ],
          "barpolar": [
           {
            "marker": {
             "line": {
              "color": "#E5ECF6",
              "width": 0.5
             },
             "pattern": {
              "fillmode": "overlay",
              "size": 10,
              "solidity": 0.2
             }
            },
            "type": "barpolar"
           }
          ],
          "carpet": [
           {
            "aaxis": {
             "endlinecolor": "#2a3f5f",
             "gridcolor": "white",
             "linecolor": "white",
             "minorgridcolor": "white",
             "startlinecolor": "#2a3f5f"
            },
            "baxis": {
             "endlinecolor": "#2a3f5f",
             "gridcolor": "white",
             "linecolor": "white",
             "minorgridcolor": "white",
             "startlinecolor": "#2a3f5f"
            },
            "type": "carpet"
           }
          ],
          "choropleth": [
           {
            "colorbar": {
             "outlinewidth": 0,
             "ticks": ""
            },
            "type": "choropleth"
           }
          ],
          "contour": [
           {
            "colorbar": {
             "outlinewidth": 0,
             "ticks": ""
            },
            "colorscale": [
             [
              0,
              "#0d0887"
             ],
             [
              0.1111111111111111,
              "#46039f"
             ],
             [
              0.2222222222222222,
              "#7201a8"
             ],
             [
              0.3333333333333333,
              "#9c179e"
             ],
             [
              0.4444444444444444,
              "#bd3786"
             ],
             [
              0.5555555555555556,
              "#d8576b"
             ],
             [
              0.6666666666666666,
              "#ed7953"
             ],
             [
              0.7777777777777778,
              "#fb9f3a"
             ],
             [
              0.8888888888888888,
              "#fdca26"
             ],
             [
              1,
              "#f0f921"
             ]
            ],
            "type": "contour"
           }
          ],
          "contourcarpet": [
           {
            "colorbar": {
             "outlinewidth": 0,
             "ticks": ""
            },
            "type": "contourcarpet"
           }
          ],
          "heatmap": [
           {
            "colorbar": {
             "outlinewidth": 0,
             "ticks": ""
            },
            "colorscale": [
             [
              0,
              "#0d0887"
             ],
             [
              0.1111111111111111,
              "#46039f"
             ],
             [
              0.2222222222222222,
              "#7201a8"
             ],
             [
              0.3333333333333333,
              "#9c179e"
             ],
             [
              0.4444444444444444,
              "#bd3786"
             ],
             [
              0.5555555555555556,
              "#d8576b"
             ],
             [
              0.6666666666666666,
              "#ed7953"
             ],
             [
              0.7777777777777778,
              "#fb9f3a"
             ],
             [
              0.8888888888888888,
              "#fdca26"
             ],
             [
              1,
              "#f0f921"
             ]
            ],
            "type": "heatmap"
           }
          ],
          "heatmapgl": [
           {
            "colorbar": {
             "outlinewidth": 0,
             "ticks": ""
            },
            "colorscale": [
             [
              0,
              "#0d0887"
             ],
             [
              0.1111111111111111,
              "#46039f"
             ],
             [
              0.2222222222222222,
              "#7201a8"
             ],
             [
              0.3333333333333333,
              "#9c179e"
             ],
             [
              0.4444444444444444,
              "#bd3786"
             ],
             [
              0.5555555555555556,
              "#d8576b"
             ],
             [
              0.6666666666666666,
              "#ed7953"
             ],
             [
              0.7777777777777778,
              "#fb9f3a"
             ],
             [
              0.8888888888888888,
              "#fdca26"
             ],
             [
              1,
              "#f0f921"
             ]
            ],
            "type": "heatmapgl"
           }
          ],
          "histogram": [
           {
            "marker": {
             "pattern": {
              "fillmode": "overlay",
              "size": 10,
              "solidity": 0.2
             }
            },
            "type": "histogram"
           }
          ],
          "histogram2d": [
           {
            "colorbar": {
             "outlinewidth": 0,
             "ticks": ""
            },
            "colorscale": [
             [
              0,
              "#0d0887"
             ],
             [
              0.1111111111111111,
              "#46039f"
             ],
             [
              0.2222222222222222,
              "#7201a8"
             ],
             [
              0.3333333333333333,
              "#9c179e"
             ],
             [
              0.4444444444444444,
              "#bd3786"
             ],
             [
              0.5555555555555556,
              "#d8576b"
             ],
             [
              0.6666666666666666,
              "#ed7953"
             ],
             [
              0.7777777777777778,
              "#fb9f3a"
             ],
             [
              0.8888888888888888,
              "#fdca26"
             ],
             [
              1,
              "#f0f921"
             ]
            ],
            "type": "histogram2d"
           }
          ],
          "histogram2dcontour": [
           {
            "colorbar": {
             "outlinewidth": 0,
             "ticks": ""
            },
            "colorscale": [
             [
              0,
              "#0d0887"
             ],
             [
              0.1111111111111111,
              "#46039f"
             ],
             [
              0.2222222222222222,
              "#7201a8"
             ],
             [
              0.3333333333333333,
              "#9c179e"
             ],
             [
              0.4444444444444444,
              "#bd3786"
             ],
             [
              0.5555555555555556,
              "#d8576b"
             ],
             [
              0.6666666666666666,
              "#ed7953"
             ],
             [
              0.7777777777777778,
              "#fb9f3a"
             ],
             [
              0.8888888888888888,
              "#fdca26"
             ],
             [
              1,
              "#f0f921"
             ]
            ],
            "type": "histogram2dcontour"
           }
          ],
          "mesh3d": [
           {
            "colorbar": {
             "outlinewidth": 0,
             "ticks": ""
            },
            "type": "mesh3d"
           }
          ],
          "parcoords": [
           {
            "line": {
             "colorbar": {
              "outlinewidth": 0,
              "ticks": ""
             }
            },
            "type": "parcoords"
           }
          ],
          "pie": [
           {
            "automargin": true,
            "type": "pie"
           }
          ],
          "scatter": [
           {
            "fillpattern": {
             "fillmode": "overlay",
             "size": 10,
             "solidity": 0.2
            },
            "type": "scatter"
           }
          ],
          "scatter3d": [
           {
            "line": {
             "colorbar": {
              "outlinewidth": 0,
              "ticks": ""
             }
            },
            "marker": {
             "colorbar": {
              "outlinewidth": 0,
              "ticks": ""
             }
            },
            "type": "scatter3d"
           }
          ],
          "scattercarpet": [
           {
            "marker": {
             "colorbar": {
              "outlinewidth": 0,
              "ticks": ""
             }
            },
            "type": "scattercarpet"
           }
          ],
          "scattergeo": [
           {
            "marker": {
             "colorbar": {
              "outlinewidth": 0,
              "ticks": ""
             }
            },
            "type": "scattergeo"
           }
          ],
          "scattergl": [
           {
            "marker": {
             "colorbar": {
              "outlinewidth": 0,
              "ticks": ""
             }
            },
            "type": "scattergl"
           }
          ],
          "scattermapbox": [
           {
            "marker": {
             "colorbar": {
              "outlinewidth": 0,
              "ticks": ""
             }
            },
            "type": "scattermapbox"
           }
          ],
          "scatterpolar": [
           {
            "marker": {
             "colorbar": {
              "outlinewidth": 0,
              "ticks": ""
             }
            },
            "type": "scatterpolar"
           }
          ],
          "scatterpolargl": [
           {
            "marker": {
             "colorbar": {
              "outlinewidth": 0,
              "ticks": ""
             }
            },
            "type": "scatterpolargl"
           }
          ],
          "scatterternary": [
           {
            "marker": {
             "colorbar": {
              "outlinewidth": 0,
              "ticks": ""
             }
            },
            "type": "scatterternary"
           }
          ],
          "surface": [
           {
            "colorbar": {
             "outlinewidth": 0,
             "ticks": ""
            },
            "colorscale": [
             [
              0,
              "#0d0887"
             ],
             [
              0.1111111111111111,
              "#46039f"
             ],
             [
              0.2222222222222222,
              "#7201a8"
             ],
             [
              0.3333333333333333,
              "#9c179e"
             ],
             [
              0.4444444444444444,
              "#bd3786"
             ],
             [
              0.5555555555555556,
              "#d8576b"
             ],
             [
              0.6666666666666666,
              "#ed7953"
             ],
             [
              0.7777777777777778,
              "#fb9f3a"
             ],
             [
              0.8888888888888888,
              "#fdca26"
             ],
             [
              1,
              "#f0f921"
             ]
            ],
            "type": "surface"
           }
          ],
          "table": [
           {
            "cells": {
             "fill": {
              "color": "#EBF0F8"
             },
             "line": {
              "color": "white"
             }
            },
            "header": {
             "fill": {
              "color": "#C8D4E3"
             },
             "line": {
              "color": "white"
             }
            },
            "type": "table"
           }
          ]
         },
         "layout": {
          "annotationdefaults": {
           "arrowcolor": "#2a3f5f",
           "arrowhead": 0,
           "arrowwidth": 1
          },
          "autotypenumbers": "strict",
          "coloraxis": {
           "colorbar": {
            "outlinewidth": 0,
            "ticks": ""
           }
          },
          "colorscale": {
           "diverging": [
            [
             0,
             "#8e0152"
            ],
            [
             0.1,
             "#c51b7d"
            ],
            [
             0.2,
             "#de77ae"
            ],
            [
             0.3,
             "#f1b6da"
            ],
            [
             0.4,
             "#fde0ef"
            ],
            [
             0.5,
             "#f7f7f7"
            ],
            [
             0.6,
             "#e6f5d0"
            ],
            [
             0.7,
             "#b8e186"
            ],
            [
             0.8,
             "#7fbc41"
            ],
            [
             0.9,
             "#4d9221"
            ],
            [
             1,
             "#276419"
            ]
           ],
           "sequential": [
            [
             0,
             "#0d0887"
            ],
            [
             0.1111111111111111,
             "#46039f"
            ],
            [
             0.2222222222222222,
             "#7201a8"
            ],
            [
             0.3333333333333333,
             "#9c179e"
            ],
            [
             0.4444444444444444,
             "#bd3786"
            ],
            [
             0.5555555555555556,
             "#d8576b"
            ],
            [
             0.6666666666666666,
             "#ed7953"
            ],
            [
             0.7777777777777778,
             "#fb9f3a"
            ],
            [
             0.8888888888888888,
             "#fdca26"
            ],
            [
             1,
             "#f0f921"
            ]
           ],
           "sequentialminus": [
            [
             0,
             "#0d0887"
            ],
            [
             0.1111111111111111,
             "#46039f"
            ],
            [
             0.2222222222222222,
             "#7201a8"
            ],
            [
             0.3333333333333333,
             "#9c179e"
            ],
            [
             0.4444444444444444,
             "#bd3786"
            ],
            [
             0.5555555555555556,
             "#d8576b"
            ],
            [
             0.6666666666666666,
             "#ed7953"
            ],
            [
             0.7777777777777778,
             "#fb9f3a"
            ],
            [
             0.8888888888888888,
             "#fdca26"
            ],
            [
             1,
             "#f0f921"
            ]
           ]
          },
          "colorway": [
           "#636efa",
           "#EF553B",
           "#00cc96",
           "#ab63fa",
           "#FFA15A",
           "#19d3f3",
           "#FF6692",
           "#B6E880",
           "#FF97FF",
           "#FECB52"
          ],
          "font": {
           "color": "#2a3f5f"
          },
          "geo": {
           "bgcolor": "white",
           "lakecolor": "white",
           "landcolor": "#E5ECF6",
           "showlakes": true,
           "showland": true,
           "subunitcolor": "white"
          },
          "hoverlabel": {
           "align": "left"
          },
          "hovermode": "closest",
          "mapbox": {
           "style": "light"
          },
          "paper_bgcolor": "white",
          "plot_bgcolor": "#E5ECF6",
          "polar": {
           "angularaxis": {
            "gridcolor": "white",
            "linecolor": "white",
            "ticks": ""
           },
           "bgcolor": "#E5ECF6",
           "radialaxis": {
            "gridcolor": "white",
            "linecolor": "white",
            "ticks": ""
           }
          },
          "scene": {
           "xaxis": {
            "backgroundcolor": "#E5ECF6",
            "gridcolor": "white",
            "gridwidth": 2,
            "linecolor": "white",
            "showbackground": true,
            "ticks": "",
            "zerolinecolor": "white"
           },
           "yaxis": {
            "backgroundcolor": "#E5ECF6",
            "gridcolor": "white",
            "gridwidth": 2,
            "linecolor": "white",
            "showbackground": true,
            "ticks": "",
            "zerolinecolor": "white"
           },
           "zaxis": {
            "backgroundcolor": "#E5ECF6",
            "gridcolor": "white",
            "gridwidth": 2,
            "linecolor": "white",
            "showbackground": true,
            "ticks": "",
            "zerolinecolor": "white"
           }
          },
          "shapedefaults": {
           "line": {
            "color": "#2a3f5f"
           }
          },
          "ternary": {
           "aaxis": {
            "gridcolor": "white",
            "linecolor": "white",
            "ticks": ""
           },
           "baxis": {
            "gridcolor": "white",
            "linecolor": "white",
            "ticks": ""
           },
           "bgcolor": "#E5ECF6",
           "caxis": {
            "gridcolor": "white",
            "linecolor": "white",
            "ticks": ""
           }
          },
          "title": {
           "x": 0.05
          },
          "xaxis": {
           "automargin": true,
           "gridcolor": "white",
           "linecolor": "white",
           "ticks": "",
           "title": {
            "standoff": 15
           },
           "zerolinecolor": "white",
           "zerolinewidth": 2
          },
          "yaxis": {
           "automargin": true,
           "gridcolor": "white",
           "linecolor": "white",
           "ticks": "",
           "title": {
            "standoff": 15
           },
           "zerolinecolor": "white",
           "zerolinewidth": 2
          }
         }
        },
        "xaxis": {
         "anchor": "y",
         "constrain": "domain",
         "domain": [
          0,
          1
         ],
         "scaleanchor": "y"
        },
        "yaxis": {
         "anchor": "x",
         "autorange": "reversed",
         "constrain": "domain",
         "domain": [
          0,
          1
         ]
        }
       }
      }
     },
     "metadata": {},
     "output_type": "display_data"
    }
   ],
   "source": [
    "# Reconstruimos data historical\n",
    "data_historial =  function_data_historical(data)\n",
    "print(len(set(data_historial['ID'])))\n",
    "\n",
    "data_img =  data_historial.describe().iloc[1:3,:].values\n",
    "fig = px.imshow(data_img, text_auto=True)\n",
    "fig.show()\n",
    "\n",
    "\n",
    "# fig.show(renderer=\"svg\")"
   ]
  },
  {
   "attachments": {},
   "cell_type": "markdown",
   "id": "4e2cf341",
   "metadata": {},
   "source": [
    "### Etiquetando a los alumnos que tuvieron al menos una interrupción (abandono) en su proceso educativo"
   ]
  },
  {
   "cell_type": "code",
   "execution_count": 9,
   "id": "509e6e0b",
   "metadata": {},
   "outputs": [],
   "source": [
    "# IDentificado alumnos que tuvieron un BREAK\n",
    "\n",
    "def encontrar_espacios(list_values):\n",
    "  '''\n",
    "    IDentificado alumnos que tuvieron un BREAK, \n",
    "    es decir que  abandonaron la universIDad \n",
    "    al menos un periodo.\n",
    "  '''\n",
    "  dejo_universIDad = None\n",
    "  counter = 0\n",
    "  counter_2 = counter\n",
    "  previo = -1\n",
    "  for actual in list_values:\n",
    "    if previo == 1 and actual == 0:\n",
    "        dejo_universIDad = True\n",
    "    elif dejo_universIDad:\n",
    "      counter_2 += 1\n",
    "      if actual == 1:\n",
    "       return counter_2\n",
    "    else:\n",
    "      pass    \n",
    "    previo = actual\n",
    "  return counter\n"
   ]
  },
  {
   "cell_type": "code",
   "execution_count": 10,
   "id": "4a926dc9",
   "metadata": {},
   "outputs": [
    {
     "data": {
      "text/html": [
       "<div>\n",
       "<style scoped>\n",
       "    .dataframe tbody tr th:only-of-type {\n",
       "        vertical-align: middle;\n",
       "    }\n",
       "\n",
       "    .dataframe tbody tr th {\n",
       "        vertical-align: top;\n",
       "    }\n",
       "\n",
       "    .dataframe thead th {\n",
       "        text-align: right;\n",
       "    }\n",
       "</style>\n",
       "<table border=\"1\" class=\"dataframe\">\n",
       "  <thead>\n",
       "    <tr style=\"text-align: right;\">\n",
       "      <th>SEMESTRE</th>\n",
       "      <th>ID</th>\n",
       "      <th>COD_ESTUDIANTE</th>\n",
       "      <th>ESCUELA_PROFESIONAL</th>\n",
       "      <th>ABADONO_PERIODOS</th>\n",
       "      <th>ABADONO</th>\n",
       "    </tr>\n",
       "  </thead>\n",
       "  <tbody>\n",
       "    <tr>\n",
       "      <th>0</th>\n",
       "      <td>000269e566cf69064e355019e72c1e80f8cb0042959647...</td>\n",
       "      <td>alumno1516</td>\n",
       "      <td>TURISMO</td>\n",
       "      <td>0</td>\n",
       "      <td>0</td>\n",
       "    </tr>\n",
       "    <tr>\n",
       "      <th>1</th>\n",
       "      <td>0002cb7c11f30aa6149820c5ad60e61405efc37178daee...</td>\n",
       "      <td>alumno50422</td>\n",
       "      <td>ADMINISTRACION</td>\n",
       "      <td>0</td>\n",
       "      <td>0</td>\n",
       "    </tr>\n",
       "    <tr>\n",
       "      <th>2</th>\n",
       "      <td>000390df44c1034a2a629e6e35c8d54492b487a072e72b...</td>\n",
       "      <td>alumno25682</td>\n",
       "      <td>INGENIERIA DE SISTEMAS</td>\n",
       "      <td>0</td>\n",
       "      <td>0</td>\n",
       "    </tr>\n",
       "    <tr>\n",
       "      <th>3</th>\n",
       "      <td>000403d34c694ed4eee1dd7e516ab6e46860024b9b3677...</td>\n",
       "      <td>alumno36011</td>\n",
       "      <td>ARQUITECTURA</td>\n",
       "      <td>0</td>\n",
       "      <td>0</td>\n",
       "    </tr>\n",
       "    <tr>\n",
       "      <th>4</th>\n",
       "      <td>00043f82fab338e0c4737e3409950f5f0b26eaaf367fd9...</td>\n",
       "      <td>alumno17934</td>\n",
       "      <td>DERECHO</td>\n",
       "      <td>1</td>\n",
       "      <td>1</td>\n",
       "    </tr>\n",
       "  </tbody>\n",
       "</table>\n",
       "</div>"
      ],
      "text/plain": [
       "SEMESTRE                                                 ID COD_ESTUDIANTE  \\\n",
       "0         000269e566cf69064e355019e72c1e80f8cb0042959647...     alumno1516   \n",
       "1         0002cb7c11f30aa6149820c5ad60e61405efc37178daee...    alumno50422   \n",
       "2         000390df44c1034a2a629e6e35c8d54492b487a072e72b...    alumno25682   \n",
       "3         000403d34c694ed4eee1dd7e516ab6e46860024b9b3677...    alumno36011   \n",
       "4         00043f82fab338e0c4737e3409950f5f0b26eaaf367fd9...    alumno17934   \n",
       "\n",
       "SEMESTRE     ESCUELA_PROFESIONAL  ABADONO_PERIODOS  ABADONO  \n",
       "0                        TURISMO                 0        0  \n",
       "1                 ADMINISTRACION                 0        0  \n",
       "2         INGENIERIA DE SISTEMAS                 0        0  \n",
       "3                   ARQUITECTURA                 0        0  \n",
       "4                        DERECHO                 1        1  "
      ]
     },
     "execution_count": 10,
     "metadata": {},
     "output_type": "execute_result"
    }
   ],
   "source": [
    "data_abandono = data[['ID',\n",
    "                  'COD_ESTUDIANTE',\n",
    "                  'ESCUELA_PROFESIONAL', \n",
    "                  'SEMESTRE',\n",
    "                  'SITUACION_MATRICULA']\n",
    "                 ].pivot(\n",
    "                      index=['ID', \n",
    "                             'COD_ESTUDIANTE', \n",
    "                             'ESCUELA_PROFESIONAL'], \n",
    "                      columns='SEMESTRE', \n",
    "                      values='SITUACION_MATRICULA'\n",
    "                    )\n",
    "                 \n",
    "data_abandono = data_abandono.reset_index(drop=False)\n",
    "data_abandono['lista'] = data_abandono.iloc[:,3:].values.tolist()\n",
    "\n",
    "data_abandono['ABADONO_PERIODOS'] = data_abandono['lista'].apply(lambda x: encontrar_espacios(x))\n",
    "data_abandono = data_abandono[['ID', 'COD_ESTUDIANTE', 'ESCUELA_PROFESIONAL', 'ABADONO_PERIODOS']]\n",
    "\n",
    "data_abandono['ABADONO'] = data_abandono['ABADONO_PERIODOS'].apply(lambda x: 1 if x>0 else 0)\n",
    "\n",
    "data_abandono.head()"
   ]
  },
  {
   "attachments": {},
   "cell_type": "markdown",
   "id": "a0e39738",
   "metadata": {},
   "source": [
    "##### Figura"
   ]
  },
  {
   "cell_type": "code",
   "execution_count": 11,
   "id": "d712e629",
   "metadata": {},
   "outputs": [
    {
     "data": {
      "text/html": [
       "<div>\n",
       "<style scoped>\n",
       "    .dataframe tbody tr th:only-of-type {\n",
       "        vertical-align: middle;\n",
       "    }\n",
       "\n",
       "    .dataframe tbody tr th {\n",
       "        vertical-align: top;\n",
       "    }\n",
       "\n",
       "    .dataframe thead th {\n",
       "        text-align: right;\n",
       "    }\n",
       "</style>\n",
       "<table border=\"1\" class=\"dataframe\">\n",
       "  <thead>\n",
       "    <tr style=\"text-align: right;\">\n",
       "      <th></th>\n",
       "      <th>NUM_MATRICULAS</th>\n",
       "      <th>per</th>\n",
       "    </tr>\n",
       "    <tr>\n",
       "      <th>ABADONO</th>\n",
       "      <th></th>\n",
       "      <th></th>\n",
       "    </tr>\n",
       "  </thead>\n",
       "  <tbody>\n",
       "    <tr>\n",
       "      <th>0</th>\n",
       "      <td>20148</td>\n",
       "      <td>0.751258</td>\n",
       "    </tr>\n",
       "    <tr>\n",
       "      <th>1</th>\n",
       "      <td>6671</td>\n",
       "      <td>0.248742</td>\n",
       "    </tr>\n",
       "  </tbody>\n",
       "</table>\n",
       "</div>"
      ],
      "text/plain": [
       "         NUM_MATRICULAS       per\n",
       "ABADONO                          \n",
       "0                 20148  0.751258\n",
       "1                  6671  0.248742"
      ]
     },
     "execution_count": 11,
     "metadata": {},
     "output_type": "execute_result"
    }
   ],
   "source": [
    "abc = data_abandono.groupby(['ABADONO']).agg(NUM_MATRICULAS=('ID','count'))\n",
    "abc_sum = abc['NUM_MATRICULAS'].sum()\n",
    "abc['per'] = abc['NUM_MATRICULAS']/abc_sum\n",
    "abc"
   ]
  },
  {
   "attachments": {},
   "cell_type": "markdown",
   "id": "b032d3cd",
   "metadata": {},
   "source": [
    "### Preparación de datos"
   ]
  },
  {
   "cell_type": "code",
   "execution_count": 12,
   "id": "34cfd712",
   "metadata": {},
   "outputs": [
    {
     "name": "stdout",
     "output_type": "stream",
     "text": [
      "Alumnos activos el ultimo semestre (2021-1): 8013\n"
     ]
    }
   ],
   "source": [
    "# Lista de alumnos que registran matricula en el ultimo semestre\n",
    "ultimo_semestre = data['SEMESTRE'].max()\n",
    "set_alumnos_activos_ultimo_semestre = set(data[(data['SITUACION_MATRICULA']==1) & (data['SEMESTRE']==ultimo_semestre)]['ID'])\n",
    "print('Alumnos activos el ultimo semestre ('+ultimo_semestre+'): '+ str(len(set_alumnos_activos_ultimo_semestre)))\n"
   ]
  },
  {
   "cell_type": "code",
   "execution_count": 13,
   "id": "3a6e4d5f",
   "metadata": {},
   "outputs": [
    {
     "name": "stdout",
     "output_type": "stream",
     "text": [
      "Alumnos aun estudiando: 5553\n",
      "Alumnos para los que debemos predecir: 2048\n"
     ]
    },
    {
     "name": "stderr",
     "output_type": "stream",
     "text": [
      "/var/folders/yh/mnw4_865319d05f6fkrpt6280000gn/T/ipykernel_34340/1448021903.py:10: FutureWarning:\n",
      "\n",
      "Dropping of nuisance columns in DataFrame reductions (with 'numeric_only=None') is deprecated; in a future version this will raise TypeError.  Select only valid columns before calling the reduction.\n",
      "\n"
     ]
    }
   ],
   "source": [
    "def function_activity(x):\n",
    "  if x > 0:\n",
    "    return 1\n",
    "  return 0\n",
    "\n",
    "# \n",
    "data_historial_01 = data_historial.iloc[:,3:].applymap(function_activity)\n",
    "data_historial_01['ID'] = data_historial[['ID']]\n",
    "\n",
    "data_historial_01['para_no_termina'] = data_historial_01.iloc[:,8:].sum(axis=1) # alumnos que no cursaron desde el 10 ciclo\n",
    "\n",
    "n = 5\n",
    "data_historial_01['para_al_menos_n_ciclos'] = data_historial_01.iloc[:,0:n].sum(axis=1) # alumnos con al menos 5 ciclos registrados\n",
    "\n",
    "data_historial_01['alumno_activo'] = (data_historial_01['para_no_termina']==0) & (data_historial_01['ID'].isin(set_alumnos_activos_ultimo_semestre))\n",
    "data_historial_01['alumno_muestra'] = (data_historial_01['para_al_menos_n_ciclos']<n) & (data_historial_01['ID'].isin(set_alumnos_activos_ultimo_semestre) & (data_historial_01['alumno_activo']))\n",
    "data_historial_01.head()\n",
    "\n",
    "alumno_muestra = set(data_historial_01[data_historial_01['alumno_muestra']]['ID'])\n",
    "alumnos_estudiando = set(data_historial_01[data_historial_01['alumno_activo']==True]['ID'])\n",
    "\n",
    "print(\"Alumnos aun estudiando: \"+str(len(alumnos_estudiando)))\n",
    "print(\"Alumnos para los que debemos predecir: \"+str(len(alumno_muestra)))"
   ]
  },
  {
   "cell_type": "code",
   "execution_count": 14,
   "id": "97643976",
   "metadata": {},
   "outputs": [
    {
     "data": {
      "text/html": [
       "<div>\n",
       "<style scoped>\n",
       "    .dataframe tbody tr th:only-of-type {\n",
       "        vertical-align: middle;\n",
       "    }\n",
       "\n",
       "    .dataframe tbody tr th {\n",
       "        vertical-align: top;\n",
       "    }\n",
       "\n",
       "    .dataframe thead th {\n",
       "        text-align: right;\n",
       "    }\n",
       "</style>\n",
       "<table border=\"1\" class=\"dataframe\">\n",
       "  <thead>\n",
       "    <tr style=\"text-align: right;\">\n",
       "      <th></th>\n",
       "      <th>NUM_ALUMNOS</th>\n",
       "      <th>per</th>\n",
       "    </tr>\n",
       "    <tr>\n",
       "      <th>alumno_activo</th>\n",
       "      <th></th>\n",
       "      <th></th>\n",
       "    </tr>\n",
       "  </thead>\n",
       "  <tbody>\n",
       "    <tr>\n",
       "      <th>False</th>\n",
       "      <td>15194</td>\n",
       "      <td>0.732347</td>\n",
       "    </tr>\n",
       "    <tr>\n",
       "      <th>True</th>\n",
       "      <td>5553</td>\n",
       "      <td>0.267653</td>\n",
       "    </tr>\n",
       "  </tbody>\n",
       "</table>\n",
       "</div>"
      ],
      "text/plain": [
       "               NUM_ALUMNOS       per\n",
       "alumno_activo                       \n",
       "False                15194  0.732347\n",
       "True                  5553  0.267653"
      ]
     },
     "execution_count": 14,
     "metadata": {},
     "output_type": "execute_result"
    }
   ],
   "source": [
    "abc = data_historial_01.groupby(['alumno_activo']).agg(NUM_ALUMNOS=('ID','count'))\n",
    "abc_sum = abc['NUM_ALUMNOS'].sum()\n",
    "abc['per'] = abc['NUM_ALUMNOS']/abc_sum\n",
    "abc"
   ]
  },
  {
   "attachments": {},
   "cell_type": "markdown",
   "id": "458c0879",
   "metadata": {},
   "source": [
    "### Reduciendo categorias"
   ]
  },
  {
   "cell_type": "code",
   "execution_count": 15,
   "id": "5cf6529f",
   "metadata": {},
   "outputs": [],
   "source": [
    "data.head()\n",
    "\n",
    "facultades_data = pd.read_excel('data/Relacion de Escuelas Profesionales por facultad.xlsx', skiprows=3)\n",
    "facultades_data['ESCUELA_PROFESIONAL'] = facultades_data['ESCUELA PROFESIONAL'].apply(lambda x: x.upper().strip())\n",
    "facultades_data = facultades_data.set_index('ESCUELA_PROFESIONAL')\n",
    "facultades_data.head()\n",
    "facultades_data = facultades_data[['ACRONIMO']].to_dict('index')\n",
    "\n",
    "def buscar_escuela(x):\n",
    "  x = x.upper().strip()\n",
    "  resp = ''\n",
    "  try:\n",
    "    resp = facultades_data[x]['ACRONIMO']\n",
    "  except:\n",
    "    resp = x\n",
    "    resp = 'OTROS'\n",
    "  return resp\n",
    "\n",
    "data['ESCUELA_PROFESIONAL'] = data['ESCUELA_PROFESIONAL'].apply(lambda x: buscar_escuela(x))\n"
   ]
  },
  {
   "cell_type": "code",
   "execution_count": 16,
   "id": "8b9692da",
   "metadata": {},
   "outputs": [],
   "source": [
    "def definir_procedencia(x):\n",
    "  d = x['DISTRITO_NAC']\n",
    "  p = x['PROVINCIA_NAC']\n",
    "  r = x['DEPARTAMENTO_NACIMIENTO']\n",
    "\n",
    "  if p == 'CUSCO':\n",
    "    return 'LUGARENIO'\n",
    "  else:\n",
    "    return 'FORANEO'\n",
    "\n",
    "data['PROCEDENCIA'] = data[['DISTRITO_NAC', 'PROVINCIA_NAC', 'DEPARTAMENTO_NACIMIENTO']].apply(lambda x: definir_procedencia(x), axis=1)\n",
    "del data['DISTRITO_NAC']\n",
    "del data['PROVINCIA_NAC']\n",
    "del data['DEPARTAMENTO_NACIMIENTO']\n"
   ]
  },
  {
   "cell_type": "code",
   "execution_count": 17,
   "id": "4ffa96ee",
   "metadata": {},
   "outputs": [],
   "source": [
    "\n",
    "def definir_modalidad_ingreso(x):\n",
    "# {'                                                  ',\n",
    "#  'ADJUDICACIONES',\n",
    "#  'ALUMNO LIBRE',\n",
    "#  'MOVILIDAD EXTERNA',\n",
    "#  'PERSONAS EN CONDICIÓN DE DISCAPACIDAD',\n",
    "#  'TERCIO SUPERIOR DE MERITO ACADÉMICO DE COLEGIOS DE',\n",
    "#  'TITULADOS DE INSTITUTOS SUPERIORES',\n",
    "#  'sin especificar'}\n",
    "\n",
    "  if x in ['CONCURSO DE ADMISIÓN PARA ESTUDIANTES 5TO SECUNDAR', 'CONCURSO ORDINARIO DE ADMISIÓN ',\n",
    "           'DEPORTISTAS DESTACADOS','GRADUADOS O TITULADOS UNIVERSITARIOS', 'COLEGIOS DE ALTO RENDIMIENTO ACADEMICO',\n",
    "           'PRIMEROS PUESTOS DE EDUCACIÓN SECUNDARIA DE CUSCO',]:\n",
    "    return 'CONCURSO'\n",
    "  elif x in ['CICLO DE NIVELACION', 'CICLO PRE UNIVERSITARIO EXTRAORDINARIO', 'CICLO PRE UNIVERSITARIO ORDINARIO']:\n",
    "    return 'TRASLADO'\n",
    "  elif x in ['TRASLADOS EXTERNOS', 'TRASLADOS INTERNOS', 'TRASLADOS INTERNOS EN FACULTAD', 'MOVILIDAD EXTERNA']:\n",
    "    return 'PRE'\n",
    "  else:  \n",
    "    return 'OTRO'\n",
    "  \n",
    "\n",
    "data['MODAL_INGRESO'] = data['MODAL_INGRESO'].apply(lambda x: definir_modalidad_ingreso(x))"
   ]
  },
  {
   "attachments": {},
   "cell_type": "markdown",
   "id": "0f15256f",
   "metadata": {},
   "source": [
    "### Preparación de datos"
   ]
  },
  {
   "attachments": {},
   "cell_type": "markdown",
   "id": "b3950e16",
   "metadata": {},
   "source": [
    "### Data para predecir"
   ]
  },
  {
   "cell_type": "code",
   "execution_count": 18,
   "id": "780ab8b7",
   "metadata": {},
   "outputs": [],
   "source": [
    "# alumnos iniciantes que queremos saber si tienen la posibilidad de abandonar\n",
    "#data_to_predict = data[data['ID'].isin(alumno_muestra)].reset_index(drop=True)\n",
    "\n",
    "# grupo de alumnos cuyos datos estan completos\n",
    "data_to_work = data[~data['ID'].isin(alumno_muestra)].reset_index(drop=True)"
   ]
  },
  {
   "cell_type": "code",
   "execution_count": 19,
   "id": "163d68df",
   "metadata": {},
   "outputs": [
    {
     "data": {
      "text/html": [
       "<div>\n",
       "<style scoped>\n",
       "    .dataframe tbody tr th:only-of-type {\n",
       "        vertical-align: middle;\n",
       "    }\n",
       "\n",
       "    .dataframe tbody tr th {\n",
       "        vertical-align: top;\n",
       "    }\n",
       "\n",
       "    .dataframe thead th {\n",
       "        text-align: right;\n",
       "    }\n",
       "</style>\n",
       "<table border=\"1\" class=\"dataframe\">\n",
       "  <thead>\n",
       "    <tr style=\"text-align: right;\">\n",
       "      <th></th>\n",
       "      <th>SEMESTRE</th>\n",
       "      <th>COD_ESTUDIANTE</th>\n",
       "      <th>ESCUELA_PROFESIONAL</th>\n",
       "      <th>SITUACION_MATRICULA</th>\n",
       "      <th>CANT_CURSOS_APROBADOS</th>\n",
       "      <th>CANT_CURSOS_DESAPROBADOS</th>\n",
       "      <th>CANT_CURSOS_NSP</th>\n",
       "      <th>CANT_CRED_APROBADOS</th>\n",
       "      <th>CANT_CRED_DESAPROBADOS</th>\n",
       "      <th>CANT_CRED_NSP</th>\n",
       "      <th>...</th>\n",
       "      <th>CANT_CRED_CONVALIDADOS</th>\n",
       "      <th>PUNT_EXAMEN_ADMINISION</th>\n",
       "      <th>MODAL_INGRESO</th>\n",
       "      <th>COLEGIO_PROCEDENCIA</th>\n",
       "      <th>TIPO_COLEGIO</th>\n",
       "      <th>SEXO_ESTUDIANTE</th>\n",
       "      <th>EDAD_INGRESANTE</th>\n",
       "      <th>NUM_INGRESOS_UNIVERSIDAD</th>\n",
       "      <th>ID</th>\n",
       "      <th>PROCEDENCIA</th>\n",
       "    </tr>\n",
       "  </thead>\n",
       "  <tbody>\n",
       "    <tr>\n",
       "      <th>26</th>\n",
       "      <td>2010-1</td>\n",
       "      <td>alumno6</td>\n",
       "      <td>FD</td>\n",
       "      <td>0</td>\n",
       "      <td>0</td>\n",
       "      <td>0</td>\n",
       "      <td>0</td>\n",
       "      <td>0.0</td>\n",
       "      <td>0.0</td>\n",
       "      <td>0.0</td>\n",
       "      <td>...</td>\n",
       "      <td>0</td>\n",
       "      <td>0</td>\n",
       "      <td>CONCURSO</td>\n",
       "      <td>...</td>\n",
       "      <td>...</td>\n",
       "      <td>M</td>\n",
       "      <td>NaN</td>\n",
       "      <td>1</td>\n",
       "      <td>1228258f98fad6c279879ebe5d1fbd837ca01c37b2fc35...</td>\n",
       "      <td>FORANEO</td>\n",
       "    </tr>\n",
       "    <tr>\n",
       "      <th>27</th>\n",
       "      <td>2010-2</td>\n",
       "      <td>alumno6</td>\n",
       "      <td>FD</td>\n",
       "      <td>0</td>\n",
       "      <td>0</td>\n",
       "      <td>0</td>\n",
       "      <td>0</td>\n",
       "      <td>0.0</td>\n",
       "      <td>0.0</td>\n",
       "      <td>0.0</td>\n",
       "      <td>...</td>\n",
       "      <td>0</td>\n",
       "      <td>0</td>\n",
       "      <td>CONCURSO</td>\n",
       "      <td>...</td>\n",
       "      <td>...</td>\n",
       "      <td>M</td>\n",
       "      <td>NaN</td>\n",
       "      <td>1</td>\n",
       "      <td>1228258f98fad6c279879ebe5d1fbd837ca01c37b2fc35...</td>\n",
       "      <td>FORANEO</td>\n",
       "    </tr>\n",
       "    <tr>\n",
       "      <th>28</th>\n",
       "      <td>2011-1</td>\n",
       "      <td>alumno6</td>\n",
       "      <td>FD</td>\n",
       "      <td>0</td>\n",
       "      <td>0</td>\n",
       "      <td>0</td>\n",
       "      <td>0</td>\n",
       "      <td>0.0</td>\n",
       "      <td>0.0</td>\n",
       "      <td>0.0</td>\n",
       "      <td>...</td>\n",
       "      <td>0</td>\n",
       "      <td>0</td>\n",
       "      <td>CONCURSO</td>\n",
       "      <td>...</td>\n",
       "      <td>...</td>\n",
       "      <td>M</td>\n",
       "      <td>NaN</td>\n",
       "      <td>1</td>\n",
       "      <td>1228258f98fad6c279879ebe5d1fbd837ca01c37b2fc35...</td>\n",
       "      <td>FORANEO</td>\n",
       "    </tr>\n",
       "    <tr>\n",
       "      <th>29</th>\n",
       "      <td>2011-2</td>\n",
       "      <td>alumno6</td>\n",
       "      <td>FD</td>\n",
       "      <td>0</td>\n",
       "      <td>0</td>\n",
       "      <td>0</td>\n",
       "      <td>0</td>\n",
       "      <td>0.0</td>\n",
       "      <td>0.0</td>\n",
       "      <td>0.0</td>\n",
       "      <td>...</td>\n",
       "      <td>0</td>\n",
       "      <td>0</td>\n",
       "      <td>CONCURSO</td>\n",
       "      <td>...</td>\n",
       "      <td>...</td>\n",
       "      <td>M</td>\n",
       "      <td>NaN</td>\n",
       "      <td>1</td>\n",
       "      <td>1228258f98fad6c279879ebe5d1fbd837ca01c37b2fc35...</td>\n",
       "      <td>FORANEO</td>\n",
       "    </tr>\n",
       "    <tr>\n",
       "      <th>30</th>\n",
       "      <td>2011-3</td>\n",
       "      <td>alumno6</td>\n",
       "      <td>FD</td>\n",
       "      <td>1</td>\n",
       "      <td>3</td>\n",
       "      <td>0</td>\n",
       "      <td>0</td>\n",
       "      <td>11.0</td>\n",
       "      <td>0.0</td>\n",
       "      <td>0.0</td>\n",
       "      <td>...</td>\n",
       "      <td>0</td>\n",
       "      <td>0</td>\n",
       "      <td>CONCURSO</td>\n",
       "      <td>...</td>\n",
       "      <td>...</td>\n",
       "      <td>M</td>\n",
       "      <td>NaN</td>\n",
       "      <td>1</td>\n",
       "      <td>1228258f98fad6c279879ebe5d1fbd837ca01c37b2fc35...</td>\n",
       "      <td>FORANEO</td>\n",
       "    </tr>\n",
       "  </tbody>\n",
       "</table>\n",
       "<p>5 rows × 89 columns</p>\n",
       "</div>"
      ],
      "text/plain": [
       "   SEMESTRE COD_ESTUDIANTE ESCUELA_PROFESIONAL  SITUACION_MATRICULA  \\\n",
       "26   2010-1        alumno6                  FD                    0   \n",
       "27   2010-2        alumno6                  FD                    0   \n",
       "28   2011-1        alumno6                  FD                    0   \n",
       "29   2011-2        alumno6                  FD                    0   \n",
       "30   2011-3        alumno6                  FD                    1   \n",
       "\n",
       "    CANT_CURSOS_APROBADOS  CANT_CURSOS_DESAPROBADOS  CANT_CURSOS_NSP  \\\n",
       "26                      0                         0                0   \n",
       "27                      0                         0                0   \n",
       "28                      0                         0                0   \n",
       "29                      0                         0                0   \n",
       "30                      3                         0                0   \n",
       "\n",
       "    CANT_CRED_APROBADOS  CANT_CRED_DESAPROBADOS  CANT_CRED_NSP  ...  \\\n",
       "26                  0.0                     0.0            0.0  ...   \n",
       "27                  0.0                     0.0            0.0  ...   \n",
       "28                  0.0                     0.0            0.0  ...   \n",
       "29                  0.0                     0.0            0.0  ...   \n",
       "30                 11.0                     0.0            0.0  ...   \n",
       "\n",
       "    CANT_CRED_CONVALIDADOS  PUNT_EXAMEN_ADMINISION  MODAL_INGRESO  \\\n",
       "26                       0                       0       CONCURSO   \n",
       "27                       0                       0       CONCURSO   \n",
       "28                       0                       0       CONCURSO   \n",
       "29                       0                       0       CONCURSO   \n",
       "30                       0                       0       CONCURSO   \n",
       "\n",
       "                                  COLEGIO_PROCEDENCIA  \\\n",
       "26                                                ...   \n",
       "27                                                ...   \n",
       "28                                                ...   \n",
       "29                                                ...   \n",
       "30                                                ...   \n",
       "\n",
       "                                         TIPO_COLEGIO  SEXO_ESTUDIANTE  \\\n",
       "26                                                ...                M   \n",
       "27                                                ...                M   \n",
       "28                                                ...                M   \n",
       "29                                                ...                M   \n",
       "30                                                ...                M   \n",
       "\n",
       "    EDAD_INGRESANTE  NUM_INGRESOS_UNIVERSIDAD  \\\n",
       "26              NaN                         1   \n",
       "27              NaN                         1   \n",
       "28              NaN                         1   \n",
       "29              NaN                         1   \n",
       "30              NaN                         1   \n",
       "\n",
       "                                                   ID  PROCEDENCIA  \n",
       "26  1228258f98fad6c279879ebe5d1fbd837ca01c37b2fc35...      FORANEO  \n",
       "27  1228258f98fad6c279879ebe5d1fbd837ca01c37b2fc35...      FORANEO  \n",
       "28  1228258f98fad6c279879ebe5d1fbd837ca01c37b2fc35...      FORANEO  \n",
       "29  1228258f98fad6c279879ebe5d1fbd837ca01c37b2fc35...      FORANEO  \n",
       "30  1228258f98fad6c279879ebe5d1fbd837ca01c37b2fc35...      FORANEO  \n",
       "\n",
       "[5 rows x 89 columns]"
      ]
     },
     "execution_count": 19,
     "metadata": {},
     "output_type": "execute_result"
    }
   ],
   "source": [
    "data_to_work[(data_to_work['ID']=='1228258f98fad6c279879ebe5d1fbd837ca01c37b2fc3588d495a377d2aeaf80')].head()"
   ]
  },
  {
   "cell_type": "code",
   "execution_count": 20,
   "id": "717da234",
   "metadata": {},
   "outputs": [],
   "source": [
    "data_to_work = data_to_work[data_to_work['SITUACION_MATRICULA']==1] # cuan tuvieron activIDad academica\n",
    "data_features = data_to_work.groupby(['ID']).agg(\n",
    "                        NUM_MATRICULAS=('SEMESTRE','count'),\n",
    "                        COD_ESTUDIANTE=('COD_ESTUDIANTE','max'),\n",
    "                        ESCUELA_PROFESIONAL=('ESCUELA_PROFESIONAL','max'),\n",
    "                        \n",
    "                        NUM_CURSOS_APR_CICLO_01=('CANT_CURSO_MAT_CICLO_01','sum'),\n",
    "                        NUM_CURSOS_APR_CICLO_02=('CANT_CURSO_MAT_CICLO_02','sum'),\n",
    "                        NUM_CURSOS_APR_CICLO_03=('CANT_CURSO_MAT_CICLO_03','sum'),\n",
    "                        NUM_CURSOS_APR_CICLO_04=('CANT_CURSO_MAT_CICLO_04','sum'),\n",
    "                        NUM_CURSOS_APR_CICLO_05=('CANT_CURSO_MAT_CICLO_05','sum'),\n",
    "                        NUM_CURSOS_APR_CICLO_06=('CANT_CURSO_MAT_CICLO_06','sum'),\n",
    "                        NUM_CURSOS_APR_CICLO_07=('CANT_CURSO_MAT_CICLO_07','sum'),\n",
    "                        NUM_CURSOS_APR_CICLO_08=('CANT_CURSO_MAT_CICLO_08','sum'),\n",
    "                        NUM_CURSOS_APR_CICLO_09=('CANT_CURSO_MAT_CICLO_09','sum'),\n",
    "                        NUM_CURSOS_APR_CICLO_10=('CANT_CURSO_MAT_CICLO_10','sum'),\n",
    "                        NUM_CURSOS_APR_CICLO_11=('CANT_CURSO_MAT_CICLO_11','sum'),\n",
    "                        NUM_CURSOS_APR_CICLO_12=('CANT_CURSO_MAT_CICLO_12','sum'),\n",
    "                        NUM_CURSOS_APR_CICLO_13=('CANT_CURSO_MAT_CICLO_13','sum'),\n",
    "                        NUM_CURSOS_APR_CICLO_14=('CANT_CURSO_MAT_CICLO_14','sum'),\n",
    "                        # ratio\n",
    "                        CANT_CRED_APR_CICLO_01=('CANT_CRED_MAT_CICLO_01','sum'),\n",
    "                        CANT_CRED_APR_CICLO_02=('CANT_CRED_MAT_CICLO_02','sum'),\n",
    "                        CANT_CRED_APR_CICLO_03=('CANT_CRED_MAT_CICLO_03','sum'),\n",
    "                        CANT_CRED_APR_CICLO_04=('CANT_CRED_MAT_CICLO_04','sum'),\n",
    "                        CANT_CRED_APR_CICLO_05=('CANT_CRED_MAT_CICLO_05','sum'),\n",
    "                        CANT_CRED_APR_CICLO_06=('CANT_CRED_MAT_CICLO_06','sum'),\n",
    "                        CANT_CRED_APR_CICLO_07=('CANT_CRED_MAT_CICLO_07','sum'),\n",
    "                        CANT_CRED_APR_CICLO_08=('CANT_CRED_MAT_CICLO_08','sum'),\n",
    "                        CANT_CRED_APR_CICLO_09=('CANT_CRED_MAT_CICLO_09','sum'),\n",
    "                        CANT_CRED_APR_CICLO_10=('CANT_CRED_MAT_CICLO_10','sum'),\n",
    "                        CANT_CRED_APR_CICLO_11=('CANT_CRED_MAT_CICLO_11','sum'),\n",
    "                        CANT_CRED_APR_CICLO_12=('CANT_CRED_MAT_CICLO_12','sum'),\n",
    "                        CANT_CRED_APR_CICLO_13=('CANT_CRED_MAT_CICLO_13','sum'),\n",
    "                        CANT_CRED_APR_CICLO_14=('CANT_CRED_MAT_CICLO_14','sum'),\n",
    "                        NUM_CURSOS_DES_CICLO_01=('CANT_CURSO_MAT_DES_CICLO_01','sum'),\n",
    "                        NUM_CURSOS_DES_CICLO_02=('CANT_CURSO_MAT_DES_CICLO_02','sum'),\n",
    "                        NUM_CURSOS_DES_CICLO_03=('CANT_CURSO_MAT_DES_CICLO_03','sum'),\n",
    "                        NUM_CURSOS_DES_CICLO_04=('CANT_CURSO_MAT_DES_CICLO_04','sum'),\n",
    "                        NUM_CURSOS_DES_CICLO_05=('CANT_CURSO_MAT_DES_CICLO_05','sum'),\n",
    "                        NUM_CURSOS_DES_CICLO_06=('CANT_CURSO_MAT_DES_CICLO_06','sum'),\n",
    "                        NUM_CURSOS_DES_CICLO_07=('CANT_CURSO_MAT_DES_CICLO_07','sum'),\n",
    "                        NUM_CURSOS_DES_CICLO_08=('CANT_CURSO_MAT_DES_CICLO_08','sum'),\n",
    "                        NUM_CURSOS_DES_CICLO_09=('CANT_CURSO_MAT_DES_CICLO_09','sum'),\n",
    "                        NUM_CURSOS_DES_CICLO_10=('CANT_CURSO_MAT_DES_CICLO_10','sum'),\n",
    "                        NUM_CURSOS_DES_CICLO_11=('CANT_CURSO_MAT_DES_CICLO_11','sum'),\n",
    "                        NUM_CURSOS_DES_CICLO_12=('CANT_CURSO_MAT_DES_CICLO_12','sum'),\n",
    "                        NUM_CURSOS_DES_CICLO_13=('CANT_CURSO_MAT_DES_CICLO_13','sum'),\n",
    "                        NUM_CURSOS_DES_CICLO_14=('CANT_CURSO_MAT_DES_CICLO_14','sum'),\n",
    "                        CANT_CRED_DES_CICLO_01=('CANT_CRED_MAT_DES_CICLO_01','sum'),\n",
    "                        CANT_CRED_DES_CICLO_02=('CANT_CRED_MAT_DES_CICLO_02','sum'),\n",
    "                        CANT_CRED_DES_CICLO_03=('CANT_CRED_MAT_DES_CICLO_03','sum'),\n",
    "                        CANT_CRED_DES_CICLO_04=('CANT_CRED_MAT_DES_CICLO_04','sum'),\n",
    "                        CANT_CRED_DES_CICLO_05=('CANT_CRED_MAT_DES_CICLO_05','sum'),\n",
    "                        CANT_CRED_DES_CICLO_06=('CANT_CRED_MAT_DES_CICLO_06','sum'),\n",
    "                        CANT_CRED_DES_CICLO_07=('CANT_CRED_MAT_DES_CICLO_07','sum'),\n",
    "                        CANT_CRED_DES_CICLO_08=('CANT_CRED_MAT_DES_CICLO_08','sum'),\n",
    "                        CANT_CRED_DES_CICLO_09=('CANT_CRED_MAT_DES_CICLO_09','sum'),\n",
    "                        CANT_CRED_DES_CICLO_10=('CANT_CRED_MAT_DES_CICLO_10','sum'),\n",
    "                        CANT_CRED_DES_CICLO_11=('CANT_CRED_MAT_DES_CICLO_11','sum'),\n",
    "                        CANT_CRED_DES_CICLO_12=('CANT_CRED_MAT_DES_CICLO_12','sum'),\n",
    "                        CANT_CRED_DES_CICLO_13=('CANT_CRED_MAT_DES_CICLO_13','sum'),\n",
    "                        CANT_CRED_DES_CICLO_14=('CANT_CRED_MAT_DES_CICLO_14','sum'),\n",
    "                        \n",
    "                        PORC_ASISTENCIA_MEAN=('PORC_ASISTENCIA','mean'),\n",
    "                        PORC_ASISTENCIA_STD=('PORC_ASISTENCIA','std'),\n",
    "                        EDAD_ANIO_ESTUDIO_MIN=('EDAD_ANIO_ESTUDIO','min'),\n",
    "                        # EDAD_ANIO_ESTUDIO_MAX=('EDAD_ANIO_ESTUDIO','max'),\n",
    "                        SITUACION_DESERCION_AL_SEM=('SITUACION_DESERCION_AL_SEM','mean'),\n",
    "                        # PLAN_ESTUDIOS_INGRESO=('PLAN_ESTUDIOS_INGRESO','min'),\n",
    "                        # PLAN_ESTUDIOS_ACTUAL=('PLAN_ESTUDIOS_ACTUAL','max'),\n",
    "                        PLAN_ESTUDIOS_CAMBIO=('PLAN_ESTUDIOS_ACTUAL','count'),\n",
    "                        MONTO_PENSION_MEAN=('MONTO_PENSION','mean'),\n",
    "                        MONTO_PENSION_STD=('MONTO_PENSION','std'),\n",
    "                        # MONTO_PENSION_MIN=('MONTO_PENSION','min'),\n",
    "                        # MONTO_PENSION_MAX=('MONTO_PENSION','max'),\n",
    "                        MATRICULA_EXTEMPORANEO=('MATRICULA_EXTEMPORANEO','sum'),\n",
    "                        CANT_ASIG_CONVALIDADOS=('CANT_ASIG_CONVALIDADOS','sum'),\n",
    "                        CANT_CRED_CONVALIDADOS=('CANT_CRED_CONVALIDADOS','sum'),\n",
    "                        PUNT_EXAMEN_ADMINISION=('PUNT_EXAMEN_ADMINISION','mean'),\n",
    "                        MODAL_INGRESO=('MODAL_INGRESO','max'),\n",
    "                        #COLEGIO_PROCEDENCIA=('COLEGIO_PROCEDENCIA','max'),\n",
    "                        TIPO_COLEGIO=('TIPO_COLEGIO','max'),\n",
    "                        SEXO_ESTUDIANTE=('SEXO_ESTUDIANTE','max'),\n",
    "                        EDAD_INGRESANTE=('EDAD_INGRESANTE','min'),\n",
    "                        NUM_INGRESOS_UNIVERSIDAD=('NUM_INGRESOS_UNIVERSIDAD','mean'),\n",
    "                        #DEPARTAMENTO_NACIMIENTO=('DEPARTAMENTO_NACIMIENTO','max'),\n",
    "                        #PROVINCIA_NACIMIENTO=('PROVINCIA_NAC','max'),\n",
    "                        #DISTRITO_NACIMIENTO=('DISTRITO_NAC','max'),\n",
    "                        PROCEDENCIA=('PROCEDENCIA','max'),\n",
    "        ).sort_values(by=['COD_ESTUDIANTE'], ascending=False)\n",
    "\n",
    "data_features = data_features.reset_index(drop=False)"
   ]
  },
  {
   "cell_type": "code",
   "execution_count": 21,
   "id": "605f8ff8",
   "metadata": {},
   "outputs": [
    {
     "data": {
      "text/html": [
       "<div>\n",
       "<style scoped>\n",
       "    .dataframe tbody tr th:only-of-type {\n",
       "        vertical-align: middle;\n",
       "    }\n",
       "\n",
       "    .dataframe tbody tr th {\n",
       "        vertical-align: top;\n",
       "    }\n",
       "\n",
       "    .dataframe thead th {\n",
       "        text-align: right;\n",
       "    }\n",
       "</style>\n",
       "<table border=\"1\" class=\"dataframe\">\n",
       "  <thead>\n",
       "    <tr style=\"text-align: right;\">\n",
       "      <th></th>\n",
       "      <th>ID</th>\n",
       "      <th>NUM_MATRICULAS</th>\n",
       "      <th>COD_ESTUDIANTE</th>\n",
       "      <th>ESCUELA_PROFESIONAL</th>\n",
       "      <th>NUM_CURSOS_APR_CICLO_01</th>\n",
       "      <th>NUM_CURSOS_APR_CICLO_02</th>\n",
       "      <th>NUM_CURSOS_APR_CICLO_03</th>\n",
       "      <th>NUM_CURSOS_APR_CICLO_04</th>\n",
       "      <th>NUM_CURSOS_APR_CICLO_05</th>\n",
       "      <th>NUM_CURSOS_APR_CICLO_06</th>\n",
       "      <th>...</th>\n",
       "      <th>MATRICULA_EXTEMPORANEO</th>\n",
       "      <th>CANT_ASIG_CONVALIDADOS</th>\n",
       "      <th>CANT_CRED_CONVALIDADOS</th>\n",
       "      <th>PUNT_EXAMEN_ADMINISION</th>\n",
       "      <th>MODAL_INGRESO</th>\n",
       "      <th>TIPO_COLEGIO</th>\n",
       "      <th>SEXO_ESTUDIANTE</th>\n",
       "      <th>EDAD_INGRESANTE</th>\n",
       "      <th>NUM_INGRESOS_UNIVERSIDAD</th>\n",
       "      <th>PROCEDENCIA</th>\n",
       "    </tr>\n",
       "  </thead>\n",
       "  <tbody>\n",
       "    <tr>\n",
       "      <th>1029</th>\n",
       "      <td>1228258f98fad6c279879ebe5d1fbd837ca01c37b2fc35...</td>\n",
       "      <td>10</td>\n",
       "      <td>alumno6</td>\n",
       "      <td>FD</td>\n",
       "      <td>1</td>\n",
       "      <td>5</td>\n",
       "      <td>4</td>\n",
       "      <td>1</td>\n",
       "      <td>0</td>\n",
       "      <td>4</td>\n",
       "      <td>...</td>\n",
       "      <td>0</td>\n",
       "      <td>0</td>\n",
       "      <td>0</td>\n",
       "      <td>0.0</td>\n",
       "      <td>CONCURSO</td>\n",
       "      <td>...</td>\n",
       "      <td>M</td>\n",
       "      <td>NaN</td>\n",
       "      <td>1.0</td>\n",
       "      <td>FORANEO</td>\n",
       "    </tr>\n",
       "  </tbody>\n",
       "</table>\n",
       "<p>1 rows × 77 columns</p>\n",
       "</div>"
      ],
      "text/plain": [
       "                                                     ID  NUM_MATRICULAS  \\\n",
       "1029  1228258f98fad6c279879ebe5d1fbd837ca01c37b2fc35...              10   \n",
       "\n",
       "     COD_ESTUDIANTE ESCUELA_PROFESIONAL  NUM_CURSOS_APR_CICLO_01  \\\n",
       "1029        alumno6                  FD                        1   \n",
       "\n",
       "      NUM_CURSOS_APR_CICLO_02  NUM_CURSOS_APR_CICLO_03  \\\n",
       "1029                        5                        4   \n",
       "\n",
       "      NUM_CURSOS_APR_CICLO_04  NUM_CURSOS_APR_CICLO_05  \\\n",
       "1029                        1                        0   \n",
       "\n",
       "      NUM_CURSOS_APR_CICLO_06  ...  MATRICULA_EXTEMPORANEO  \\\n",
       "1029                        4  ...                       0   \n",
       "\n",
       "      CANT_ASIG_CONVALIDADOS  CANT_CRED_CONVALIDADOS  PUNT_EXAMEN_ADMINISION  \\\n",
       "1029                       0                       0                     0.0   \n",
       "\n",
       "      MODAL_INGRESO                                       TIPO_COLEGIO  \\\n",
       "1029       CONCURSO                                                ...   \n",
       "\n",
       "      SEXO_ESTUDIANTE  EDAD_INGRESANTE  NUM_INGRESOS_UNIVERSIDAD  PROCEDENCIA  \n",
       "1029                M              NaN                       1.0      FORANEO  \n",
       "\n",
       "[1 rows x 77 columns]"
      ]
     },
     "execution_count": 21,
     "metadata": {},
     "output_type": "execute_result"
    }
   ],
   "source": [
    "data_features[data_features['ID']=='1228258f98fad6c279879ebe5d1fbd837ca01c37b2fc3588d495a377d2aeaf80']"
   ]
  },
  {
   "attachments": {},
   "cell_type": "markdown",
   "id": "0bbb51e4",
   "metadata": {},
   "source": [
    "### Metricar para resumir vectores"
   ]
  },
  {
   "cell_type": "code",
   "execution_count": 22,
   "id": "8599c815",
   "metadata": {},
   "outputs": [],
   "source": [
    "# Numero de periodos activos\n",
    "\n",
    "\n",
    "# Media del vector\n",
    "\n",
    "# Desviacion del vector\n",
    "\n",
    "# Desviación estándar: es una medida de la dispersión de los datos alrededor de la media. Una desviación estándar más alta indica una mayor variabilidad de los datos.\n",
    "# Rango: es la diferencia entre el valor máximo y el valor mínimo de los datos. Un rango más amplio indica una mayor variabilidad de los datos.\n",
    "# Varianza: es una medida de la dispersión de los datos alrededor de la media, similar a la desviación estándar.\n",
    "# Coeficiente de variación: es una medida de la variabilidad relativa de los datos, se calcula como la desviación estándar dividida entre la media.\n",
    "# Curtosis: es una medida de la asimetría de los datos, una curtosis más alta indica una mayor concentración de valores en los extremos.\n",
    "# Skewness: es una medida de la simetría de los datos, una asimetría positiva indica que los datos tienden a tener un sesgo hacia la derecha y una asimetría negativa indica que los datos tienden a tener un sesgo hacia la izquierda.\n",
    "# Boxplot: es una herramienta gráfica utilizada para visualizar la distribución de los datos y para detectar valores atípicos.\n",
    "# Correlación: es una medida de la relación lineal entre dos variables.\n",
    "# Entropía: es una medida de la incertidumbre o complejidad en un sistema estadístico."
   ]
  },
  {
   "cell_type": "code",
   "execution_count": 23,
   "id": "cd4a08c0",
   "metadata": {},
   "outputs": [],
   "source": [
    "def vector_metrics(df, tag, columns):\n",
    "    ''' \n",
    "     resume el vector en valores representaticos \n",
    "    '''\n",
    "    \n",
    "    df[tag+'_MEAN'] = df[columns].mean(axis=1)\n",
    "    df[tag+'_STD'] = df[columns].std(axis=1)\n",
    "    # data_temp['Percentage_total'] = data_temp['Percentage_total'].apply(lambda x: round( x * 100, 2))\n",
    "    \n",
    "    for col in columns:\n",
    "        del df[col]\n",
    "        \n",
    "    return df"
   ]
  },
  {
   "cell_type": "code",
   "execution_count": 24,
   "id": "148f05fa",
   "metadata": {},
   "outputs": [],
   "source": [
    "data_temp = data_features.copy()"
   ]
  },
  {
   "cell_type": "code",
   "execution_count": 25,
   "id": "ac1a87e8",
   "metadata": {},
   "outputs": [
    {
     "data": {
      "text/html": [
       "<div>\n",
       "<style scoped>\n",
       "    .dataframe tbody tr th:only-of-type {\n",
       "        vertical-align: middle;\n",
       "    }\n",
       "\n",
       "    .dataframe tbody tr th {\n",
       "        vertical-align: top;\n",
       "    }\n",
       "\n",
       "    .dataframe thead th {\n",
       "        text-align: right;\n",
       "    }\n",
       "</style>\n",
       "<table border=\"1\" class=\"dataframe\">\n",
       "  <thead>\n",
       "    <tr style=\"text-align: right;\">\n",
       "      <th></th>\n",
       "      <th>ID</th>\n",
       "      <th>NUM_MATRICULAS</th>\n",
       "      <th>COD_ESTUDIANTE</th>\n",
       "      <th>ESCUELA_PROFESIONAL</th>\n",
       "      <th>PORC_ASISTENCIA_MEAN</th>\n",
       "      <th>PORC_ASISTENCIA_STD</th>\n",
       "      <th>EDAD_ANIO_ESTUDIO_MIN</th>\n",
       "      <th>SITUACION_DESERCION_AL_SEM</th>\n",
       "      <th>PLAN_ESTUDIOS_CAMBIO</th>\n",
       "      <th>MONTO_PENSION_MEAN</th>\n",
       "      <th>...</th>\n",
       "      <th>NUM_INGRESOS_UNIVERSIDAD</th>\n",
       "      <th>PROCEDENCIA</th>\n",
       "      <th>NUM_CURSOS_APR_MEAN</th>\n",
       "      <th>NUM_CURSOS_APR_STD</th>\n",
       "      <th>CANT_CRED_APR_MEAN</th>\n",
       "      <th>CANT_CRED_APR_STD</th>\n",
       "      <th>NUM_CURSOS_DES_MEAN</th>\n",
       "      <th>NUM_CURSOS_DES_STD</th>\n",
       "      <th>CANT_CRED_DES_MEAN</th>\n",
       "      <th>CANT_CRED_DES_STD</th>\n",
       "    </tr>\n",
       "  </thead>\n",
       "  <tbody>\n",
       "    <tr>\n",
       "      <th>0</th>\n",
       "      <td>bf2d491362fd7c34e4d0b22fbb7e58a1dc4f17ef7119a8...</td>\n",
       "      <td>13</td>\n",
       "      <td>alumno9992</td>\n",
       "      <td>FCEAC</td>\n",
       "      <td>0.088462</td>\n",
       "      <td>0.144617</td>\n",
       "      <td>19</td>\n",
       "      <td>0.0</td>\n",
       "      <td>13</td>\n",
       "      <td>346.469231</td>\n",
       "      <td>...</td>\n",
       "      <td>1.0</td>\n",
       "      <td>LUGARENIO</td>\n",
       "      <td>4.142857</td>\n",
       "      <td>8.151047</td>\n",
       "      <td>15.285714</td>\n",
       "      <td>30.877995</td>\n",
       "      <td>3.928571</td>\n",
       "      <td>7.760494</td>\n",
       "      <td>14.500000</td>\n",
       "      <td>29.528995</td>\n",
       "    </tr>\n",
       "    <tr>\n",
       "      <th>1</th>\n",
       "      <td>51d49892e1836a37db452c2790c825adaede770414e26b...</td>\n",
       "      <td>16</td>\n",
       "      <td>alumno9991</td>\n",
       "      <td>FCEAC</td>\n",
       "      <td>0.189375</td>\n",
       "      <td>0.340382</td>\n",
       "      <td>18</td>\n",
       "      <td>0.0</td>\n",
       "      <td>16</td>\n",
       "      <td>319.115625</td>\n",
       "      <td>...</td>\n",
       "      <td>1.0</td>\n",
       "      <td>FORANEO</td>\n",
       "      <td>4.785714</td>\n",
       "      <td>5.859622</td>\n",
       "      <td>17.785714</td>\n",
       "      <td>22.405970</td>\n",
       "      <td>2.285714</td>\n",
       "      <td>4.445024</td>\n",
       "      <td>8.571429</td>\n",
       "      <td>16.919330</td>\n",
       "    </tr>\n",
       "    <tr>\n",
       "      <th>2</th>\n",
       "      <td>73870552a975159138bf2bbf4802e3e43b38454b4ffee3...</td>\n",
       "      <td>6</td>\n",
       "      <td>alumno999</td>\n",
       "      <td>OTROS</td>\n",
       "      <td>0.000000</td>\n",
       "      <td>0.000000</td>\n",
       "      <td>0</td>\n",
       "      <td>0.0</td>\n",
       "      <td>6</td>\n",
       "      <td>102.000000</td>\n",
       "      <td>...</td>\n",
       "      <td>1.0</td>\n",
       "      <td>FORANEO</td>\n",
       "      <td>1.500000</td>\n",
       "      <td>2.066212</td>\n",
       "      <td>5.214286</td>\n",
       "      <td>7.536359</td>\n",
       "      <td>0.500000</td>\n",
       "      <td>1.091928</td>\n",
       "      <td>1.571429</td>\n",
       "      <td>3.321591</td>\n",
       "    </tr>\n",
       "    <tr>\n",
       "      <th>3</th>\n",
       "      <td>a8d048b5542abb8a5f1101f4239c2c0428d2266af06cea...</td>\n",
       "      <td>23</td>\n",
       "      <td>alumno9984</td>\n",
       "      <td>FCEAC</td>\n",
       "      <td>0.300000</td>\n",
       "      <td>0.332005</td>\n",
       "      <td>17</td>\n",
       "      <td>0.0</td>\n",
       "      <td>23</td>\n",
       "      <td>330.082609</td>\n",
       "      <td>...</td>\n",
       "      <td>1.0</td>\n",
       "      <td>FORANEO</td>\n",
       "      <td>7.642857</td>\n",
       "      <td>7.986596</td>\n",
       "      <td>27.071429</td>\n",
       "      <td>27.516329</td>\n",
       "      <td>4.071429</td>\n",
       "      <td>6.810222</td>\n",
       "      <td>14.357143</td>\n",
       "      <td>23.766839</td>\n",
       "    </tr>\n",
       "    <tr>\n",
       "      <th>4</th>\n",
       "      <td>fcbce9a3e742b7e8702afeebb2a3a0cb9004cdc94a3887...</td>\n",
       "      <td>22</td>\n",
       "      <td>alumno9980</td>\n",
       "      <td>FCEAC</td>\n",
       "      <td>0.205000</td>\n",
       "      <td>0.287613</td>\n",
       "      <td>17</td>\n",
       "      <td>0.0</td>\n",
       "      <td>22</td>\n",
       "      <td>377.950000</td>\n",
       "      <td>...</td>\n",
       "      <td>1.0</td>\n",
       "      <td>FORANEO</td>\n",
       "      <td>7.285714</td>\n",
       "      <td>11.062261</td>\n",
       "      <td>25.714286</td>\n",
       "      <td>39.456751</td>\n",
       "      <td>5.428571</td>\n",
       "      <td>8.959003</td>\n",
       "      <td>19.500000</td>\n",
       "      <td>32.255590</td>\n",
       "    </tr>\n",
       "  </tbody>\n",
       "</table>\n",
       "<p>5 rows × 29 columns</p>\n",
       "</div>"
      ],
      "text/plain": [
       "                                                  ID  NUM_MATRICULAS  \\\n",
       "0  bf2d491362fd7c34e4d0b22fbb7e58a1dc4f17ef7119a8...              13   \n",
       "1  51d49892e1836a37db452c2790c825adaede770414e26b...              16   \n",
       "2  73870552a975159138bf2bbf4802e3e43b38454b4ffee3...               6   \n",
       "3  a8d048b5542abb8a5f1101f4239c2c0428d2266af06cea...              23   \n",
       "4  fcbce9a3e742b7e8702afeebb2a3a0cb9004cdc94a3887...              22   \n",
       "\n",
       "  COD_ESTUDIANTE ESCUELA_PROFESIONAL  PORC_ASISTENCIA_MEAN  \\\n",
       "0     alumno9992               FCEAC              0.088462   \n",
       "1     alumno9991               FCEAC              0.189375   \n",
       "2      alumno999               OTROS              0.000000   \n",
       "3     alumno9984               FCEAC              0.300000   \n",
       "4     alumno9980               FCEAC              0.205000   \n",
       "\n",
       "   PORC_ASISTENCIA_STD  EDAD_ANIO_ESTUDIO_MIN  SITUACION_DESERCION_AL_SEM  \\\n",
       "0             0.144617                     19                         0.0   \n",
       "1             0.340382                     18                         0.0   \n",
       "2             0.000000                      0                         0.0   \n",
       "3             0.332005                     17                         0.0   \n",
       "4             0.287613                     17                         0.0   \n",
       "\n",
       "   PLAN_ESTUDIOS_CAMBIO  MONTO_PENSION_MEAN  ...  NUM_INGRESOS_UNIVERSIDAD  \\\n",
       "0                    13          346.469231  ...                       1.0   \n",
       "1                    16          319.115625  ...                       1.0   \n",
       "2                     6          102.000000  ...                       1.0   \n",
       "3                    23          330.082609  ...                       1.0   \n",
       "4                    22          377.950000  ...                       1.0   \n",
       "\n",
       "   PROCEDENCIA  NUM_CURSOS_APR_MEAN  NUM_CURSOS_APR_STD  CANT_CRED_APR_MEAN  \\\n",
       "0    LUGARENIO             4.142857            8.151047           15.285714   \n",
       "1      FORANEO             4.785714            5.859622           17.785714   \n",
       "2      FORANEO             1.500000            2.066212            5.214286   \n",
       "3      FORANEO             7.642857            7.986596           27.071429   \n",
       "4      FORANEO             7.285714           11.062261           25.714286   \n",
       "\n",
       "  CANT_CRED_APR_STD NUM_CURSOS_DES_MEAN NUM_CURSOS_DES_STD  \\\n",
       "0         30.877995            3.928571           7.760494   \n",
       "1         22.405970            2.285714           4.445024   \n",
       "2          7.536359            0.500000           1.091928   \n",
       "3         27.516329            4.071429           6.810222   \n",
       "4         39.456751            5.428571           8.959003   \n",
       "\n",
       "   CANT_CRED_DES_MEAN  CANT_CRED_DES_STD  \n",
       "0           14.500000          29.528995  \n",
       "1            8.571429          16.919330  \n",
       "2            1.571429           3.321591  \n",
       "3           14.357143          23.766839  \n",
       "4           19.500000          32.255590  \n",
       "\n",
       "[5 rows x 29 columns]"
      ]
     },
     "execution_count": 25,
     "metadata": {},
     "output_type": "execute_result"
    }
   ],
   "source": [
    "columns_metrics = ['NUM_CURSOS_APR_CICLO_01', 'NUM_CURSOS_APR_CICLO_02', 'NUM_CURSOS_APR_CICLO_03', 'NUM_CURSOS_APR_CICLO_04',\n",
    "                    'NUM_CURSOS_APR_CICLO_05', 'NUM_CURSOS_APR_CICLO_06','NUM_CURSOS_APR_CICLO_07', 'NUM_CURSOS_APR_CICLO_08',\n",
    "                    'NUM_CURSOS_APR_CICLO_09', 'NUM_CURSOS_APR_CICLO_10','NUM_CURSOS_APR_CICLO_11', 'NUM_CURSOS_APR_CICLO_12',\n",
    "                    'NUM_CURSOS_APR_CICLO_13', 'NUM_CURSOS_APR_CICLO_14']\n",
    "data_temp = vector_metrics(\n",
    "                    data_temp,\n",
    "                    tag='NUM_CURSOS_APR',\n",
    "                    columns = columns_metrics,\n",
    "                    )\n",
    "\n",
    "columns_metrics = ['CANT_CRED_APR_CICLO_01', 'CANT_CRED_APR_CICLO_02', 'CANT_CRED_APR_CICLO_03', 'CANT_CRED_APR_CICLO_04',\n",
    "                    'CANT_CRED_APR_CICLO_05', 'CANT_CRED_APR_CICLO_06','CANT_CRED_APR_CICLO_07', 'CANT_CRED_APR_CICLO_08',\n",
    "                    'CANT_CRED_APR_CICLO_09', 'CANT_CRED_APR_CICLO_10','CANT_CRED_APR_CICLO_11', 'CANT_CRED_APR_CICLO_12',\n",
    "                    'CANT_CRED_APR_CICLO_13', 'CANT_CRED_APR_CICLO_14',]\n",
    "data_temp = vector_metrics(\n",
    "                    data_temp,\n",
    "                    tag='CANT_CRED_APR',\n",
    "                    columns = columns_metrics,\n",
    "                    )\n",
    "\n",
    "columns_metrics = ['NUM_CURSOS_DES_CICLO_01', 'NUM_CURSOS_DES_CICLO_02', 'NUM_CURSOS_DES_CICLO_03', 'NUM_CURSOS_DES_CICLO_04',\n",
    "                    'NUM_CURSOS_DES_CICLO_05', 'NUM_CURSOS_DES_CICLO_06', 'NUM_CURSOS_DES_CICLO_07', 'NUM_CURSOS_DES_CICLO_08',\n",
    "                    'NUM_CURSOS_DES_CICLO_09', 'NUM_CURSOS_DES_CICLO_10','NUM_CURSOS_DES_CICLO_11', 'NUM_CURSOS_DES_CICLO_12',\n",
    "                    'NUM_CURSOS_DES_CICLO_13', 'NUM_CURSOS_DES_CICLO_14',]\n",
    "data_temp = vector_metrics(\n",
    "                    data_temp,\n",
    "                    tag='NUM_CURSOS_DES',\n",
    "                    columns = columns_metrics,\n",
    "                )\n",
    "\n",
    "columns_metrics = ['CANT_CRED_DES_CICLO_01', 'CANT_CRED_DES_CICLO_02', 'CANT_CRED_DES_CICLO_03', 'CANT_CRED_DES_CICLO_04',\n",
    "                    'CANT_CRED_DES_CICLO_05', 'CANT_CRED_DES_CICLO_06', 'CANT_CRED_DES_CICLO_07', 'CANT_CRED_DES_CICLO_08',\n",
    "                    'CANT_CRED_DES_CICLO_09', 'CANT_CRED_DES_CICLO_10','CANT_CRED_DES_CICLO_11', 'CANT_CRED_DES_CICLO_12',\n",
    "                    'CANT_CRED_DES_CICLO_13', 'CANT_CRED_DES_CICLO_14',]\n",
    "data_temp = vector_metrics(\n",
    "                    data_temp,\n",
    "                    tag='CANT_CRED_DES',\n",
    "                    columns = columns_metrics,\n",
    "                )\n",
    "\n",
    "data_temp.head()"
   ]
  },
  {
   "cell_type": "code",
   "execution_count": 26,
   "id": "3eee3835",
   "metadata": {},
   "outputs": [
    {
     "data": {
      "text/html": [
       "<div>\n",
       "<style scoped>\n",
       "    .dataframe tbody tr th:only-of-type {\n",
       "        vertical-align: middle;\n",
       "    }\n",
       "\n",
       "    .dataframe tbody tr th {\n",
       "        vertical-align: top;\n",
       "    }\n",
       "\n",
       "    .dataframe thead th {\n",
       "        text-align: right;\n",
       "    }\n",
       "</style>\n",
       "<table border=\"1\" class=\"dataframe\">\n",
       "  <thead>\n",
       "    <tr style=\"text-align: right;\">\n",
       "      <th></th>\n",
       "      <th>NUM_MATRICULAS</th>\n",
       "      <th>ESCUELA_PROFESIONAL</th>\n",
       "      <th>PORC_ASISTENCIA_MEAN</th>\n",
       "      <th>PORC_ASISTENCIA_STD</th>\n",
       "      <th>EDAD_ANIO_ESTUDIO_MIN</th>\n",
       "      <th>SITUACION_DESERCION_AL_SEM</th>\n",
       "      <th>PLAN_ESTUDIOS_CAMBIO</th>\n",
       "      <th>MONTO_PENSION_MEAN</th>\n",
       "      <th>MONTO_PENSION_STD</th>\n",
       "      <th>MATRICULA_EXTEMPORANEO</th>\n",
       "      <th>...</th>\n",
       "      <th>PROCEDENCIA</th>\n",
       "      <th>NUM_CURSOS_APR_MEAN</th>\n",
       "      <th>NUM_CURSOS_APR_STD</th>\n",
       "      <th>CANT_CRED_APR_MEAN</th>\n",
       "      <th>CANT_CRED_APR_STD</th>\n",
       "      <th>NUM_CURSOS_DES_MEAN</th>\n",
       "      <th>NUM_CURSOS_DES_STD</th>\n",
       "      <th>CANT_CRED_DES_MEAN</th>\n",
       "      <th>CANT_CRED_DES_STD</th>\n",
       "      <th>ABADONO</th>\n",
       "    </tr>\n",
       "    <tr>\n",
       "      <th>ID</th>\n",
       "      <th></th>\n",
       "      <th></th>\n",
       "      <th></th>\n",
       "      <th></th>\n",
       "      <th></th>\n",
       "      <th></th>\n",
       "      <th></th>\n",
       "      <th></th>\n",
       "      <th></th>\n",
       "      <th></th>\n",
       "      <th></th>\n",
       "      <th></th>\n",
       "      <th></th>\n",
       "      <th></th>\n",
       "      <th></th>\n",
       "      <th></th>\n",
       "      <th></th>\n",
       "      <th></th>\n",
       "      <th></th>\n",
       "      <th></th>\n",
       "      <th></th>\n",
       "    </tr>\n",
       "  </thead>\n",
       "  <tbody>\n",
       "    <tr>\n",
       "      <th>000390df44c1034a2a629e6e35c8d54492b487a072e72be8a1b7782dce2b0c22</th>\n",
       "      <td>1</td>\n",
       "      <td>FIA</td>\n",
       "      <td>0.000000</td>\n",
       "      <td>NaN</td>\n",
       "      <td>19</td>\n",
       "      <td>0.0</td>\n",
       "      <td>1</td>\n",
       "      <td>445.150000</td>\n",
       "      <td>NaN</td>\n",
       "      <td>0</td>\n",
       "      <td>...</td>\n",
       "      <td>LUGARENIO</td>\n",
       "      <td>0.285714</td>\n",
       "      <td>0.825420</td>\n",
       "      <td>0.928571</td>\n",
       "      <td>2.555967</td>\n",
       "      <td>0.285714</td>\n",
       "      <td>0.825420</td>\n",
       "      <td>0.928571</td>\n",
       "      <td>2.555967</td>\n",
       "      <td>0</td>\n",
       "    </tr>\n",
       "    <tr>\n",
       "      <th>000403d34c694ed4eee1dd7e516ab6e46860024b9b36778f455950028f211a39</th>\n",
       "      <td>1</td>\n",
       "      <td>FIA</td>\n",
       "      <td>0.140000</td>\n",
       "      <td>NaN</td>\n",
       "      <td>18</td>\n",
       "      <td>0.0</td>\n",
       "      <td>1</td>\n",
       "      <td>707.000000</td>\n",
       "      <td>NaN</td>\n",
       "      <td>0</td>\n",
       "      <td>...</td>\n",
       "      <td>LUGARENIO</td>\n",
       "      <td>0.571429</td>\n",
       "      <td>2.138090</td>\n",
       "      <td>1.571429</td>\n",
       "      <td>5.879747</td>\n",
       "      <td>0.428571</td>\n",
       "      <td>1.603567</td>\n",
       "      <td>1.214286</td>\n",
       "      <td>4.543441</td>\n",
       "      <td>0</td>\n",
       "    </tr>\n",
       "    <tr>\n",
       "      <th>00043f82fab338e0c4737e3409950f5f0b26eaaf367fd97b7b1ffdd7be62c542</th>\n",
       "      <td>19</td>\n",
       "      <td>FD</td>\n",
       "      <td>0.387895</td>\n",
       "      <td>0.325433</td>\n",
       "      <td>19</td>\n",
       "      <td>0.0</td>\n",
       "      <td>19</td>\n",
       "      <td>485.713158</td>\n",
       "      <td>83.151799</td>\n",
       "      <td>0</td>\n",
       "      <td>...</td>\n",
       "      <td>LUGARENIO</td>\n",
       "      <td>7.500000</td>\n",
       "      <td>5.229355</td>\n",
       "      <td>25.714286</td>\n",
       "      <td>18.420008</td>\n",
       "      <td>2.642857</td>\n",
       "      <td>3.455367</td>\n",
       "      <td>9.285714</td>\n",
       "      <td>12.231288</td>\n",
       "      <td>1</td>\n",
       "    </tr>\n",
       "  </tbody>\n",
       "</table>\n",
       "<p>3 rows × 28 columns</p>\n",
       "</div>"
      ],
      "text/plain": [
       "                                                    NUM_MATRICULAS  \\\n",
       "ID                                                                   \n",
       "000390df44c1034a2a629e6e35c8d54492b487a072e72be...               1   \n",
       "000403d34c694ed4eee1dd7e516ab6e46860024b9b36778...               1   \n",
       "00043f82fab338e0c4737e3409950f5f0b26eaaf367fd97...              19   \n",
       "\n",
       "                                                   ESCUELA_PROFESIONAL  \\\n",
       "ID                                                                       \n",
       "000390df44c1034a2a629e6e35c8d54492b487a072e72be...                 FIA   \n",
       "000403d34c694ed4eee1dd7e516ab6e46860024b9b36778...                 FIA   \n",
       "00043f82fab338e0c4737e3409950f5f0b26eaaf367fd97...                  FD   \n",
       "\n",
       "                                                    PORC_ASISTENCIA_MEAN  \\\n",
       "ID                                                                         \n",
       "000390df44c1034a2a629e6e35c8d54492b487a072e72be...              0.000000   \n",
       "000403d34c694ed4eee1dd7e516ab6e46860024b9b36778...              0.140000   \n",
       "00043f82fab338e0c4737e3409950f5f0b26eaaf367fd97...              0.387895   \n",
       "\n",
       "                                                    PORC_ASISTENCIA_STD  \\\n",
       "ID                                                                        \n",
       "000390df44c1034a2a629e6e35c8d54492b487a072e72be...                  NaN   \n",
       "000403d34c694ed4eee1dd7e516ab6e46860024b9b36778...                  NaN   \n",
       "00043f82fab338e0c4737e3409950f5f0b26eaaf367fd97...             0.325433   \n",
       "\n",
       "                                                    EDAD_ANIO_ESTUDIO_MIN  \\\n",
       "ID                                                                          \n",
       "000390df44c1034a2a629e6e35c8d54492b487a072e72be...                     19   \n",
       "000403d34c694ed4eee1dd7e516ab6e46860024b9b36778...                     18   \n",
       "00043f82fab338e0c4737e3409950f5f0b26eaaf367fd97...                     19   \n",
       "\n",
       "                                                    SITUACION_DESERCION_AL_SEM  \\\n",
       "ID                                                                               \n",
       "000390df44c1034a2a629e6e35c8d54492b487a072e72be...                         0.0   \n",
       "000403d34c694ed4eee1dd7e516ab6e46860024b9b36778...                         0.0   \n",
       "00043f82fab338e0c4737e3409950f5f0b26eaaf367fd97...                         0.0   \n",
       "\n",
       "                                                    PLAN_ESTUDIOS_CAMBIO  \\\n",
       "ID                                                                         \n",
       "000390df44c1034a2a629e6e35c8d54492b487a072e72be...                     1   \n",
       "000403d34c694ed4eee1dd7e516ab6e46860024b9b36778...                     1   \n",
       "00043f82fab338e0c4737e3409950f5f0b26eaaf367fd97...                    19   \n",
       "\n",
       "                                                    MONTO_PENSION_MEAN  \\\n",
       "ID                                                                       \n",
       "000390df44c1034a2a629e6e35c8d54492b487a072e72be...          445.150000   \n",
       "000403d34c694ed4eee1dd7e516ab6e46860024b9b36778...          707.000000   \n",
       "00043f82fab338e0c4737e3409950f5f0b26eaaf367fd97...          485.713158   \n",
       "\n",
       "                                                    MONTO_PENSION_STD  \\\n",
       "ID                                                                      \n",
       "000390df44c1034a2a629e6e35c8d54492b487a072e72be...                NaN   \n",
       "000403d34c694ed4eee1dd7e516ab6e46860024b9b36778...                NaN   \n",
       "00043f82fab338e0c4737e3409950f5f0b26eaaf367fd97...          83.151799   \n",
       "\n",
       "                                                    MATRICULA_EXTEMPORANEO  \\\n",
       "ID                                                                           \n",
       "000390df44c1034a2a629e6e35c8d54492b487a072e72be...                       0   \n",
       "000403d34c694ed4eee1dd7e516ab6e46860024b9b36778...                       0   \n",
       "00043f82fab338e0c4737e3409950f5f0b26eaaf367fd97...                       0   \n",
       "\n",
       "                                                    ...  PROCEDENCIA  \\\n",
       "ID                                                  ...                \n",
       "000390df44c1034a2a629e6e35c8d54492b487a072e72be...  ...    LUGARENIO   \n",
       "000403d34c694ed4eee1dd7e516ab6e46860024b9b36778...  ...    LUGARENIO   \n",
       "00043f82fab338e0c4737e3409950f5f0b26eaaf367fd97...  ...    LUGARENIO   \n",
       "\n",
       "                                                    NUM_CURSOS_APR_MEAN  \\\n",
       "ID                                                                        \n",
       "000390df44c1034a2a629e6e35c8d54492b487a072e72be...             0.285714   \n",
       "000403d34c694ed4eee1dd7e516ab6e46860024b9b36778...             0.571429   \n",
       "00043f82fab338e0c4737e3409950f5f0b26eaaf367fd97...             7.500000   \n",
       "\n",
       "                                                    NUM_CURSOS_APR_STD  \\\n",
       "ID                                                                       \n",
       "000390df44c1034a2a629e6e35c8d54492b487a072e72be...            0.825420   \n",
       "000403d34c694ed4eee1dd7e516ab6e46860024b9b36778...            2.138090   \n",
       "00043f82fab338e0c4737e3409950f5f0b26eaaf367fd97...            5.229355   \n",
       "\n",
       "                                                   CANT_CRED_APR_MEAN  \\\n",
       "ID                                                                      \n",
       "000390df44c1034a2a629e6e35c8d54492b487a072e72be...           0.928571   \n",
       "000403d34c694ed4eee1dd7e516ab6e46860024b9b36778...           1.571429   \n",
       "00043f82fab338e0c4737e3409950f5f0b26eaaf367fd97...          25.714286   \n",
       "\n",
       "                                                   CANT_CRED_APR_STD  \\\n",
       "ID                                                                     \n",
       "000390df44c1034a2a629e6e35c8d54492b487a072e72be...          2.555967   \n",
       "000403d34c694ed4eee1dd7e516ab6e46860024b9b36778...          5.879747   \n",
       "00043f82fab338e0c4737e3409950f5f0b26eaaf367fd97...         18.420008   \n",
       "\n",
       "                                                   NUM_CURSOS_DES_MEAN  \\\n",
       "ID                                                                       \n",
       "000390df44c1034a2a629e6e35c8d54492b487a072e72be...            0.285714   \n",
       "000403d34c694ed4eee1dd7e516ab6e46860024b9b36778...            0.428571   \n",
       "00043f82fab338e0c4737e3409950f5f0b26eaaf367fd97...            2.642857   \n",
       "\n",
       "                                                    NUM_CURSOS_DES_STD  \\\n",
       "ID                                                                       \n",
       "000390df44c1034a2a629e6e35c8d54492b487a072e72be...            0.825420   \n",
       "000403d34c694ed4eee1dd7e516ab6e46860024b9b36778...            1.603567   \n",
       "00043f82fab338e0c4737e3409950f5f0b26eaaf367fd97...            3.455367   \n",
       "\n",
       "                                                    CANT_CRED_DES_MEAN  \\\n",
       "ID                                                                       \n",
       "000390df44c1034a2a629e6e35c8d54492b487a072e72be...            0.928571   \n",
       "000403d34c694ed4eee1dd7e516ab6e46860024b9b36778...            1.214286   \n",
       "00043f82fab338e0c4737e3409950f5f0b26eaaf367fd97...            9.285714   \n",
       "\n",
       "                                                   CANT_CRED_DES_STD  ABADONO  \n",
       "ID                                                                             \n",
       "000390df44c1034a2a629e6e35c8d54492b487a072e72be...          2.555967        0  \n",
       "000403d34c694ed4eee1dd7e516ab6e46860024b9b36778...          4.543441        0  \n",
       "00043f82fab338e0c4737e3409950f5f0b26eaaf367fd97...         12.231288        1  \n",
       "\n",
       "[3 rows x 28 columns]"
      ]
     },
     "execution_count": 26,
     "metadata": {},
     "output_type": "execute_result"
    }
   ],
   "source": [
    "data_features = pd.merge(data_temp, # data_features,\n",
    "                         data_abandono[['ID', 'ABADONO']],\n",
    "                         #data_abandono[['ID', 'ABADONO_PERIODOS', 'ABADONO']],\n",
    "                         how=\"left\",\n",
    "                         left_on=['ID'],\n",
    "                         right_on=['ID'],\n",
    "                         sort=True,\n",
    "                         suffixes=(\"_x\", \"_y\"),\n",
    "                        )\n",
    "\n",
    "del data_features['COD_ESTUDIANTE']\n",
    "data_features = data_features.set_index('ID')\n",
    "data_features.head(3)"
   ]
  },
  {
   "cell_type": "code",
   "execution_count": 27,
   "id": "e1d9e5ae",
   "metadata": {},
   "outputs": [
    {
     "data": {
      "text/plain": [
       "Index(['NUM_MATRICULAS', 'ESCUELA_PROFESIONAL', 'PORC_ASISTENCIA_MEAN',\n",
       "       'PORC_ASISTENCIA_STD', 'EDAD_ANIO_ESTUDIO_MIN',\n",
       "       'SITUACION_DESERCION_AL_SEM', 'PLAN_ESTUDIOS_CAMBIO',\n",
       "       'MONTO_PENSION_MEAN', 'MONTO_PENSION_STD', 'MATRICULA_EXTEMPORANEO',\n",
       "       'CANT_ASIG_CONVALIDADOS', 'CANT_CRED_CONVALIDADOS',\n",
       "       'PUNT_EXAMEN_ADMINISION', 'MODAL_INGRESO', 'TIPO_COLEGIO',\n",
       "       'SEXO_ESTUDIANTE', 'EDAD_INGRESANTE', 'NUM_INGRESOS_UNIVERSIDAD',\n",
       "       'PROCEDENCIA', 'NUM_CURSOS_APR_MEAN', 'NUM_CURSOS_APR_STD',\n",
       "       'CANT_CRED_APR_MEAN', 'CANT_CRED_APR_STD', 'NUM_CURSOS_DES_MEAN',\n",
       "       'NUM_CURSOS_DES_STD', 'CANT_CRED_DES_MEAN', 'CANT_CRED_DES_STD',\n",
       "       'ABADONO'],\n",
       "      dtype='object')"
      ]
     },
     "execution_count": 27,
     "metadata": {},
     "output_type": "execute_result"
    }
   ],
   "source": [
    "data_features.columns"
   ]
  },
  {
   "attachments": {},
   "cell_type": "markdown",
   "id": "9a472c7a",
   "metadata": {},
   "source": [
    "##### Figura"
   ]
  },
  {
   "cell_type": "code",
   "execution_count": 28,
   "id": "4a05216f",
   "metadata": {},
   "outputs": [
    {
     "data": {
      "text/html": [
       "<div>\n",
       "<style scoped>\n",
       "    .dataframe tbody tr th:only-of-type {\n",
       "        vertical-align: middle;\n",
       "    }\n",
       "\n",
       "    .dataframe tbody tr th {\n",
       "        vertical-align: top;\n",
       "    }\n",
       "\n",
       "    .dataframe thead th {\n",
       "        text-align: right;\n",
       "    }\n",
       "</style>\n",
       "<table border=\"1\" class=\"dataframe\">\n",
       "  <thead>\n",
       "    <tr style=\"text-align: right;\">\n",
       "      <th></th>\n",
       "      <th>NUM_MATRICULAS</th>\n",
       "      <th>per</th>\n",
       "    </tr>\n",
       "    <tr>\n",
       "      <th>ABADONO</th>\n",
       "      <th></th>\n",
       "      <th></th>\n",
       "    </tr>\n",
       "  </thead>\n",
       "  <tbody>\n",
       "    <tr>\n",
       "      <th>0</th>\n",
       "      <td>12591</td>\n",
       "      <td>0.673352</td>\n",
       "    </tr>\n",
       "    <tr>\n",
       "      <th>1</th>\n",
       "      <td>6108</td>\n",
       "      <td>0.326648</td>\n",
       "    </tr>\n",
       "  </tbody>\n",
       "</table>\n",
       "</div>"
      ],
      "text/plain": [
       "         NUM_MATRICULAS       per\n",
       "ABADONO                          \n",
       "0                 12591  0.673352\n",
       "1                  6108  0.326648"
      ]
     },
     "execution_count": 28,
     "metadata": {},
     "output_type": "execute_result"
    }
   ],
   "source": [
    "abc = data_features.groupby(['ABADONO']).agg(NUM_MATRICULAS=('NUM_MATRICULAS','count'))\n",
    "abc_sum = abc['NUM_MATRICULAS'].sum()\n",
    "abc['per'] = abc['NUM_MATRICULAS']/abc_sum\n",
    "abc"
   ]
  },
  {
   "cell_type": "code",
   "execution_count": 29,
   "id": "fdb8b4c3",
   "metadata": {},
   "outputs": [
    {
     "name": "stdout",
     "output_type": "stream",
     "text": [
      "ESCUELA_PROFESIONAL\n",
      "MODAL_INGRESO\n",
      "TIPO_COLEGIO\n",
      "SEXO_ESTUDIANTE\n",
      "PROCEDENCIA\n"
     ]
    }
   ],
   "source": [
    "categorical_col = list(data_features.select_dtypes(include=['object']).columns)\n",
    "for col in categorical_col:\n",
    "  print(col)\n",
    "  data_features[col] = data_features[col].fillna('OTRO')"
   ]
  },
  {
   "cell_type": "code",
   "execution_count": 30,
   "id": "c605d640",
   "metadata": {},
   "outputs": [
    {
     "data": {
      "text/plain": [
       "NUM_MATRICULAS                   0\n",
       "ESCUELA_PROFESIONAL              0\n",
       "PORC_ASISTENCIA_MEAN             0\n",
       "PORC_ASISTENCIA_STD           2027\n",
       "EDAD_ANIO_ESTUDIO_MIN            0\n",
       "SITUACION_DESERCION_AL_SEM       0\n",
       "PLAN_ESTUDIOS_CAMBIO             0\n",
       "MONTO_PENSION_MEAN               0\n",
       "MONTO_PENSION_STD             2027\n",
       "MATRICULA_EXTEMPORANEO           0\n",
       "CANT_ASIG_CONVALIDADOS           0\n",
       "CANT_CRED_CONVALIDADOS           0\n",
       "PUNT_EXAMEN_ADMINISION           0\n",
       "MODAL_INGRESO                    0\n",
       "TIPO_COLEGIO                     0\n",
       "SEXO_ESTUDIANTE                  0\n",
       "EDAD_INGRESANTE                818\n",
       "NUM_INGRESOS_UNIVERSIDAD         0\n",
       "PROCEDENCIA                      0\n",
       "NUM_CURSOS_APR_MEAN              0\n",
       "NUM_CURSOS_APR_STD               0\n",
       "CANT_CRED_APR_MEAN               0\n",
       "CANT_CRED_APR_STD                0\n",
       "NUM_CURSOS_DES_MEAN              0\n",
       "NUM_CURSOS_DES_STD               0\n",
       "CANT_CRED_DES_MEAN               0\n",
       "CANT_CRED_DES_STD                0\n",
       "ABADONO                          0\n",
       "dtype: int64"
      ]
     },
     "execution_count": 30,
     "metadata": {},
     "output_type": "execute_result"
    }
   ],
   "source": [
    "data_features.isna().sum()"
   ]
  },
  {
   "cell_type": "code",
   "execution_count": 31,
   "id": "61ef6263",
   "metadata": {},
   "outputs": [
    {
     "name": "stdout",
     "output_type": "stream",
     "text": [
      "PORC_ASISTENCIA_STD\n",
      "MONTO_PENSION_STD\n",
      "EDAD_INGRESANTE\n"
     ]
    },
    {
     "data": {
      "text/plain": [
       "Index([], dtype='object')"
      ]
     },
     "execution_count": 31,
     "metadata": {},
     "output_type": "execute_result"
    }
   ],
   "source": [
    "numeric_nan_col = list(data_features.columns[data_features.isna().any()])\n",
    "for col in numeric_nan_col:\n",
    "  print(col)\n",
    "  mean = np.mean(data_features[col])\n",
    "  data_features[col] = data_features[col].fillna(mean)\n",
    "\n",
    "data_features.columns[data_features.isna().any()]"
   ]
  },
  {
   "attachments": {},
   "cell_type": "markdown",
   "id": "010d0fbd",
   "metadata": {},
   "source": [
    "## Balanceo de datos - previas\n",
    "\n",
    "Definiremos 3 grupos de datos, \n",
    "- **Datos por definir y a clasificar**: son los que no terminaron, para ello asumimos que son todos lo que estan estudiando, y no terminaron la carrera en el ultimo perIDo.\n",
    "\n",
    "Luego con los datos restantes haremos un corte de los primero \"n\" ciclo, y asumiremos que sera el minimo numero de perIDos necesarios para poder hacer una predicción.\n",
    "- **Datos de entrenamiento**:\n",
    "- **Datos de muestras**:"
   ]
  },
  {
   "cell_type": "code",
   "execution_count": 32,
   "id": "35f85179",
   "metadata": {},
   "outputs": [
    {
     "data": {
      "text/html": [
       "<div>\n",
       "<style scoped>\n",
       "    .dataframe tbody tr th:only-of-type {\n",
       "        vertical-align: middle;\n",
       "    }\n",
       "\n",
       "    .dataframe tbody tr th {\n",
       "        vertical-align: top;\n",
       "    }\n",
       "\n",
       "    .dataframe thead th {\n",
       "        text-align: right;\n",
       "    }\n",
       "</style>\n",
       "<table border=\"1\" class=\"dataframe\">\n",
       "  <thead>\n",
       "    <tr style=\"text-align: right;\">\n",
       "      <th></th>\n",
       "      <th>NUM_MATRICULAS</th>\n",
       "      <th>PORC_ASISTENCIA_MEAN</th>\n",
       "      <th>PORC_ASISTENCIA_STD</th>\n",
       "      <th>EDAD_ANIO_ESTUDIO_MIN</th>\n",
       "      <th>SITUACION_DESERCION_AL_SEM</th>\n",
       "      <th>PLAN_ESTUDIOS_CAMBIO</th>\n",
       "      <th>MONTO_PENSION_MEAN</th>\n",
       "      <th>MONTO_PENSION_STD</th>\n",
       "      <th>MATRICULA_EXTEMPORANEO</th>\n",
       "      <th>CANT_ASIG_CONVALIDADOS</th>\n",
       "      <th>...</th>\n",
       "      <th>MODAL_INGRESO_OTRO</th>\n",
       "      <th>MODAL_INGRESO_PRE</th>\n",
       "      <th>MODAL_INGRESO_TRASLADO</th>\n",
       "      <th>TIPO_COLEGIO_</th>\n",
       "      <th>TIPO_COLEGIO_ESTATAL</th>\n",
       "      <th>TIPO_COLEGIO_PARTICULAR</th>\n",
       "      <th>SEXO_ESTUDIANTE_F</th>\n",
       "      <th>SEXO_ESTUDIANTE_M</th>\n",
       "      <th>PROCEDENCIA_FORANEO</th>\n",
       "      <th>PROCEDENCIA_LUGARENIO</th>\n",
       "    </tr>\n",
       "    <tr>\n",
       "      <th>ID</th>\n",
       "      <th></th>\n",
       "      <th></th>\n",
       "      <th></th>\n",
       "      <th></th>\n",
       "      <th></th>\n",
       "      <th></th>\n",
       "      <th></th>\n",
       "      <th></th>\n",
       "      <th></th>\n",
       "      <th></th>\n",
       "      <th></th>\n",
       "      <th></th>\n",
       "      <th></th>\n",
       "      <th></th>\n",
       "      <th></th>\n",
       "      <th></th>\n",
       "      <th></th>\n",
       "      <th></th>\n",
       "      <th></th>\n",
       "      <th></th>\n",
       "      <th></th>\n",
       "    </tr>\n",
       "  </thead>\n",
       "  <tbody>\n",
       "    <tr>\n",
       "      <th>000390df44c1034a2a629e6e35c8d54492b487a072e72be8a1b7782dce2b0c22</th>\n",
       "      <td>1</td>\n",
       "      <td>0.000000</td>\n",
       "      <td>0.263984</td>\n",
       "      <td>19</td>\n",
       "      <td>0.0</td>\n",
       "      <td>1</td>\n",
       "      <td>445.150000</td>\n",
       "      <td>69.129450</td>\n",
       "      <td>0</td>\n",
       "      <td>0</td>\n",
       "      <td>...</td>\n",
       "      <td>0</td>\n",
       "      <td>0</td>\n",
       "      <td>0</td>\n",
       "      <td>1</td>\n",
       "      <td>0</td>\n",
       "      <td>0</td>\n",
       "      <td>1</td>\n",
       "      <td>0</td>\n",
       "      <td>0</td>\n",
       "      <td>1</td>\n",
       "    </tr>\n",
       "    <tr>\n",
       "      <th>000403d34c694ed4eee1dd7e516ab6e46860024b9b36778f455950028f211a39</th>\n",
       "      <td>1</td>\n",
       "      <td>0.140000</td>\n",
       "      <td>0.263984</td>\n",
       "      <td>18</td>\n",
       "      <td>0.0</td>\n",
       "      <td>1</td>\n",
       "      <td>707.000000</td>\n",
       "      <td>69.129450</td>\n",
       "      <td>0</td>\n",
       "      <td>0</td>\n",
       "      <td>...</td>\n",
       "      <td>1</td>\n",
       "      <td>0</td>\n",
       "      <td>0</td>\n",
       "      <td>0</td>\n",
       "      <td>0</td>\n",
       "      <td>1</td>\n",
       "      <td>1</td>\n",
       "      <td>0</td>\n",
       "      <td>0</td>\n",
       "      <td>1</td>\n",
       "    </tr>\n",
       "    <tr>\n",
       "      <th>00043f82fab338e0c4737e3409950f5f0b26eaaf367fd97b7b1ffdd7be62c542</th>\n",
       "      <td>19</td>\n",
       "      <td>0.387895</td>\n",
       "      <td>0.325433</td>\n",
       "      <td>19</td>\n",
       "      <td>0.0</td>\n",
       "      <td>19</td>\n",
       "      <td>485.713158</td>\n",
       "      <td>83.151799</td>\n",
       "      <td>0</td>\n",
       "      <td>0</td>\n",
       "      <td>...</td>\n",
       "      <td>0</td>\n",
       "      <td>0</td>\n",
       "      <td>0</td>\n",
       "      <td>1</td>\n",
       "      <td>0</td>\n",
       "      <td>0</td>\n",
       "      <td>1</td>\n",
       "      <td>0</td>\n",
       "      <td>0</td>\n",
       "      <td>1</td>\n",
       "    </tr>\n",
       "    <tr>\n",
       "      <th>0005680d9835a1671f286e461057485d13d6f5d9948828bfc389badcb66407f6</th>\n",
       "      <td>7</td>\n",
       "      <td>0.424286</td>\n",
       "      <td>0.225969</td>\n",
       "      <td>18</td>\n",
       "      <td>0.0</td>\n",
       "      <td>7</td>\n",
       "      <td>400.264286</td>\n",
       "      <td>320.755666</td>\n",
       "      <td>0</td>\n",
       "      <td>0</td>\n",
       "      <td>...</td>\n",
       "      <td>1</td>\n",
       "      <td>0</td>\n",
       "      <td>0</td>\n",
       "      <td>0</td>\n",
       "      <td>0</td>\n",
       "      <td>1</td>\n",
       "      <td>0</td>\n",
       "      <td>1</td>\n",
       "      <td>0</td>\n",
       "      <td>1</td>\n",
       "    </tr>\n",
       "    <tr>\n",
       "      <th>000728dbeb393d3cc563705aa60da739f1cfae803de4d08d0e7a299a081a2b56</th>\n",
       "      <td>1</td>\n",
       "      <td>0.000000</td>\n",
       "      <td>0.263984</td>\n",
       "      <td>21</td>\n",
       "      <td>0.0</td>\n",
       "      <td>1</td>\n",
       "      <td>381.000000</td>\n",
       "      <td>69.129450</td>\n",
       "      <td>0</td>\n",
       "      <td>0</td>\n",
       "      <td>...</td>\n",
       "      <td>0</td>\n",
       "      <td>0</td>\n",
       "      <td>0</td>\n",
       "      <td>1</td>\n",
       "      <td>0</td>\n",
       "      <td>0</td>\n",
       "      <td>0</td>\n",
       "      <td>1</td>\n",
       "      <td>1</td>\n",
       "      <td>0</td>\n",
       "    </tr>\n",
       "  </tbody>\n",
       "</table>\n",
       "<p>5 rows × 40 columns</p>\n",
       "</div>"
      ],
      "text/plain": [
       "                                                    NUM_MATRICULAS  \\\n",
       "ID                                                                   \n",
       "000390df44c1034a2a629e6e35c8d54492b487a072e72be...               1   \n",
       "000403d34c694ed4eee1dd7e516ab6e46860024b9b36778...               1   \n",
       "00043f82fab338e0c4737e3409950f5f0b26eaaf367fd97...              19   \n",
       "0005680d9835a1671f286e461057485d13d6f5d9948828b...               7   \n",
       "000728dbeb393d3cc563705aa60da739f1cfae803de4d08...               1   \n",
       "\n",
       "                                                    PORC_ASISTENCIA_MEAN  \\\n",
       "ID                                                                         \n",
       "000390df44c1034a2a629e6e35c8d54492b487a072e72be...              0.000000   \n",
       "000403d34c694ed4eee1dd7e516ab6e46860024b9b36778...              0.140000   \n",
       "00043f82fab338e0c4737e3409950f5f0b26eaaf367fd97...              0.387895   \n",
       "0005680d9835a1671f286e461057485d13d6f5d9948828b...              0.424286   \n",
       "000728dbeb393d3cc563705aa60da739f1cfae803de4d08...              0.000000   \n",
       "\n",
       "                                                    PORC_ASISTENCIA_STD  \\\n",
       "ID                                                                        \n",
       "000390df44c1034a2a629e6e35c8d54492b487a072e72be...             0.263984   \n",
       "000403d34c694ed4eee1dd7e516ab6e46860024b9b36778...             0.263984   \n",
       "00043f82fab338e0c4737e3409950f5f0b26eaaf367fd97...             0.325433   \n",
       "0005680d9835a1671f286e461057485d13d6f5d9948828b...             0.225969   \n",
       "000728dbeb393d3cc563705aa60da739f1cfae803de4d08...             0.263984   \n",
       "\n",
       "                                                    EDAD_ANIO_ESTUDIO_MIN  \\\n",
       "ID                                                                          \n",
       "000390df44c1034a2a629e6e35c8d54492b487a072e72be...                     19   \n",
       "000403d34c694ed4eee1dd7e516ab6e46860024b9b36778...                     18   \n",
       "00043f82fab338e0c4737e3409950f5f0b26eaaf367fd97...                     19   \n",
       "0005680d9835a1671f286e461057485d13d6f5d9948828b...                     18   \n",
       "000728dbeb393d3cc563705aa60da739f1cfae803de4d08...                     21   \n",
       "\n",
       "                                                    SITUACION_DESERCION_AL_SEM  \\\n",
       "ID                                                                               \n",
       "000390df44c1034a2a629e6e35c8d54492b487a072e72be...                         0.0   \n",
       "000403d34c694ed4eee1dd7e516ab6e46860024b9b36778...                         0.0   \n",
       "00043f82fab338e0c4737e3409950f5f0b26eaaf367fd97...                         0.0   \n",
       "0005680d9835a1671f286e461057485d13d6f5d9948828b...                         0.0   \n",
       "000728dbeb393d3cc563705aa60da739f1cfae803de4d08...                         0.0   \n",
       "\n",
       "                                                    PLAN_ESTUDIOS_CAMBIO  \\\n",
       "ID                                                                         \n",
       "000390df44c1034a2a629e6e35c8d54492b487a072e72be...                     1   \n",
       "000403d34c694ed4eee1dd7e516ab6e46860024b9b36778...                     1   \n",
       "00043f82fab338e0c4737e3409950f5f0b26eaaf367fd97...                    19   \n",
       "0005680d9835a1671f286e461057485d13d6f5d9948828b...                     7   \n",
       "000728dbeb393d3cc563705aa60da739f1cfae803de4d08...                     1   \n",
       "\n",
       "                                                    MONTO_PENSION_MEAN  \\\n",
       "ID                                                                       \n",
       "000390df44c1034a2a629e6e35c8d54492b487a072e72be...          445.150000   \n",
       "000403d34c694ed4eee1dd7e516ab6e46860024b9b36778...          707.000000   \n",
       "00043f82fab338e0c4737e3409950f5f0b26eaaf367fd97...          485.713158   \n",
       "0005680d9835a1671f286e461057485d13d6f5d9948828b...          400.264286   \n",
       "000728dbeb393d3cc563705aa60da739f1cfae803de4d08...          381.000000   \n",
       "\n",
       "                                                    MONTO_PENSION_STD  \\\n",
       "ID                                                                      \n",
       "000390df44c1034a2a629e6e35c8d54492b487a072e72be...          69.129450   \n",
       "000403d34c694ed4eee1dd7e516ab6e46860024b9b36778...          69.129450   \n",
       "00043f82fab338e0c4737e3409950f5f0b26eaaf367fd97...          83.151799   \n",
       "0005680d9835a1671f286e461057485d13d6f5d9948828b...         320.755666   \n",
       "000728dbeb393d3cc563705aa60da739f1cfae803de4d08...          69.129450   \n",
       "\n",
       "                                                    MATRICULA_EXTEMPORANEO  \\\n",
       "ID                                                                           \n",
       "000390df44c1034a2a629e6e35c8d54492b487a072e72be...                       0   \n",
       "000403d34c694ed4eee1dd7e516ab6e46860024b9b36778...                       0   \n",
       "00043f82fab338e0c4737e3409950f5f0b26eaaf367fd97...                       0   \n",
       "0005680d9835a1671f286e461057485d13d6f5d9948828b...                       0   \n",
       "000728dbeb393d3cc563705aa60da739f1cfae803de4d08...                       0   \n",
       "\n",
       "                                                    CANT_ASIG_CONVALIDADOS  \\\n",
       "ID                                                                           \n",
       "000390df44c1034a2a629e6e35c8d54492b487a072e72be...                       0   \n",
       "000403d34c694ed4eee1dd7e516ab6e46860024b9b36778...                       0   \n",
       "00043f82fab338e0c4737e3409950f5f0b26eaaf367fd97...                       0   \n",
       "0005680d9835a1671f286e461057485d13d6f5d9948828b...                       0   \n",
       "000728dbeb393d3cc563705aa60da739f1cfae803de4d08...                       0   \n",
       "\n",
       "                                                    ...  MODAL_INGRESO_OTRO  \\\n",
       "ID                                                  ...                       \n",
       "000390df44c1034a2a629e6e35c8d54492b487a072e72be...  ...                   0   \n",
       "000403d34c694ed4eee1dd7e516ab6e46860024b9b36778...  ...                   1   \n",
       "00043f82fab338e0c4737e3409950f5f0b26eaaf367fd97...  ...                   0   \n",
       "0005680d9835a1671f286e461057485d13d6f5d9948828b...  ...                   1   \n",
       "000728dbeb393d3cc563705aa60da739f1cfae803de4d08...  ...                   0   \n",
       "\n",
       "                                                    MODAL_INGRESO_PRE  \\\n",
       "ID                                                                      \n",
       "000390df44c1034a2a629e6e35c8d54492b487a072e72be...                  0   \n",
       "000403d34c694ed4eee1dd7e516ab6e46860024b9b36778...                  0   \n",
       "00043f82fab338e0c4737e3409950f5f0b26eaaf367fd97...                  0   \n",
       "0005680d9835a1671f286e461057485d13d6f5d9948828b...                  0   \n",
       "000728dbeb393d3cc563705aa60da739f1cfae803de4d08...                  0   \n",
       "\n",
       "                                                    MODAL_INGRESO_TRASLADO  \\\n",
       "ID                                                                           \n",
       "000390df44c1034a2a629e6e35c8d54492b487a072e72be...                       0   \n",
       "000403d34c694ed4eee1dd7e516ab6e46860024b9b36778...                       0   \n",
       "00043f82fab338e0c4737e3409950f5f0b26eaaf367fd97...                       0   \n",
       "0005680d9835a1671f286e461057485d13d6f5d9948828b...                       0   \n",
       "000728dbeb393d3cc563705aa60da739f1cfae803de4d08...                       0   \n",
       "\n",
       "                                                    TIPO_COLEGIO_                                                    \\\n",
       "ID                                                                                                                    \n",
       "000390df44c1034a2a629e6e35c8d54492b487a072e72be...                                                  1                 \n",
       "000403d34c694ed4eee1dd7e516ab6e46860024b9b36778...                                                  0                 \n",
       "00043f82fab338e0c4737e3409950f5f0b26eaaf367fd97...                                                  1                 \n",
       "0005680d9835a1671f286e461057485d13d6f5d9948828b...                                                  0                 \n",
       "000728dbeb393d3cc563705aa60da739f1cfae803de4d08...                                                  1                 \n",
       "\n",
       "                                                    TIPO_COLEGIO_ESTATAL  \\\n",
       "ID                                                                         \n",
       "000390df44c1034a2a629e6e35c8d54492b487a072e72be...                     0   \n",
       "000403d34c694ed4eee1dd7e516ab6e46860024b9b36778...                     0   \n",
       "00043f82fab338e0c4737e3409950f5f0b26eaaf367fd97...                     0   \n",
       "0005680d9835a1671f286e461057485d13d6f5d9948828b...                     0   \n",
       "000728dbeb393d3cc563705aa60da739f1cfae803de4d08...                     0   \n",
       "\n",
       "                                                    TIPO_COLEGIO_PARTICULAR  \\\n",
       "ID                                                                            \n",
       "000390df44c1034a2a629e6e35c8d54492b487a072e72be...                        0   \n",
       "000403d34c694ed4eee1dd7e516ab6e46860024b9b36778...                        1   \n",
       "00043f82fab338e0c4737e3409950f5f0b26eaaf367fd97...                        0   \n",
       "0005680d9835a1671f286e461057485d13d6f5d9948828b...                        1   \n",
       "000728dbeb393d3cc563705aa60da739f1cfae803de4d08...                        0   \n",
       "\n",
       "                                                    SEXO_ESTUDIANTE_F  \\\n",
       "ID                                                                      \n",
       "000390df44c1034a2a629e6e35c8d54492b487a072e72be...                  1   \n",
       "000403d34c694ed4eee1dd7e516ab6e46860024b9b36778...                  1   \n",
       "00043f82fab338e0c4737e3409950f5f0b26eaaf367fd97...                  1   \n",
       "0005680d9835a1671f286e461057485d13d6f5d9948828b...                  0   \n",
       "000728dbeb393d3cc563705aa60da739f1cfae803de4d08...                  0   \n",
       "\n",
       "                                                    SEXO_ESTUDIANTE_M  \\\n",
       "ID                                                                      \n",
       "000390df44c1034a2a629e6e35c8d54492b487a072e72be...                  0   \n",
       "000403d34c694ed4eee1dd7e516ab6e46860024b9b36778...                  0   \n",
       "00043f82fab338e0c4737e3409950f5f0b26eaaf367fd97...                  0   \n",
       "0005680d9835a1671f286e461057485d13d6f5d9948828b...                  1   \n",
       "000728dbeb393d3cc563705aa60da739f1cfae803de4d08...                  1   \n",
       "\n",
       "                                                    PROCEDENCIA_FORANEO  \\\n",
       "ID                                                                        \n",
       "000390df44c1034a2a629e6e35c8d54492b487a072e72be...                    0   \n",
       "000403d34c694ed4eee1dd7e516ab6e46860024b9b36778...                    0   \n",
       "00043f82fab338e0c4737e3409950f5f0b26eaaf367fd97...                    0   \n",
       "0005680d9835a1671f286e461057485d13d6f5d9948828b...                    0   \n",
       "000728dbeb393d3cc563705aa60da739f1cfae803de4d08...                    1   \n",
       "\n",
       "                                                    PROCEDENCIA_LUGARENIO  \n",
       "ID                                                                         \n",
       "000390df44c1034a2a629e6e35c8d54492b487a072e72be...                      1  \n",
       "000403d34c694ed4eee1dd7e516ab6e46860024b9b36778...                      1  \n",
       "00043f82fab338e0c4737e3409950f5f0b26eaaf367fd97...                      1  \n",
       "0005680d9835a1671f286e461057485d13d6f5d9948828b...                      1  \n",
       "000728dbeb393d3cc563705aa60da739f1cfae803de4d08...                      0  \n",
       "\n",
       "[5 rows x 40 columns]"
      ]
     },
     "execution_count": 32,
     "metadata": {},
     "output_type": "execute_result"
    }
   ],
   "source": [
    "data_features = pd.get_dummies(data_features, columns = categorical_col)\n",
    "\n",
    "data_features.head()"
   ]
  },
  {
   "cell_type": "code",
   "execution_count": 33,
   "id": "8ead6e6e",
   "metadata": {},
   "outputs": [
    {
     "data": {
      "text/plain": [
       "(18699, 18699)"
      ]
     },
     "execution_count": 33,
     "metadata": {},
     "output_type": "execute_result"
    }
   ],
   "source": [
    "from sklearn.model_selection import train_test_split\n",
    "\n",
    "\n",
    "X = data_features.iloc[:,:-1]\n",
    "y = data_features['ABADONO']\n",
    "\n",
    "len(X), len(y)"
   ]
  },
  {
   "cell_type": "code",
   "execution_count": 34,
   "id": "d1f5158c",
   "metadata": {},
   "outputs": [],
   "source": [
    "from imblearn.over_sampling import SMOTE, ADASYN\n",
    "X_resampled, y_resampled = SMOTE().fit_resample(X, y)"
   ]
  },
  {
   "cell_type": "code",
   "execution_count": 35,
   "id": "50b67ca1",
   "metadata": {},
   "outputs": [
    {
     "data": {
      "text/plain": [
       "array([0, 0, 1, ..., 1, 1, 1])"
      ]
     },
     "execution_count": 35,
     "metadata": {},
     "output_type": "execute_result"
    }
   ],
   "source": [
    "y_resampled.values"
   ]
  },
  {
   "cell_type": "code",
   "execution_count": 36,
   "id": "c42cfbb6",
   "metadata": {},
   "outputs": [
    {
     "data": {
      "text/plain": [
       "(array([12591.,     0.,     0.,     0.,     0.,     0.,     0.,     0.,\n",
       "            0., 12591.]),\n",
       " array([0. , 0.1, 0.2, 0.3, 0.4, 0.5, 0.6, 0.7, 0.8, 0.9, 1. ]),\n",
       " <BarContainer object of 10 artists>)"
      ]
     },
     "execution_count": 36,
     "metadata": {},
     "output_type": "execute_result"
    },
    {
     "data": {
      "image/png": "[encoded data removed]",
      "text/plain": [
       "<Figure size 640x480 with 1 Axes>"
      ]
     },
     "metadata": {},
     "output_type": "display_data"
    }
   ],
   "source": [
    "plt.hist(y_resampled.values)"
   ]
  },
  {
   "cell_type": "code",
   "execution_count": 37,
   "id": "d91aae55",
   "metadata": {},
   "outputs": [
    {
     "data": {
      "text/plain": [
       "Index(['NUM_MATRICULAS', 'PORC_ASISTENCIA_MEAN', 'PORC_ASISTENCIA_STD',\n",
       "       'EDAD_ANIO_ESTUDIO_MIN', 'SITUACION_DESERCION_AL_SEM',\n",
       "       'PLAN_ESTUDIOS_CAMBIO', 'MONTO_PENSION_MEAN', 'MONTO_PENSION_STD',\n",
       "       'MATRICULA_EXTEMPORANEO', 'CANT_ASIG_CONVALIDADOS',\n",
       "       'CANT_CRED_CONVALIDADOS', 'PUNT_EXAMEN_ADMINISION', 'EDAD_INGRESANTE',\n",
       "       'NUM_INGRESOS_UNIVERSIDAD', 'NUM_CURSOS_APR_MEAN', 'NUM_CURSOS_APR_STD',\n",
       "       'CANT_CRED_APR_MEAN', 'CANT_CRED_APR_STD', 'NUM_CURSOS_DES_MEAN',\n",
       "       'NUM_CURSOS_DES_STD', 'CANT_CRED_DES_MEAN', 'CANT_CRED_DES_STD',\n",
       "       'ABADONO', 'ESCUELA_PROFESIONAL_FCEAC', 'ESCUELA_PROFESIONAL_FCSA',\n",
       "       'ESCUELA_PROFESIONAL_FCyH', 'ESCUELA_PROFESIONAL_FD',\n",
       "       'ESCUELA_PROFESIONAL_FIA', 'ESCUELA_PROFESIONAL_OTROS',\n",
       "       'MODAL_INGRESO_CONCURSO', 'MODAL_INGRESO_OTRO', 'MODAL_INGRESO_PRE',\n",
       "       'MODAL_INGRESO_TRASLADO',\n",
       "       'TIPO_COLEGIO_                                                  ',\n",
       "       'TIPO_COLEGIO_ESTATAL', 'TIPO_COLEGIO_PARTICULAR', 'SEXO_ESTUDIANTE_F',\n",
       "       'SEXO_ESTUDIANTE_M', 'PROCEDENCIA_FORANEO'],\n",
       "      dtype='object')"
      ]
     },
     "execution_count": 37,
     "metadata": {},
     "output_type": "execute_result"
    }
   ],
   "source": [
    "X_resampled.columns"
   ]
  },
  {
   "cell_type": "code",
   "execution_count": 38,
   "id": "09d35683",
   "metadata": {},
   "outputs": [
    {
     "data": {
      "text/plain": [
       "Index(['NUM_MATRICULAS', 'PORC_ASISTENCIA_MEAN', 'PORC_ASISTENCIA_STD',\n",
       "       'EDAD_ANIO_ESTUDIO_MIN', 'SITUACION_DESERCION_AL_SEM',\n",
       "       'PLAN_ESTUDIOS_CAMBIO', 'MONTO_PENSION_MEAN', 'MONTO_PENSION_STD',\n",
       "       'MATRICULA_EXTEMPORANEO', 'CANT_ASIG_CONVALIDADOS',\n",
       "       'CANT_CRED_CONVALIDADOS', 'PUNT_EXAMEN_ADMINISION', 'EDAD_INGRESANTE',\n",
       "       'NUM_INGRESOS_UNIVERSIDAD', 'NUM_CURSOS_APR_MEAN', 'NUM_CURSOS_APR_STD',\n",
       "       'CANT_CRED_APR_MEAN', 'CANT_CRED_APR_STD', 'NUM_CURSOS_DES_MEAN',\n",
       "       'NUM_CURSOS_DES_STD', 'CANT_CRED_DES_MEAN', 'CANT_CRED_DES_STD',\n",
       "       'ABADONO', 'ESCUELA_PROFESIONAL_FCEAC', 'ESCUELA_PROFESIONAL_FCSA',\n",
       "       'ESCUELA_PROFESIONAL_FCyH', 'ESCUELA_PROFESIONAL_FD',\n",
       "       'ESCUELA_PROFESIONAL_FIA', 'ESCUELA_PROFESIONAL_OTROS',\n",
       "       'MODAL_INGRESO_CONCURSO', 'MODAL_INGRESO_OTRO', 'MODAL_INGRESO_PRE',\n",
       "       'MODAL_INGRESO_TRASLADO',\n",
       "       'TIPO_COLEGIO_                                                  ',\n",
       "       'TIPO_COLEGIO_ESTATAL', 'TIPO_COLEGIO_PARTICULAR', 'SEXO_ESTUDIANTE_F',\n",
       "       'SEXO_ESTUDIANTE_M', 'PROCEDENCIA_FORANEO', 'target'],\n",
       "      dtype='object')"
      ]
     },
     "execution_count": 38,
     "metadata": {},
     "output_type": "execute_result"
    }
   ],
   "source": [
    "X_resampled['target'] = y_resampled\n",
    "X_resampled.to_csv('data/model_imput.csv', index=False)\n",
    "\n",
    "X_resampled.columns"
   ]
  },
  {
   "cell_type": "code",
   "execution_count": 39,
   "id": "8c000ce6",
   "metadata": {},
   "outputs": [
    {
     "data": {
      "text/html": [
       "<div>\n",
       "<style scoped>\n",
       "    .dataframe tbody tr th:only-of-type {\n",
       "        vertical-align: middle;\n",
       "    }\n",
       "\n",
       "    .dataframe tbody tr th {\n",
       "        vertical-align: top;\n",
       "    }\n",
       "\n",
       "    .dataframe thead th {\n",
       "        text-align: right;\n",
       "    }\n",
       "</style>\n",
       "<table border=\"1\" class=\"dataframe\">\n",
       "  <thead>\n",
       "    <tr style=\"text-align: right;\">\n",
       "      <th></th>\n",
       "      <th>NUM_MATRICULAS</th>\n",
       "      <th>PORC_ASISTENCIA_MEAN</th>\n",
       "      <th>PORC_ASISTENCIA_STD</th>\n",
       "      <th>EDAD_ANIO_ESTUDIO_MIN</th>\n",
       "      <th>SITUACION_DESERCION_AL_SEM</th>\n",
       "      <th>PLAN_ESTUDIOS_CAMBIO</th>\n",
       "      <th>MONTO_PENSION_MEAN</th>\n",
       "      <th>MONTO_PENSION_STD</th>\n",
       "      <th>MATRICULA_EXTEMPORANEO</th>\n",
       "      <th>CANT_ASIG_CONVALIDADOS</th>\n",
       "      <th>...</th>\n",
       "      <th>MODAL_INGRESO_OTRO</th>\n",
       "      <th>MODAL_INGRESO_PRE</th>\n",
       "      <th>MODAL_INGRESO_TRASLADO</th>\n",
       "      <th>TIPO_COLEGIO_</th>\n",
       "      <th>TIPO_COLEGIO_ESTATAL</th>\n",
       "      <th>TIPO_COLEGIO_PARTICULAR</th>\n",
       "      <th>SEXO_ESTUDIANTE_F</th>\n",
       "      <th>SEXO_ESTUDIANTE_M</th>\n",
       "      <th>PROCEDENCIA_FORANEO</th>\n",
       "      <th>target</th>\n",
       "    </tr>\n",
       "  </thead>\n",
       "  <tbody>\n",
       "    <tr>\n",
       "      <th>0</th>\n",
       "      <td>1</td>\n",
       "      <td>0.000000</td>\n",
       "      <td>0.263984</td>\n",
       "      <td>19</td>\n",
       "      <td>0.0</td>\n",
       "      <td>1</td>\n",
       "      <td>445.150000</td>\n",
       "      <td>69.129450</td>\n",
       "      <td>0</td>\n",
       "      <td>0</td>\n",
       "      <td>...</td>\n",
       "      <td>0</td>\n",
       "      <td>0</td>\n",
       "      <td>0</td>\n",
       "      <td>1</td>\n",
       "      <td>0</td>\n",
       "      <td>0</td>\n",
       "      <td>1</td>\n",
       "      <td>0</td>\n",
       "      <td>0</td>\n",
       "      <td>0</td>\n",
       "    </tr>\n",
       "    <tr>\n",
       "      <th>1</th>\n",
       "      <td>1</td>\n",
       "      <td>0.140000</td>\n",
       "      <td>0.263984</td>\n",
       "      <td>18</td>\n",
       "      <td>0.0</td>\n",
       "      <td>1</td>\n",
       "      <td>707.000000</td>\n",
       "      <td>69.129450</td>\n",
       "      <td>0</td>\n",
       "      <td>0</td>\n",
       "      <td>...</td>\n",
       "      <td>1</td>\n",
       "      <td>0</td>\n",
       "      <td>0</td>\n",
       "      <td>0</td>\n",
       "      <td>0</td>\n",
       "      <td>1</td>\n",
       "      <td>1</td>\n",
       "      <td>0</td>\n",
       "      <td>0</td>\n",
       "      <td>0</td>\n",
       "    </tr>\n",
       "    <tr>\n",
       "      <th>2</th>\n",
       "      <td>19</td>\n",
       "      <td>0.387895</td>\n",
       "      <td>0.325433</td>\n",
       "      <td>19</td>\n",
       "      <td>0.0</td>\n",
       "      <td>19</td>\n",
       "      <td>485.713158</td>\n",
       "      <td>83.151799</td>\n",
       "      <td>0</td>\n",
       "      <td>0</td>\n",
       "      <td>...</td>\n",
       "      <td>0</td>\n",
       "      <td>0</td>\n",
       "      <td>0</td>\n",
       "      <td>1</td>\n",
       "      <td>0</td>\n",
       "      <td>0</td>\n",
       "      <td>1</td>\n",
       "      <td>0</td>\n",
       "      <td>0</td>\n",
       "      <td>1</td>\n",
       "    </tr>\n",
       "    <tr>\n",
       "      <th>3</th>\n",
       "      <td>7</td>\n",
       "      <td>0.424286</td>\n",
       "      <td>0.225969</td>\n",
       "      <td>18</td>\n",
       "      <td>0.0</td>\n",
       "      <td>7</td>\n",
       "      <td>400.264286</td>\n",
       "      <td>320.755666</td>\n",
       "      <td>0</td>\n",
       "      <td>0</td>\n",
       "      <td>...</td>\n",
       "      <td>1</td>\n",
       "      <td>0</td>\n",
       "      <td>0</td>\n",
       "      <td>0</td>\n",
       "      <td>0</td>\n",
       "      <td>1</td>\n",
       "      <td>0</td>\n",
       "      <td>1</td>\n",
       "      <td>0</td>\n",
       "      <td>0</td>\n",
       "    </tr>\n",
       "    <tr>\n",
       "      <th>4</th>\n",
       "      <td>1</td>\n",
       "      <td>0.000000</td>\n",
       "      <td>0.263984</td>\n",
       "      <td>21</td>\n",
       "      <td>0.0</td>\n",
       "      <td>1</td>\n",
       "      <td>381.000000</td>\n",
       "      <td>69.129450</td>\n",
       "      <td>0</td>\n",
       "      <td>0</td>\n",
       "      <td>...</td>\n",
       "      <td>0</td>\n",
       "      <td>0</td>\n",
       "      <td>0</td>\n",
       "      <td>1</td>\n",
       "      <td>0</td>\n",
       "      <td>0</td>\n",
       "      <td>0</td>\n",
       "      <td>1</td>\n",
       "      <td>1</td>\n",
       "      <td>0</td>\n",
       "    </tr>\n",
       "  </tbody>\n",
       "</table>\n",
       "<p>5 rows × 40 columns</p>\n",
       "</div>"
      ],
      "text/plain": [
       "   NUM_MATRICULAS  PORC_ASISTENCIA_MEAN  PORC_ASISTENCIA_STD  \\\n",
       "0               1              0.000000             0.263984   \n",
       "1               1              0.140000             0.263984   \n",
       "2              19              0.387895             0.325433   \n",
       "3               7              0.424286             0.225969   \n",
       "4               1              0.000000             0.263984   \n",
       "\n",
       "   EDAD_ANIO_ESTUDIO_MIN  SITUACION_DESERCION_AL_SEM  PLAN_ESTUDIOS_CAMBIO  \\\n",
       "0                     19                         0.0                     1   \n",
       "1                     18                         0.0                     1   \n",
       "2                     19                         0.0                    19   \n",
       "3                     18                         0.0                     7   \n",
       "4                     21                         0.0                     1   \n",
       "\n",
       "   MONTO_PENSION_MEAN  MONTO_PENSION_STD  MATRICULA_EXTEMPORANEO  \\\n",
       "0          445.150000          69.129450                       0   \n",
       "1          707.000000          69.129450                       0   \n",
       "2          485.713158          83.151799                       0   \n",
       "3          400.264286         320.755666                       0   \n",
       "4          381.000000          69.129450                       0   \n",
       "\n",
       "   CANT_ASIG_CONVALIDADOS  ...  MODAL_INGRESO_OTRO  MODAL_INGRESO_PRE  \\\n",
       "0                       0  ...                   0                  0   \n",
       "1                       0  ...                   1                  0   \n",
       "2                       0  ...                   0                  0   \n",
       "3                       0  ...                   1                  0   \n",
       "4                       0  ...                   0                  0   \n",
       "\n",
       "   MODAL_INGRESO_TRASLADO  \\\n",
       "0                       0   \n",
       "1                       0   \n",
       "2                       0   \n",
       "3                       0   \n",
       "4                       0   \n",
       "\n",
       "   TIPO_COLEGIO_                                                    \\\n",
       "0                                                  1                 \n",
       "1                                                  0                 \n",
       "2                                                  1                 \n",
       "3                                                  0                 \n",
       "4                                                  1                 \n",
       "\n",
       "   TIPO_COLEGIO_ESTATAL  TIPO_COLEGIO_PARTICULAR  SEXO_ESTUDIANTE_F  \\\n",
       "0                     0                        0                  1   \n",
       "1                     0                        1                  1   \n",
       "2                     0                        0                  1   \n",
       "3                     0                        1                  0   \n",
       "4                     0                        0                  0   \n",
       "\n",
       "   SEXO_ESTUDIANTE_M  PROCEDENCIA_FORANEO  target  \n",
       "0                  0                    0       0  \n",
       "1                  0                    0       0  \n",
       "2                  0                    0       1  \n",
       "3                  1                    0       0  \n",
       "4                  1                    1       0  \n",
       "\n",
       "[5 rows x 40 columns]"
      ]
     },
     "execution_count": 39,
     "metadata": {},
     "output_type": "execute_result"
    }
   ],
   "source": [
    "X_resampled.head()"
   ]
  },
  {
   "cell_type": "code",
   "execution_count": null,
   "id": "42996811",
   "metadata": {},
   "outputs": [],
   "source": []
  }
 ],
 "metadata": {
  "kernelspec": {
   "display_name": "base",
   "language": "python",
   "name": "python3"
  },
  "language_info": {
   "codemirror_mode": {
    "name": "ipython",
    "version": 3
   },
   "file_extension": ".py",
   "mimetype": "text/x-python",
   "name": "python",
   "nbconvert_exporter": "python",
   "pygments_lexer": "ipython3",
   "version": "3.9.16"
  },
  "latex_envs": {
   "LaTeX_envs_menu_present": true,
   "autoclose": false,
   "autocomplete": true,
   "bibliofile": "biblio.bib",
   "cite_by": "apalike",
   "current_citInitial": 1,
   "eqLabelWithNumbers": true,
   "eqNumInitial": 1,
   "hotkeys": {
    "equation": "Ctrl-E",
    "itemize": "Ctrl-I"
   },
   "labels_anchors": false,
   "latex_user_defs": false,
   "report_style_numbering": false,
   "user_envs_cfg": false
  },
  "toc": {
   "base_numbering": 1,
   "nav_menu": {},
   "number_sections": true,
   "sideBar": true,
   "skip_h1_title": false,
   "title_cell": "Table of Contents",
   "title_sidebar": "Contents",
   "toc_cell": false,
   "toc_position": {},
   "toc_section_display": true,
   "toc_window_display": false
  },
  "vscode": {
   "interpreter": {
    "hash": "40d3a090f54c6569ab1632332b64b2c03c39dcf918b08424e98f38b5ae0af88f"
   }
  }
 },
 "nbformat": 4,
 "nbformat_minor": 5
}
