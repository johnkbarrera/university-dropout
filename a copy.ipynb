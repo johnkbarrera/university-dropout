{
 "cells": [
  {
   "cell_type": "code",
   "execution_count": 1,
   "id": "8e58ec1b",
   "metadata": {},
   "outputs": [
    {
     "name": "stderr",
     "output_type": "stream",
     "text": [
      "/opt/anaconda3/lib/python3.9/site-packages/geopandas/_compat.py:123: UserWarning: The Shapely GEOS version (3.9.1dev-CAPI-1.14.1) is incompatible with the GEOS version PyGEOS was compiled with (3.10.3-CAPI-1.16.1). Conversions between both will be slow.\n",
      "  warnings.warn(\n"
     ]
    }
   ],
   "source": [
    "import pandas as pd\n",
    "import numpy as np\n",
    "import math\n",
    "\n",
    "import seaborn as sns\n",
    "import matplotlib.pyplot as plt\n",
    "\n",
    "import plotly.express as px\n",
    "import plotly.figure_factory as ff\n",
    "\n",
    "from tqdm import tqdm, trange"
   ]
  },
  {
   "cell_type": "code",
   "execution_count": 2,
   "id": "4c430b6e",
   "metadata": {},
   "outputs": [],
   "source": [
    "def function_data_historical(df):\n",
    "  df = df[df['SITUACION_MATRICULA']==1]\n",
    "  df = df[['SEMESTRE',\n",
    "                        'ID',\n",
    "                        'COD_ESTUDIANTE',\n",
    "                        'ESCUELA_PROFESIONAL',\n",
    "                        'CANT_CURSO_MAT_CICLO_01', 'CANT_CURSO_MAT_CICLO_02', 'CANT_CURSO_MAT_CICLO_03',\n",
    "                        'CANT_CURSO_MAT_CICLO_04', 'CANT_CURSO_MAT_CICLO_05', 'CANT_CURSO_MAT_CICLO_06',\n",
    "                        'CANT_CURSO_MAT_CICLO_07', 'CANT_CURSO_MAT_CICLO_08', 'CANT_CURSO_MAT_CICLO_09',\n",
    "                        'CANT_CURSO_MAT_CICLO_10', 'CANT_CURSO_MAT_CICLO_11', 'CANT_CURSO_MAT_CICLO_12',\n",
    "                        'CANT_CURSO_MAT_CICLO_13', 'CANT_CURSO_MAT_CICLO_14',\n",
    "                        'CANT_CURSO_MAT_DES_CICLO_01', 'CANT_CURSO_MAT_DES_CICLO_02', 'CANT_CURSO_MAT_DES_CICLO_03',\n",
    "                        'CANT_CURSO_MAT_DES_CICLO_04', 'CANT_CURSO_MAT_DES_CICLO_05', 'CANT_CURSO_MAT_DES_CICLO_06',\n",
    "                        'CANT_CURSO_MAT_DES_CICLO_07', 'CANT_CURSO_MAT_DES_CICLO_08', 'CANT_CURSO_MAT_DES_CICLO_09',\n",
    "                        'CANT_CURSO_MAT_DES_CICLO_10', 'CANT_CURSO_MAT_DES_CICLO_11', 'CANT_CURSO_MAT_DES_CICLO_12',\n",
    "                        'CANT_CURSO_MAT_DES_CICLO_13', 'CANT_CURSO_MAT_DES_CICLO_14'\n",
    "                        ]]\n",
    "  df = df.reset_index(drop=True)\n",
    "\n",
    "  df = df.groupby(['ID']).agg(\n",
    "                #        NUM_MATRICULAS=('SEMESTRE','count'),\n",
    "                        COD_ESTUDIANTE=('COD_ESTUDIANTE','max'),\n",
    "                        ESCUELA_PROFESIONAL=('ESCUELA_PROFESIONAL','max'),\n",
    "                        NUM_CURSOS_APR_CICLO_01=('CANT_CURSO_MAT_CICLO_01','sum'),\n",
    "                        NUM_CURSOS_APR_CICLO_02=('CANT_CURSO_MAT_CICLO_02','sum'),\n",
    "                        NUM_CURSOS_APR_CICLO_03=('CANT_CURSO_MAT_CICLO_03','sum'),\n",
    "                        NUM_CURSOS_APR_CICLO_04=('CANT_CURSO_MAT_CICLO_04','sum'),\n",
    "                        NUM_CURSOS_APR_CICLO_05=('CANT_CURSO_MAT_CICLO_05','sum'),\n",
    "                        NUM_CURSOS_APR_CICLO_06=('CANT_CURSO_MAT_CICLO_06','sum'),\n",
    "                        NUM_CURSOS_APR_CICLO_07=('CANT_CURSO_MAT_CICLO_07','sum'),\n",
    "                        NUM_CURSOS_APR_CICLO_08=('CANT_CURSO_MAT_CICLO_08','sum'),\n",
    "                        NUM_CURSOS_APR_CICLO_09=('CANT_CURSO_MAT_CICLO_09','sum'),\n",
    "                        NUM_CURSOS_APR_CICLO_10=('CANT_CURSO_MAT_CICLO_10','sum'),\n",
    "                        NUM_CURSOS_APR_CICLO_11=('CANT_CURSO_MAT_CICLO_11','sum'),\n",
    "                        NUM_CURSOS_APR_CICLO_12=('CANT_CURSO_MAT_CICLO_12','sum'),\n",
    "                        NUM_CURSOS_APR_CICLO_13=('CANT_CURSO_MAT_CICLO_13','sum'),\n",
    "                        NUM_CURSOS_APR_CICLO_14=('CANT_CURSO_MAT_CICLO_14','sum'),\n",
    "                #         NUM_CURSOS_DES_CICLO_01=('CANT_CURSO_MAT_DES_CICLO_01','sum'),\n",
    "                #         NUM_CURSOS_DES_CICLO_02=('CANT_CURSO_MAT_DES_CICLO_02','sum'),\n",
    "                #         NUM_CURSOS_DES_CICLO_03=('CANT_CURSO_MAT_DES_CICLO_03','sum'),\n",
    "                #         NUM_CURSOS_DES_CICLO_04=('CANT_CURSO_MAT_DES_CICLO_04','sum'),\n",
    "                #         NUM_CURSOS_DES_CICLO_05=('CANT_CURSO_MAT_DES_CICLO_05','sum'),\n",
    "                #         NUM_CURSOS_DES_CICLO_06=('CANT_CURSO_MAT_DES_CICLO_06','sum'),\n",
    "                #         NUM_CURSOS_DES_CICLO_07=('CANT_CURSO_MAT_DES_CICLO_07','sum'),\n",
    "                #         NUM_CURSOS_DES_CICLO_08=('CANT_CURSO_MAT_DES_CICLO_08','sum'),\n",
    "                #         NUM_CURSOS_DES_CICLO_09=('CANT_CURSO_MAT_DES_CICLO_09','sum'),\n",
    "                #         NUM_CURSOS_DES_CICLO_10=('CANT_CURSO_MAT_DES_CICLO_10','sum'),\n",
    "                #         NUM_CURSOS_DES_CICLO_11=('CANT_CURSO_MAT_DES_CICLO_11','sum'),\n",
    "                #         NUM_CURSOS_DES_CICLO_12=('CANT_CURSO_MAT_DES_CICLO_12','sum'),\n",
    "                #         NUM_CURSOS_DES_CICLO_13=('CANT_CURSO_MAT_DES_CICLO_13','sum'),\n",
    "                #         NUM_CURSOS_DES_CICLO_14=('CANT_CURSO_MAT_DES_CICLO_14','sum'),\n",
    "      ).sort_values(by=['COD_ESTUDIANTE'], ascending=False)\n",
    "\n",
    "  df = df.reset_index(drop=False)\n",
    "  return df"
   ]
  },
  {
   "attachments": {},
   "cell_type": "markdown",
   "id": "4141ee6b",
   "metadata": {},
   "source": [
    "### Preparación de archivo\n",
    "\n",
    "Este código en Python utiliza las bibliotecas Pandas y Pickle para trabajar con un archivo de Excel y guardarlo en un archivo de formato pickle.\n",
    "\n",
    " - La primera línea establece una variable \"file\" que contiene la ruta al archivo \"DataSet_Tesis_COMPLETO_descompress.xlsx\".\n",
    " - La segunda línea utiliza el método \"read_excel\" de pandas para leer el archivo de excel especificado en la variable \"file\" y almacenar los datos en una variable llamada \"data\".\n",
    " - La tercera línea utiliza el método \"to_pickle\" de pandas para guardar los datos en un archivo llamado \"DataSet_Tesis.pkl\" en formato pickle.\n",
    " - La cuarta línea utiliza el método \"read_pickle\" de pandas para cargar los datos del archivo pickle \"DataSet_Tesis.pkl\" en una variable llamada \"data\".\n",
    " \n",
    " \n",
    "En resumen este código esta leyendo un archivo excel, guardando esa información en un archivo pickle y luego cargando nuevamente esa información desde ese archivo pickle.\n"
   ]
  },
  {
   "cell_type": "code",
   "execution_count": 3,
   "id": "1e7edb63",
   "metadata": {},
   "outputs": [],
   "source": [
    "# file = 'data/DataSet_Tesis_COMPLETO_descompress.xlsx'\n",
    "# data = pd.read_excel(file)\n",
    "# data.to_pickle('DataSet_Tesis.pkl')\n",
    "data = pd.read_pickle('DataSet_Tesis.pkl')"
   ]
  },
  {
   "cell_type": "code",
   "execution_count": 4,
   "id": "602a8952",
   "metadata": {},
   "outputs": [
    {
     "name": "stdout",
     "output_type": "stream",
     "text": [
      "Record number: 812720\n",
      "New record number: 797769\n"
     ]
    }
   ],
   "source": [
    "import hashlib\n",
    "\n",
    "data['ID'] = data['COD_ESTUDIANTE'] + data['ESCUELA_PROFESIONAL']\n",
    "data['ID'] = data['ID'].apply(lambda x: hashlib.sha256(x.encode('utf-8')).hexdigest())\n",
    "print('Record number:',len(data))\n",
    "\n",
    "# Eliminamos los ciclos de verano\n",
    "data = data[~data['SEMESTRE'].str.contains('C|O')]\n",
    "print('New record number:',len(data))"
   ]
  },
  {
   "attachments": {},
   "cell_type": "markdown",
   "id": "9143995e",
   "metadata": {},
   "source": [
    "##### Lista de alumnos"
   ]
  },
  {
   "cell_type": "code",
   "execution_count": 5,
   "id": "1fc8f7d6",
   "metadata": {},
   "outputs": [
    {
     "name": "stdout",
     "output_type": "stream",
     "text": [
      "Number of students: 52926\n"
     ]
    }
   ],
   "source": [
    "# Lista de alumnos\n",
    "alumnos_lista = list(set(data['ID']))\n",
    "print('Number of students:',len(alumnos_lista))"
   ]
  },
  {
   "attachments": {},
   "cell_type": "markdown",
   "id": "a68b674e",
   "metadata": {},
   "source": [
    "##### Eliminar datos de alumnos que están incompletos"
   ]
  },
  {
   "cell_type": "code",
   "execution_count": 7,
   "id": "ba9446f3",
   "metadata": {},
   "outputs": [
    {
     "data": {
      "application/vnd.plotly.v1+json": {
       "config": {
        "plotlyServerURL": "https://plot.ly"
       },
       "data": [
        {
         "coloraxis": "coloraxis",
         "hovertemplate": "x: %{x}<br>y: %{y}<br>color: %{z}<extra></extra>",
         "name": "0",
         "texttemplate": "%{z}",
         "type": "heatmap",
         "xaxis": "x",
         "yaxis": "y",
         "z": [
          [
           2.481175566653861,
           7.0418320741025315,
           5.354078627224997,
           4.2703504503350835,
           3.8859435693857516,
           3.57164809834806,
           3.463140820420882,
           2.9112989285866737,
           2.509348187988219,
           2.0794595978998593,
           0.5046100653092586,
           0.5688521791095744,
           0.005314380842617493,
           0.004012464250650959
          ],
          [
           5.226667811070123,
           5.423341330746335,
           4.398529380684741,
           3.8857349985418215,
           3.792233087447618,
           3.731069513692198,
           4.011412667389338,
           3.5766257107452737,
           3.1682297372814863,
           2.8892770073915837,
           1.7012383059243261,
           2.0501751660880396,
           0.0729995734489945,
           0.06321747920546038
          ]
         ]
        }
       ],
       "layout": {
        "coloraxis": {
         "colorscale": [
          [
           0,
           "#0d0887"
          ],
          [
           0.1111111111111111,
           "#46039f"
          ],
          [
           0.2222222222222222,
           "#7201a8"
          ],
          [
           0.3333333333333333,
           "#9c179e"
          ],
          [
           0.4444444444444444,
           "#bd3786"
          ],
          [
           0.5555555555555556,
           "#d8576b"
          ],
          [
           0.6666666666666666,
           "#ed7953"
          ],
          [
           0.7777777777777778,
           "#fb9f3a"
          ],
          [
           0.8888888888888888,
           "#fdca26"
          ],
          [
           1,
           "#f0f921"
          ]
         ]
        },
        "margin": {
         "t": 60
        },
        "template": {
         "data": {
          "bar": [
           {
            "error_x": {
             "color": "#2a3f5f"
            },
            "error_y": {
             "color": "#2a3f5f"
            },
            "marker": {
             "line": {
              "color": "#E5ECF6",
              "width": 0.5
             },
             "pattern": {
              "fillmode": "overlay",
              "size": 10,
              "solidity": 0.2
             }
            },
            "type": "bar"
           }
          ],
          "barpolar": [
           {
            "marker": {
             "line": {
              "color": "#E5ECF6",
              "width": 0.5
             },
             "pattern": {
              "fillmode": "overlay",
              "size": 10,
              "solidity": 0.2
             }
            },
            "type": "barpolar"
           }
          ],
          "carpet": [
           {
            "aaxis": {
             "endlinecolor": "#2a3f5f",
             "gridcolor": "white",
             "linecolor": "white",
             "minorgridcolor": "white",
             "startlinecolor": "#2a3f5f"
            },
            "baxis": {
             "endlinecolor": "#2a3f5f",
             "gridcolor": "white",
             "linecolor": "white",
             "minorgridcolor": "white",
             "startlinecolor": "#2a3f5f"
            },
            "type": "carpet"
           }
          ],
          "choropleth": [
           {
            "colorbar": {
             "outlinewidth": 0,
             "ticks": ""
            },
            "type": "choropleth"
           }
          ],
          "contour": [
           {
            "colorbar": {
             "outlinewidth": 0,
             "ticks": ""
            },
            "colorscale": [
             [
              0,
              "#0d0887"
             ],
             [
              0.1111111111111111,
              "#46039f"
             ],
             [
              0.2222222222222222,
              "#7201a8"
             ],
             [
              0.3333333333333333,
              "#9c179e"
             ],
             [
              0.4444444444444444,
              "#bd3786"
             ],
             [
              0.5555555555555556,
              "#d8576b"
             ],
             [
              0.6666666666666666,
              "#ed7953"
             ],
             [
              0.7777777777777778,
              "#fb9f3a"
             ],
             [
              0.8888888888888888,
              "#fdca26"
             ],
             [
              1,
              "#f0f921"
             ]
            ],
            "type": "contour"
           }
          ],
          "contourcarpet": [
           {
            "colorbar": {
             "outlinewidth": 0,
             "ticks": ""
            },
            "type": "contourcarpet"
           }
          ],
          "heatmap": [
           {
            "colorbar": {
             "outlinewidth": 0,
             "ticks": ""
            },
            "colorscale": [
             [
              0,
              "#0d0887"
             ],
             [
              0.1111111111111111,
              "#46039f"
             ],
             [
              0.2222222222222222,
              "#7201a8"
             ],
             [
              0.3333333333333333,
              "#9c179e"
             ],
             [
              0.4444444444444444,
              "#bd3786"
             ],
             [
              0.5555555555555556,
              "#d8576b"
             ],
             [
              0.6666666666666666,
              "#ed7953"
             ],
             [
              0.7777777777777778,
              "#fb9f3a"
             ],
             [
              0.8888888888888888,
              "#fdca26"
             ],
             [
              1,
              "#f0f921"
             ]
            ],
            "type": "heatmap"
           }
          ],
          "heatmapgl": [
           {
            "colorbar": {
             "outlinewidth": 0,
             "ticks": ""
            },
            "colorscale": [
             [
              0,
              "#0d0887"
             ],
             [
              0.1111111111111111,
              "#46039f"
             ],
             [
              0.2222222222222222,
              "#7201a8"
             ],
             [
              0.3333333333333333,
              "#9c179e"
             ],
             [
              0.4444444444444444,
              "#bd3786"
             ],
             [
              0.5555555555555556,
              "#d8576b"
             ],
             [
              0.6666666666666666,
              "#ed7953"
             ],
             [
              0.7777777777777778,
              "#fb9f3a"
             ],
             [
              0.8888888888888888,
              "#fdca26"
             ],
             [
              1,
              "#f0f921"
             ]
            ],
            "type": "heatmapgl"
           }
          ],
          "histogram": [
           {
            "marker": {
             "pattern": {
              "fillmode": "overlay",
              "size": 10,
              "solidity": 0.2
             }
            },
            "type": "histogram"
           }
          ],
          "histogram2d": [
           {
            "colorbar": {
             "outlinewidth": 0,
             "ticks": ""
            },
            "colorscale": [
             [
              0,
              "#0d0887"
             ],
             [
              0.1111111111111111,
              "#46039f"
             ],
             [
              0.2222222222222222,
              "#7201a8"
             ],
             [
              0.3333333333333333,
              "#9c179e"
             ],
             [
              0.4444444444444444,
              "#bd3786"
             ],
             [
              0.5555555555555556,
              "#d8576b"
             ],
             [
              0.6666666666666666,
              "#ed7953"
             ],
             [
              0.7777777777777778,
              "#fb9f3a"
             ],
             [
              0.8888888888888888,
              "#fdca26"
             ],
             [
              1,
              "#f0f921"
             ]
            ],
            "type": "histogram2d"
           }
          ],
          "histogram2dcontour": [
           {
            "colorbar": {
             "outlinewidth": 0,
             "ticks": ""
            },
            "colorscale": [
             [
              0,
              "#0d0887"
             ],
             [
              0.1111111111111111,
              "#46039f"
             ],
             [
              0.2222222222222222,
              "#7201a8"
             ],
             [
              0.3333333333333333,
              "#9c179e"
             ],
             [
              0.4444444444444444,
              "#bd3786"
             ],
             [
              0.5555555555555556,
              "#d8576b"
             ],
             [
              0.6666666666666666,
              "#ed7953"
             ],
             [
              0.7777777777777778,
              "#fb9f3a"
             ],
             [
              0.8888888888888888,
              "#fdca26"
             ],
             [
              1,
              "#f0f921"
             ]
            ],
            "type": "histogram2dcontour"
           }
          ],
          "mesh3d": [
           {
            "colorbar": {
             "outlinewidth": 0,
             "ticks": ""
            },
            "type": "mesh3d"
           }
          ],
          "parcoords": [
           {
            "line": {
             "colorbar": {
              "outlinewidth": 0,
              "ticks": ""
             }
            },
            "type": "parcoords"
           }
          ],
          "pie": [
           {
            "automargin": true,
            "type": "pie"
           }
          ],
          "scatter": [
           {
            "fillpattern": {
             "fillmode": "overlay",
             "size": 10,
             "solidity": 0.2
            },
            "type": "scatter"
           }
          ],
          "scatter3d": [
           {
            "line": {
             "colorbar": {
              "outlinewidth": 0,
              "ticks": ""
             }
            },
            "marker": {
             "colorbar": {
              "outlinewidth": 0,
              "ticks": ""
             }
            },
            "type": "scatter3d"
           }
          ],
          "scattercarpet": [
           {
            "marker": {
             "colorbar": {
              "outlinewidth": 0,
              "ticks": ""
             }
            },
            "type": "scattercarpet"
           }
          ],
          "scattergeo": [
           {
            "marker": {
             "colorbar": {
              "outlinewidth": 0,
              "ticks": ""
             }
            },
            "type": "scattergeo"
           }
          ],
          "scattergl": [
           {
            "marker": {
             "colorbar": {
              "outlinewidth": 0,
              "ticks": ""
             }
            },
            "type": "scattergl"
           }
          ],
          "scattermapbox": [
           {
            "marker": {
             "colorbar": {
              "outlinewidth": 0,
              "ticks": ""
             }
            },
            "type": "scattermapbox"
           }
          ],
          "scatterpolar": [
           {
            "marker": {
             "colorbar": {
              "outlinewidth": 0,
              "ticks": ""
             }
            },
            "type": "scatterpolar"
           }
          ],
          "scatterpolargl": [
           {
            "marker": {
             "colorbar": {
              "outlinewidth": 0,
              "ticks": ""
             }
            },
            "type": "scatterpolargl"
           }
          ],
          "scatterternary": [
           {
            "marker": {
             "colorbar": {
              "outlinewidth": 0,
              "ticks": ""
             }
            },
            "type": "scatterternary"
           }
          ],
          "surface": [
           {
            "colorbar": {
             "outlinewidth": 0,
             "ticks": ""
            },
            "colorscale": [
             [
              0,
              "#0d0887"
             ],
             [
              0.1111111111111111,
              "#46039f"
             ],
             [
              0.2222222222222222,
              "#7201a8"
             ],
             [
              0.3333333333333333,
              "#9c179e"
             ],
             [
              0.4444444444444444,
              "#bd3786"
             ],
             [
              0.5555555555555556,
              "#d8576b"
             ],
             [
              0.6666666666666666,
              "#ed7953"
             ],
             [
              0.7777777777777778,
              "#fb9f3a"
             ],
             [
              0.8888888888888888,
              "#fdca26"
             ],
             [
              1,
              "#f0f921"
             ]
            ],
            "type": "surface"
           }
          ],
          "table": [
           {
            "cells": {
             "fill": {
              "color": "#EBF0F8"
             },
             "line": {
              "color": "white"
             }
            },
            "header": {
             "fill": {
              "color": "#C8D4E3"
             },
             "line": {
              "color": "white"
             }
            },
            "type": "table"
           }
          ]
         },
         "layout": {
          "annotationdefaults": {
           "arrowcolor": "#2a3f5f",
           "arrowhead": 0,
           "arrowwidth": 1
          },
          "autotypenumbers": "strict",
          "coloraxis": {
           "colorbar": {
            "outlinewidth": 0,
            "ticks": ""
           }
          },
          "colorscale": {
           "diverging": [
            [
             0,
             "#8e0152"
            ],
            [
             0.1,
             "#c51b7d"
            ],
            [
             0.2,
             "#de77ae"
            ],
            [
             0.3,
             "#f1b6da"
            ],
            [
             0.4,
             "#fde0ef"
            ],
            [
             0.5,
             "#f7f7f7"
            ],
            [
             0.6,
             "#e6f5d0"
            ],
            [
             0.7,
             "#b8e186"
            ],
            [
             0.8,
             "#7fbc41"
            ],
            [
             0.9,
             "#4d9221"
            ],
            [
             1,
             "#276419"
            ]
           ],
           "sequential": [
            [
             0,
             "#0d0887"
            ],
            [
             0.1111111111111111,
             "#46039f"
            ],
            [
             0.2222222222222222,
             "#7201a8"
            ],
            [
             0.3333333333333333,
             "#9c179e"
            ],
            [
             0.4444444444444444,
             "#bd3786"
            ],
            [
             0.5555555555555556,
             "#d8576b"
            ],
            [
             0.6666666666666666,
             "#ed7953"
            ],
            [
             0.7777777777777778,
             "#fb9f3a"
            ],
            [
             0.8888888888888888,
             "#fdca26"
            ],
            [
             1,
             "#f0f921"
            ]
           ],
           "sequentialminus": [
            [
             0,
             "#0d0887"
            ],
            [
             0.1111111111111111,
             "#46039f"
            ],
            [
             0.2222222222222222,
             "#7201a8"
            ],
            [
             0.3333333333333333,
             "#9c179e"
            ],
            [
             0.4444444444444444,
             "#bd3786"
            ],
            [
             0.5555555555555556,
             "#d8576b"
            ],
            [
             0.6666666666666666,
             "#ed7953"
            ],
            [
             0.7777777777777778,
             "#fb9f3a"
            ],
            [
             0.8888888888888888,
             "#fdca26"
            ],
            [
             1,
             "#f0f921"
            ]
           ]
          },
          "colorway": [
           "#636efa",
           "#EF553B",
           "#00cc96",
           "#ab63fa",
           "#FFA15A",
           "#19d3f3",
           "#FF6692",
           "#B6E880",
           "#FF97FF",
           "#FECB52"
          ],
          "font": {
           "color": "#2a3f5f"
          },
          "geo": {
           "bgcolor": "white",
           "lakecolor": "white",
           "landcolor": "#E5ECF6",
           "showlakes": true,
           "showland": true,
           "subunitcolor": "white"
          },
          "hoverlabel": {
           "align": "left"
          },
          "hovermode": "closest",
          "mapbox": {
           "style": "light"
          },
          "paper_bgcolor": "white",
          "plot_bgcolor": "#E5ECF6",
          "polar": {
           "angularaxis": {
            "gridcolor": "white",
            "linecolor": "white",
            "ticks": ""
           },
           "bgcolor": "#E5ECF6",
           "radialaxis": {
            "gridcolor": "white",
            "linecolor": "white",
            "ticks": ""
           }
          },
          "scene": {
           "xaxis": {
            "backgroundcolor": "#E5ECF6",
            "gridcolor": "white",
            "gridwidth": 2,
            "linecolor": "white",
            "showbackground": true,
            "ticks": "",
            "zerolinecolor": "white"
           },
           "yaxis": {
            "backgroundcolor": "#E5ECF6",
            "gridcolor": "white",
            "gridwidth": 2,
            "linecolor": "white",
            "showbackground": true,
            "ticks": "",
            "zerolinecolor": "white"
           },
           "zaxis": {
            "backgroundcolor": "#E5ECF6",
            "gridcolor": "white",
            "gridwidth": 2,
            "linecolor": "white",
            "showbackground": true,
            "ticks": "",
            "zerolinecolor": "white"
           }
          },
          "shapedefaults": {
           "line": {
            "color": "#2a3f5f"
           }
          },
          "ternary": {
           "aaxis": {
            "gridcolor": "white",
            "linecolor": "white",
            "ticks": ""
           },
           "baxis": {
            "gridcolor": "white",
            "linecolor": "white",
            "ticks": ""
           },
           "bgcolor": "#E5ECF6",
           "caxis": {
            "gridcolor": "white",
            "linecolor": "white",
            "ticks": ""
           }
          },
          "title": {
           "x": 0.05
          },
          "xaxis": {
           "automargin": true,
           "gridcolor": "white",
           "linecolor": "white",
           "ticks": "",
           "title": {
            "standoff": 15
           },
           "zerolinecolor": "white",
           "zerolinewidth": 2
          },
          "yaxis": {
           "automargin": true,
           "gridcolor": "white",
           "linecolor": "white",
           "ticks": "",
           "title": {
            "standoff": 15
           },
           "zerolinecolor": "white",
           "zerolinewidth": 2
          }
         }
        },
        "xaxis": {
         "anchor": "y",
         "constrain": "domain",
         "domain": [
          0,
          1
         ],
         "scaleanchor": "y"
        },
        "yaxis": {
         "anchor": "x",
         "autorange": "reversed",
         "constrain": "domain",
         "domain": [
          0,
          1
         ]
        }
       }
      }
     },
     "metadata": {},
     "output_type": "display_data"
    }
   ],
   "source": [
    "# Data historial del Alumno (evolutivo)\n",
    "data_historial =  function_data_historical(data)\n",
    "data_historial.head()\n",
    "\n",
    "data_img =  data_historial.describe().iloc[1:3,:].values\n",
    "fig = px.imshow(data_img, text_auto=True)\n",
    "fig.show()\n",
    "\n",
    "# fig.show(renderer=\"svg\")"
   ]
  },
  {
   "cell_type": "code",
   "execution_count": 8,
   "id": "cdca3c75",
   "metadata": {},
   "outputs": [
    {
     "name": "stdout",
     "output_type": "stream",
     "text": [
      "Alumnos a eliminar (no se registra sus primeros ciclos): 26107\n",
      "New record number: 393306\n"
     ]
    }
   ],
   "source": [
    "# Eliminamos Alumnos cuya activIDad se registro despues del primer ciclo (son datos sin detalle previo)\n",
    "alumno_eliminar = data_historial[data_historial['NUM_CURSOS_APR_CICLO_01']==0]['ID'].values\n",
    "print('Alumnos a eliminar (no se registra sus primeros ciclos): '+str(len(alumno_eliminar)))\n",
    "data = data[~data['ID'].isin(alumno_eliminar)].reset_index(drop=True)\n",
    "\n",
    "print('New record number:',len(data))"
   ]
  },
  {
   "cell_type": "code",
   "execution_count": 9,
   "id": "341760e4",
   "metadata": {
    "scrolled": false
   },
   "outputs": [
    {
     "name": "stdout",
     "output_type": "stream",
     "text": [
      "20747\n"
     ]
    },
    {
     "data": {
      "application/vnd.plotly.v1+json": {
       "config": {
        "plotlyServerURL": "https://plot.ly"
       },
       "data": [
        {
         "coloraxis": "coloraxis",
         "hovertemplate": "x: %{x}<br>y: %{y}<br>color: %{z}<extra></extra>",
         "name": "0",
         "texttemplate": "%{z}",
         "type": "heatmap",
         "xaxis": "x",
         "yaxis": "y",
         "z": [
          [
           5.603364341832554,
           9.19067817033788,
           6.361883645828312,
           4.82956572034511,
           4.187545187255989,
           3.559357979466911,
           3.0806381645539114,
           2.4121559743577383,
           1.8589675615751675,
           1.5155926157998747,
           0.336385983515689,
           0.329493420735528,
           0.002506386465513086,
           0.001253193232756543
          ],
          [
           6.648293138591917,
           6.129069345507333,
           5.071687847458044,
           4.4051939077465905,
           4.3755059845753905,
           4.120425538175669,
           3.9507359424748367,
           3.3592583284224578,
           2.7804156916463456,
           2.5833983556460347,
           1.3823501167307322,
           1.4847075960942686,
           0.05000224997530444,
           0.03537913326066768
          ]
         ]
        }
       ],
       "layout": {
        "coloraxis": {
         "colorscale": [
          [
           0,
           "#0d0887"
          ],
          [
           0.1111111111111111,
           "#46039f"
          ],
          [
           0.2222222222222222,
           "#7201a8"
          ],
          [
           0.3333333333333333,
           "#9c179e"
          ],
          [
           0.4444444444444444,
           "#bd3786"
          ],
          [
           0.5555555555555556,
           "#d8576b"
          ],
          [
           0.6666666666666666,
           "#ed7953"
          ],
          [
           0.7777777777777778,
           "#fb9f3a"
          ],
          [
           0.8888888888888888,
           "#fdca26"
          ],
          [
           1,
           "#f0f921"
          ]
         ]
        },
        "margin": {
         "t": 60
        },
        "template": {
         "data": {
          "bar": [
           {
            "error_x": {
             "color": "#2a3f5f"
            },
            "error_y": {
             "color": "#2a3f5f"
            },
            "marker": {
             "line": {
              "color": "#E5ECF6",
              "width": 0.5
             },
             "pattern": {
              "fillmode": "overlay",
              "size": 10,
              "solidity": 0.2
             }
            },
            "type": "bar"
           }
          ],
          "barpolar": [
           {
            "marker": {
             "line": {
              "color": "#E5ECF6",
              "width": 0.5
             },
             "pattern": {
              "fillmode": "overlay",
              "size": 10,
              "solidity": 0.2
             }
            },
            "type": "barpolar"
           }
          ],
          "carpet": [
           {
            "aaxis": {
             "endlinecolor": "#2a3f5f",
             "gridcolor": "white",
             "linecolor": "white",
             "minorgridcolor": "white",
             "startlinecolor": "#2a3f5f"
            },
            "baxis": {
             "endlinecolor": "#2a3f5f",
             "gridcolor": "white",
             "linecolor": "white",
             "minorgridcolor": "white",
             "startlinecolor": "#2a3f5f"
            },
            "type": "carpet"
           }
          ],
          "choropleth": [
           {
            "colorbar": {
             "outlinewidth": 0,
             "ticks": ""
            },
            "type": "choropleth"
           }
          ],
          "contour": [
           {
            "colorbar": {
             "outlinewidth": 0,
             "ticks": ""
            },
            "colorscale": [
             [
              0,
              "#0d0887"
             ],
             [
              0.1111111111111111,
              "#46039f"
             ],
             [
              0.2222222222222222,
              "#7201a8"
             ],
             [
              0.3333333333333333,
              "#9c179e"
             ],
             [
              0.4444444444444444,
              "#bd3786"
             ],
             [
              0.5555555555555556,
              "#d8576b"
             ],
             [
              0.6666666666666666,
              "#ed7953"
             ],
             [
              0.7777777777777778,
              "#fb9f3a"
             ],
             [
              0.8888888888888888,
              "#fdca26"
             ],
             [
              1,
              "#f0f921"
             ]
            ],
            "type": "contour"
           }
          ],
          "contourcarpet": [
           {
            "colorbar": {
             "outlinewidth": 0,
             "ticks": ""
            },
            "type": "contourcarpet"
           }
          ],
          "heatmap": [
           {
            "colorbar": {
             "outlinewidth": 0,
             "ticks": ""
            },
            "colorscale": [
             [
              0,
              "#0d0887"
             ],
             [
              0.1111111111111111,
              "#46039f"
             ],
             [
              0.2222222222222222,
              "#7201a8"
             ],
             [
              0.3333333333333333,
              "#9c179e"
             ],
             [
              0.4444444444444444,
              "#bd3786"
             ],
             [
              0.5555555555555556,
              "#d8576b"
             ],
             [
              0.6666666666666666,
              "#ed7953"
             ],
             [
              0.7777777777777778,
              "#fb9f3a"
             ],
             [
              0.8888888888888888,
              "#fdca26"
             ],
             [
              1,
              "#f0f921"
             ]
            ],
            "type": "heatmap"
           }
          ],
          "heatmapgl": [
           {
            "colorbar": {
             "outlinewidth": 0,
             "ticks": ""
            },
            "colorscale": [
             [
              0,
              "#0d0887"
             ],
             [
              0.1111111111111111,
              "#46039f"
             ],
             [
              0.2222222222222222,
              "#7201a8"
             ],
             [
              0.3333333333333333,
              "#9c179e"
             ],
             [
              0.4444444444444444,
              "#bd3786"
             ],
             [
              0.5555555555555556,
              "#d8576b"
             ],
             [
              0.6666666666666666,
              "#ed7953"
             ],
             [
              0.7777777777777778,
              "#fb9f3a"
             ],
             [
              0.8888888888888888,
              "#fdca26"
             ],
             [
              1,
              "#f0f921"
             ]
            ],
            "type": "heatmapgl"
           }
          ],
          "histogram": [
           {
            "marker": {
             "pattern": {
              "fillmode": "overlay",
              "size": 10,
              "solidity": 0.2
             }
            },
            "type": "histogram"
           }
          ],
          "histogram2d": [
           {
            "colorbar": {
             "outlinewidth": 0,
             "ticks": ""
            },
            "colorscale": [
             [
              0,
              "#0d0887"
             ],
             [
              0.1111111111111111,
              "#46039f"
             ],
             [
              0.2222222222222222,
              "#7201a8"
             ],
             [
              0.3333333333333333,
              "#9c179e"
             ],
             [
              0.4444444444444444,
              "#bd3786"
             ],
             [
              0.5555555555555556,
              "#d8576b"
             ],
             [
              0.6666666666666666,
              "#ed7953"
             ],
             [
              0.7777777777777778,
              "#fb9f3a"
             ],
             [
              0.8888888888888888,
              "#fdca26"
             ],
             [
              1,
              "#f0f921"
             ]
            ],
            "type": "histogram2d"
           }
          ],
          "histogram2dcontour": [
           {
            "colorbar": {
             "outlinewidth": 0,
             "ticks": ""
            },
            "colorscale": [
             [
              0,
              "#0d0887"
             ],
             [
              0.1111111111111111,
              "#46039f"
             ],
             [
              0.2222222222222222,
              "#7201a8"
             ],
             [
              0.3333333333333333,
              "#9c179e"
             ],
             [
              0.4444444444444444,
              "#bd3786"
             ],
             [
              0.5555555555555556,
              "#d8576b"
             ],
             [
              0.6666666666666666,
              "#ed7953"
             ],
             [
              0.7777777777777778,
              "#fb9f3a"
             ],
             [
              0.8888888888888888,
              "#fdca26"
             ],
             [
              1,
              "#f0f921"
             ]
            ],
            "type": "histogram2dcontour"
           }
          ],
          "mesh3d": [
           {
            "colorbar": {
             "outlinewidth": 0,
             "ticks": ""
            },
            "type": "mesh3d"
           }
          ],
          "parcoords": [
           {
            "line": {
             "colorbar": {
              "outlinewidth": 0,
              "ticks": ""
             }
            },
            "type": "parcoords"
           }
          ],
          "pie": [
           {
            "automargin": true,
            "type": "pie"
           }
          ],
          "scatter": [
           {
            "fillpattern": {
             "fillmode": "overlay",
             "size": 10,
             "solidity": 0.2
            },
            "type": "scatter"
           }
          ],
          "scatter3d": [
           {
            "line": {
             "colorbar": {
              "outlinewidth": 0,
              "ticks": ""
             }
            },
            "marker": {
             "colorbar": {
              "outlinewidth": 0,
              "ticks": ""
             }
            },
            "type": "scatter3d"
           }
          ],
          "scattercarpet": [
           {
            "marker": {
             "colorbar": {
              "outlinewidth": 0,
              "ticks": ""
             }
            },
            "type": "scattercarpet"
           }
          ],
          "scattergeo": [
           {
            "marker": {
             "colorbar": {
              "outlinewidth": 0,
              "ticks": ""
             }
            },
            "type": "scattergeo"
           }
          ],
          "scattergl": [
           {
            "marker": {
             "colorbar": {
              "outlinewidth": 0,
              "ticks": ""
             }
            },
            "type": "scattergl"
           }
          ],
          "scattermapbox": [
           {
            "marker": {
             "colorbar": {
              "outlinewidth": 0,
              "ticks": ""
             }
            },
            "type": "scattermapbox"
           }
          ],
          "scatterpolar": [
           {
            "marker": {
             "colorbar": {
              "outlinewidth": 0,
              "ticks": ""
             }
            },
            "type": "scatterpolar"
           }
          ],
          "scatterpolargl": [
           {
            "marker": {
             "colorbar": {
              "outlinewidth": 0,
              "ticks": ""
             }
            },
            "type": "scatterpolargl"
           }
          ],
          "scatterternary": [
           {
            "marker": {
             "colorbar": {
              "outlinewidth": 0,
              "ticks": ""
             }
            },
            "type": "scatterternary"
           }
          ],
          "surface": [
           {
            "colorbar": {
             "outlinewidth": 0,
             "ticks": ""
            },
            "colorscale": [
             [
              0,
              "#0d0887"
             ],
             [
              0.1111111111111111,
              "#46039f"
             ],
             [
              0.2222222222222222,
              "#7201a8"
             ],
             [
              0.3333333333333333,
              "#9c179e"
             ],
             [
              0.4444444444444444,
              "#bd3786"
             ],
             [
              0.5555555555555556,
              "#d8576b"
             ],
             [
              0.6666666666666666,
              "#ed7953"
             ],
             [
              0.7777777777777778,
              "#fb9f3a"
             ],
             [
              0.8888888888888888,
              "#fdca26"
             ],
             [
              1,
              "#f0f921"
             ]
            ],
            "type": "surface"
           }
          ],
          "table": [
           {
            "cells": {
             "fill": {
              "color": "#EBF0F8"
             },
             "line": {
              "color": "white"
             }
            },
            "header": {
             "fill": {
              "color": "#C8D4E3"
             },
             "line": {
              "color": "white"
             }
            },
            "type": "table"
           }
          ]
         },
         "layout": {
          "annotationdefaults": {
           "arrowcolor": "#2a3f5f",
           "arrowhead": 0,
           "arrowwidth": 1
          },
          "autotypenumbers": "strict",
          "coloraxis": {
           "colorbar": {
            "outlinewidth": 0,
            "ticks": ""
           }
          },
          "colorscale": {
           "diverging": [
            [
             0,
             "#8e0152"
            ],
            [
             0.1,
             "#c51b7d"
            ],
            [
             0.2,
             "#de77ae"
            ],
            [
             0.3,
             "#f1b6da"
            ],
            [
             0.4,
             "#fde0ef"
            ],
            [
             0.5,
             "#f7f7f7"
            ],
            [
             0.6,
             "#e6f5d0"
            ],
            [
             0.7,
             "#b8e186"
            ],
            [
             0.8,
             "#7fbc41"
            ],
            [
             0.9,
             "#4d9221"
            ],
            [
             1,
             "#276419"
            ]
           ],
           "sequential": [
            [
             0,
             "#0d0887"
            ],
            [
             0.1111111111111111,
             "#46039f"
            ],
            [
             0.2222222222222222,
             "#7201a8"
            ],
            [
             0.3333333333333333,
             "#9c179e"
            ],
            [
             0.4444444444444444,
             "#bd3786"
            ],
            [
             0.5555555555555556,
             "#d8576b"
            ],
            [
             0.6666666666666666,
             "#ed7953"
            ],
            [
             0.7777777777777778,
             "#fb9f3a"
            ],
            [
             0.8888888888888888,
             "#fdca26"
            ],
            [
             1,
             "#f0f921"
            ]
           ],
           "sequentialminus": [
            [
             0,
             "#0d0887"
            ],
            [
             0.1111111111111111,
             "#46039f"
            ],
            [
             0.2222222222222222,
             "#7201a8"
            ],
            [
             0.3333333333333333,
             "#9c179e"
            ],
            [
             0.4444444444444444,
             "#bd3786"
            ],
            [
             0.5555555555555556,
             "#d8576b"
            ],
            [
             0.6666666666666666,
             "#ed7953"
            ],
            [
             0.7777777777777778,
             "#fb9f3a"
            ],
            [
             0.8888888888888888,
             "#fdca26"
            ],
            [
             1,
             "#f0f921"
            ]
           ]
          },
          "colorway": [
           "#636efa",
           "#EF553B",
           "#00cc96",
           "#ab63fa",
           "#FFA15A",
           "#19d3f3",
           "#FF6692",
           "#B6E880",
           "#FF97FF",
           "#FECB52"
          ],
          "font": {
           "color": "#2a3f5f"
          },
          "geo": {
           "bgcolor": "white",
           "lakecolor": "white",
           "landcolor": "#E5ECF6",
           "showlakes": true,
           "showland": true,
           "subunitcolor": "white"
          },
          "hoverlabel": {
           "align": "left"
          },
          "hovermode": "closest",
          "mapbox": {
           "style": "light"
          },
          "paper_bgcolor": "white",
          "plot_bgcolor": "#E5ECF6",
          "polar": {
           "angularaxis": {
            "gridcolor": "white",
            "linecolor": "white",
            "ticks": ""
           },
           "bgcolor": "#E5ECF6",
           "radialaxis": {
            "gridcolor": "white",
            "linecolor": "white",
            "ticks": ""
           }
          },
          "scene": {
           "xaxis": {
            "backgroundcolor": "#E5ECF6",
            "gridcolor": "white",
            "gridwidth": 2,
            "linecolor": "white",
            "showbackground": true,
            "ticks": "",
            "zerolinecolor": "white"
           },
           "yaxis": {
            "backgroundcolor": "#E5ECF6",
            "gridcolor": "white",
            "gridwidth": 2,
            "linecolor": "white",
            "showbackground": true,
            "ticks": "",
            "zerolinecolor": "white"
           },
           "zaxis": {
            "backgroundcolor": "#E5ECF6",
            "gridcolor": "white",
            "gridwidth": 2,
            "linecolor": "white",
            "showbackground": true,
            "ticks": "",
            "zerolinecolor": "white"
           }
          },
          "shapedefaults": {
           "line": {
            "color": "#2a3f5f"
           }
          },
          "ternary": {
           "aaxis": {
            "gridcolor": "white",
            "linecolor": "white",
            "ticks": ""
           },
           "baxis": {
            "gridcolor": "white",
            "linecolor": "white",
            "ticks": ""
           },
           "bgcolor": "#E5ECF6",
           "caxis": {
            "gridcolor": "white",
            "linecolor": "white",
            "ticks": ""
           }
          },
          "title": {
           "x": 0.05
          },
          "xaxis": {
           "automargin": true,
           "gridcolor": "white",
           "linecolor": "white",
           "ticks": "",
           "title": {
            "standoff": 15
           },
           "zerolinecolor": "white",
           "zerolinewidth": 2
          },
          "yaxis": {
           "automargin": true,
           "gridcolor": "white",
           "linecolor": "white",
           "ticks": "",
           "title": {
            "standoff": 15
           },
           "zerolinecolor": "white",
           "zerolinewidth": 2
          }
         }
        },
        "xaxis": {
         "anchor": "y",
         "constrain": "domain",
         "domain": [
          0,
          1
         ],
         "scaleanchor": "y"
        },
        "yaxis": {
         "anchor": "x",
         "autorange": "reversed",
         "constrain": "domain",
         "domain": [
          0,
          1
         ]
        }
       }
      }
     },
     "metadata": {},
     "output_type": "display_data"
    }
   ],
   "source": [
    "# Reconstruimos data historical\n",
    "data_historial =  function_data_historical(data)\n",
    "print(len(set(data_historial['ID'])))\n",
    "\n",
    "data_img =  data_historial.describe().iloc[1:3,:].values\n",
    "fig = px.imshow(data_img, text_auto=True)\n",
    "fig.show()\n"
   ]
  },
  {
   "attachments": {},
   "cell_type": "markdown",
   "id": "4e2cf341",
   "metadata": {},
   "source": [
    "### Etiquetando a los alumnos que tuvieron al menos una interrupción (abandono) en su proceso educativo"
   ]
  },
  {
   "cell_type": "code",
   "execution_count": 10,
   "id": "509e6e0b",
   "metadata": {},
   "outputs": [],
   "source": [
    "# IDentificado alumnos que tuvieron un BREAK\n",
    "\n",
    "def encontrar_espacios(list_values):\n",
    "  '''\n",
    "    IDentificado alumnos que tuvieron un BREAK, \n",
    "    es decir que  abandonaron la universIDad \n",
    "    al menos un periodo.\n",
    "  '''\n",
    "  dejo_universIDad = None\n",
    "  counter = 0\n",
    "  counter_2 = counter\n",
    "  previo = -1\n",
    "  for actual in list_values:\n",
    "    if previo == 1 and actual == 0:\n",
    "        dejo_universIDad = True\n",
    "    elif dejo_universIDad:\n",
    "      counter_2 += 1\n",
    "      if actual == 1:\n",
    "       return counter_2\n",
    "    else:\n",
    "      pass    \n",
    "    previo = actual\n",
    "  return counter\n"
   ]
  },
  {
   "cell_type": "code",
   "execution_count": 11,
   "id": "4a926dc9",
   "metadata": {},
   "outputs": [
    {
     "data": {
      "text/html": [
       "<div>\n",
       "<style scoped>\n",
       "    .dataframe tbody tr th:only-of-type {\n",
       "        vertical-align: middle;\n",
       "    }\n",
       "\n",
       "    .dataframe tbody tr th {\n",
       "        vertical-align: top;\n",
       "    }\n",
       "\n",
       "    .dataframe thead th {\n",
       "        text-align: right;\n",
       "    }\n",
       "</style>\n",
       "<table border=\"1\" class=\"dataframe\">\n",
       "  <thead>\n",
       "    <tr style=\"text-align: right;\">\n",
       "      <th>SEMESTRE</th>\n",
       "      <th>ID</th>\n",
       "      <th>COD_ESTUDIANTE</th>\n",
       "      <th>ESCUELA_PROFESIONAL</th>\n",
       "      <th>ABADONO_PERIODOS</th>\n",
       "      <th>ABADONO</th>\n",
       "    </tr>\n",
       "  </thead>\n",
       "  <tbody>\n",
       "    <tr>\n",
       "      <th>0</th>\n",
       "      <td>000269e566cf69064e355019e72c1e80f8cb0042959647...</td>\n",
       "      <td>alumno1516</td>\n",
       "      <td>TURISMO</td>\n",
       "      <td>0</td>\n",
       "      <td>0</td>\n",
       "    </tr>\n",
       "    <tr>\n",
       "      <th>1</th>\n",
       "      <td>0002cb7c11f30aa6149820c5ad60e61405efc37178daee...</td>\n",
       "      <td>alumno50422</td>\n",
       "      <td>ADMINISTRACION</td>\n",
       "      <td>0</td>\n",
       "      <td>0</td>\n",
       "    </tr>\n",
       "    <tr>\n",
       "      <th>2</th>\n",
       "      <td>000390df44c1034a2a629e6e35c8d54492b487a072e72b...</td>\n",
       "      <td>alumno25682</td>\n",
       "      <td>INGENIERIA DE SISTEMAS</td>\n",
       "      <td>0</td>\n",
       "      <td>0</td>\n",
       "    </tr>\n",
       "    <tr>\n",
       "      <th>3</th>\n",
       "      <td>000403d34c694ed4eee1dd7e516ab6e46860024b9b3677...</td>\n",
       "      <td>alumno36011</td>\n",
       "      <td>ARQUITECTURA</td>\n",
       "      <td>0</td>\n",
       "      <td>0</td>\n",
       "    </tr>\n",
       "    <tr>\n",
       "      <th>4</th>\n",
       "      <td>00043f82fab338e0c4737e3409950f5f0b26eaaf367fd9...</td>\n",
       "      <td>alumno17934</td>\n",
       "      <td>DERECHO</td>\n",
       "      <td>1</td>\n",
       "      <td>1</td>\n",
       "    </tr>\n",
       "  </tbody>\n",
       "</table>\n",
       "</div>"
      ],
      "text/plain": [
       "SEMESTRE                                                 ID COD_ESTUDIANTE  \\\n",
       "0         000269e566cf69064e355019e72c1e80f8cb0042959647...     alumno1516   \n",
       "1         0002cb7c11f30aa6149820c5ad60e61405efc37178daee...    alumno50422   \n",
       "2         000390df44c1034a2a629e6e35c8d54492b487a072e72b...    alumno25682   \n",
       "3         000403d34c694ed4eee1dd7e516ab6e46860024b9b3677...    alumno36011   \n",
       "4         00043f82fab338e0c4737e3409950f5f0b26eaaf367fd9...    alumno17934   \n",
       "\n",
       "SEMESTRE     ESCUELA_PROFESIONAL  ABADONO_PERIODOS  ABADONO  \n",
       "0                        TURISMO                 0        0  \n",
       "1                 ADMINISTRACION                 0        0  \n",
       "2         INGENIERIA DE SISTEMAS                 0        0  \n",
       "3                   ARQUITECTURA                 0        0  \n",
       "4                        DERECHO                 1        1  "
      ]
     },
     "execution_count": 11,
     "metadata": {},
     "output_type": "execute_result"
    }
   ],
   "source": [
    "data_abandono = data[['ID',\n",
    "                  'COD_ESTUDIANTE',\n",
    "                  'ESCUELA_PROFESIONAL', \n",
    "                  'SEMESTRE',\n",
    "                  'SITUACION_MATRICULA']\n",
    "                 ].pivot(\n",
    "                      index=['ID', \n",
    "                             'COD_ESTUDIANTE', \n",
    "                             'ESCUELA_PROFESIONAL'], \n",
    "                      columns='SEMESTRE', \n",
    "                      values='SITUACION_MATRICULA'\n",
    "                    )\n",
    "                 \n",
    "data_abandono = data_abandono.reset_index(drop=False)\n",
    "data_abandono['lista'] = data_abandono.iloc[:,3:].values.tolist()\n",
    "\n",
    "data_abandono['ABADONO_PERIODOS'] = data_abandono['lista'].apply(lambda x: encontrar_espacios(x))\n",
    "data_abandono = data_abandono[['ID', 'COD_ESTUDIANTE', 'ESCUELA_PROFESIONAL', 'ABADONO_PERIODOS']]\n",
    "\n",
    "data_abandono['ABADONO'] = data_abandono['ABADONO_PERIODOS'].apply(lambda x: 1 if x>0 else 0)\n",
    "\n",
    "data_abandono.head()"
   ]
  },
  {
   "attachments": {},
   "cell_type": "markdown",
   "id": "a0e39738",
   "metadata": {},
   "source": [
    "##### Figura"
   ]
  },
  {
   "cell_type": "code",
   "execution_count": 12,
   "id": "d712e629",
   "metadata": {},
   "outputs": [
    {
     "data": {
      "text/html": [
       "<div>\n",
       "<style scoped>\n",
       "    .dataframe tbody tr th:only-of-type {\n",
       "        vertical-align: middle;\n",
       "    }\n",
       "\n",
       "    .dataframe tbody tr th {\n",
       "        vertical-align: top;\n",
       "    }\n",
       "\n",
       "    .dataframe thead th {\n",
       "        text-align: right;\n",
       "    }\n",
       "</style>\n",
       "<table border=\"1\" class=\"dataframe\">\n",
       "  <thead>\n",
       "    <tr style=\"text-align: right;\">\n",
       "      <th></th>\n",
       "      <th>NUM_MATRICULAS</th>\n",
       "      <th>per</th>\n",
       "    </tr>\n",
       "    <tr>\n",
       "      <th>ABADONO</th>\n",
       "      <th></th>\n",
       "      <th></th>\n",
       "    </tr>\n",
       "  </thead>\n",
       "  <tbody>\n",
       "    <tr>\n",
       "      <th>0</th>\n",
       "      <td>20148</td>\n",
       "      <td>0.751258</td>\n",
       "    </tr>\n",
       "    <tr>\n",
       "      <th>1</th>\n",
       "      <td>6671</td>\n",
       "      <td>0.248742</td>\n",
       "    </tr>\n",
       "  </tbody>\n",
       "</table>\n",
       "</div>"
      ],
      "text/plain": [
       "         NUM_MATRICULAS       per\n",
       "ABADONO                          \n",
       "0                 20148  0.751258\n",
       "1                  6671  0.248742"
      ]
     },
     "execution_count": 12,
     "metadata": {},
     "output_type": "execute_result"
    }
   ],
   "source": [
    "abc = data_abandono.groupby(['ABADONO']).agg(NUM_MATRICULAS=('ID','count'))\n",
    "abc_sum = abc['NUM_MATRICULAS'].sum()\n",
    "abc['per'] = abc['NUM_MATRICULAS']/abc_sum\n",
    "abc"
   ]
  },
  {
   "attachments": {},
   "cell_type": "markdown",
   "id": "b032d3cd",
   "metadata": {},
   "source": [
    "## Balanceo de datos - previas\n",
    "\n",
    "Definiremos 3 grupos de datos, \n",
    "- **Datos por definir y a clasificar**: son los que no terminaron, para ello asumimos que son todos lo que estan estudiando, y no terminaron la carrera en el ultimo perIDo.\n",
    "\n",
    "Luego con los datos restantes haremos un corte de los primero \"n\" ciclo, y asumiremos que sera el minimo numero de perIDos necesarios para poder hacer una predicción.\n",
    "- **Datos de entrenamiento**:\n",
    "- **Datos de muestras**:"
   ]
  },
  {
   "cell_type": "code",
   "execution_count": 13,
   "id": "34cfd712",
   "metadata": {},
   "outputs": [
    {
     "name": "stdout",
     "output_type": "stream",
     "text": [
      "Alumnos activos el ultimo semestre (2021-1): 8013\n"
     ]
    }
   ],
   "source": [
    "# Lista de alumnos que registran matricula en el ultimo semestre\n",
    "ultimo_semestre = data['SEMESTRE'].max()\n",
    "set_alumnos_activos_ultimo_semestre = set(data[(data['SITUACION_MATRICULA']==1) & (data['SEMESTRE']==ultimo_semestre)]['ID'])\n",
    "print('Alumnos activos el ultimo semestre ('+ultimo_semestre+'): '+ str(len(set_alumnos_activos_ultimo_semestre)))\n"
   ]
  },
  {
   "cell_type": "code",
   "execution_count": 14,
   "id": "3a6e4d5f",
   "metadata": {},
   "outputs": [
    {
     "name": "stdout",
     "output_type": "stream",
     "text": [
      "Alumnos aun estudiando: 5553\n",
      "Alumnos para los que debemos predecir: 2048\n"
     ]
    },
    {
     "name": "stderr",
     "output_type": "stream",
     "text": [
      "/var/folders/yh/mnw4_865319d05f6fkrpt6280000gn/T/ipykernel_26550/1448021903.py:10: FutureWarning:\n",
      "\n",
      "Dropping of nuisance columns in DataFrame reductions (with 'numeric_only=None') is deprecated; in a future version this will raise TypeError.  Select only valid columns before calling the reduction.\n",
      "\n"
     ]
    }
   ],
   "source": [
    "def function_activity(x):\n",
    "  if x > 0:\n",
    "    return 1\n",
    "  return 0\n",
    "\n",
    "# \n",
    "data_historial_01 = data_historial.iloc[:,3:].applymap(function_activity)\n",
    "data_historial_01['ID'] = data_historial[['ID']]\n",
    "\n",
    "data_historial_01['para_no_termina'] = data_historial_01.iloc[:,8:].sum(axis=1) # alumnos que no cursaron desde el 10 ciclo\n",
    "\n",
    "n = 5\n",
    "data_historial_01['para_al_menos_n_ciclos'] = data_historial_01.iloc[:,0:n].sum(axis=1) # alumnos con al menos 5 ciclos registrados\n",
    "\n",
    "data_historial_01['alumno_activo'] = (data_historial_01['para_no_termina']==0) & (data_historial_01['ID'].isin(set_alumnos_activos_ultimo_semestre))\n",
    "data_historial_01['alumno_muestra'] = (data_historial_01['para_al_menos_n_ciclos']<n) & (data_historial_01['ID'].isin(set_alumnos_activos_ultimo_semestre) & (data_historial_01['alumno_activo']))\n",
    "data_historial_01.head()\n",
    "\n",
    "alumno_muestra = set(data_historial_01[data_historial_01['alumno_muestra']]['ID'])\n",
    "alumnos_estudiando = set(data_historial_01[data_historial_01['alumno_activo']==True]['ID'])\n",
    "\n",
    "print(\"Alumnos aun estudiando: \"+str(len(alumnos_estudiando)))\n",
    "print(\"Alumnos para los que debemos predecir: \"+str(len(alumno_muestra)))"
   ]
  },
  {
   "cell_type": "code",
   "execution_count": 15,
   "id": "97643976",
   "metadata": {},
   "outputs": [
    {
     "data": {
      "text/html": [
       "<div>\n",
       "<style scoped>\n",
       "    .dataframe tbody tr th:only-of-type {\n",
       "        vertical-align: middle;\n",
       "    }\n",
       "\n",
       "    .dataframe tbody tr th {\n",
       "        vertical-align: top;\n",
       "    }\n",
       "\n",
       "    .dataframe thead th {\n",
       "        text-align: right;\n",
       "    }\n",
       "</style>\n",
       "<table border=\"1\" class=\"dataframe\">\n",
       "  <thead>\n",
       "    <tr style=\"text-align: right;\">\n",
       "      <th></th>\n",
       "      <th>NUM_ALUMNOS</th>\n",
       "      <th>per</th>\n",
       "    </tr>\n",
       "    <tr>\n",
       "      <th>alumno_activo</th>\n",
       "      <th></th>\n",
       "      <th></th>\n",
       "    </tr>\n",
       "  </thead>\n",
       "  <tbody>\n",
       "    <tr>\n",
       "      <th>False</th>\n",
       "      <td>15194</td>\n",
       "      <td>0.732347</td>\n",
       "    </tr>\n",
       "    <tr>\n",
       "      <th>True</th>\n",
       "      <td>5553</td>\n",
       "      <td>0.267653</td>\n",
       "    </tr>\n",
       "  </tbody>\n",
       "</table>\n",
       "</div>"
      ],
      "text/plain": [
       "               NUM_ALUMNOS       per\n",
       "alumno_activo                       \n",
       "False                15194  0.732347\n",
       "True                  5553  0.267653"
      ]
     },
     "execution_count": 15,
     "metadata": {},
     "output_type": "execute_result"
    }
   ],
   "source": [
    "abc = data_historial_01.groupby(['alumno_activo']).agg(NUM_ALUMNOS=('ID','count'))\n",
    "abc_sum = abc['NUM_ALUMNOS'].sum()\n",
    "abc['per'] = abc['NUM_ALUMNOS']/abc_sum\n",
    "abc"
   ]
  },
  {
   "attachments": {},
   "cell_type": "markdown",
   "id": "458c0879",
   "metadata": {},
   "source": [
    "### Reduciendo categorias"
   ]
  },
  {
   "cell_type": "code",
   "execution_count": 16,
   "id": "5cf6529f",
   "metadata": {},
   "outputs": [],
   "source": [
    "data.head()\n",
    "\n",
    "facultades_data = pd.read_excel('data/Relacion de Escuelas Profesionales por facultad.xlsx', skiprows=3)\n",
    "facultades_data['ESCUELA_PROFESIONAL'] = facultades_data['ESCUELA PROFESIONAL'].apply(lambda x: x.upper().strip())\n",
    "facultades_data = facultades_data.set_index('ESCUELA_PROFESIONAL')\n",
    "facultades_data.head()\n",
    "facultades_data = facultades_data[['ACRONIMO']].to_dict('index')\n",
    "\n",
    "def buscar_escuela(x):\n",
    "  x = x.upper().strip()\n",
    "  resp = ''\n",
    "  try:\n",
    "    resp = facultades_data[x]['ACRONIMO']\n",
    "  except:\n",
    "    resp = x\n",
    "    resp = 'OTROS'\n",
    "  return resp\n",
    "\n",
    "data['ESCUELA_PROFESIONAL'] = data['ESCUELA_PROFESIONAL'].apply(lambda x: buscar_escuela(x))\n"
   ]
  },
  {
   "cell_type": "code",
   "execution_count": 17,
   "id": "8b9692da",
   "metadata": {},
   "outputs": [],
   "source": [
    "def definir_procedencia(x):\n",
    "  d = x['DISTRITO_NAC']\n",
    "  p = x['PROVINCIA_NAC']\n",
    "  r = x['DEPARTAMENTO_NACIMIENTO']\n",
    "\n",
    "  if p == 'CUSCO':\n",
    "    return 'Ciudadano'\n",
    "  else:\n",
    "    return 'Foraneo'\n",
    "\n",
    "data['PROCEDENCIA'] = data[['DISTRITO_NAC', 'PROVINCIA_NAC', 'DEPARTAMENTO_NACIMIENTO']].apply(lambda x: definir_procedencia(x), axis=1)\n",
    "del data['DISTRITO_NAC']\n",
    "del data['PROVINCIA_NAC']\n",
    "del data['DEPARTAMENTO_NACIMIENTO']"
   ]
  },
  {
   "attachments": {},
   "cell_type": "markdown",
   "id": "0f15256f",
   "metadata": {},
   "source": [
    "### Preparación de datos"
   ]
  },
  {
   "attachments": {},
   "cell_type": "markdown",
   "id": "b3950e16",
   "metadata": {},
   "source": [
    "### Data para predecir"
   ]
  },
  {
   "cell_type": "code",
   "execution_count": 18,
   "id": "780ab8b7",
   "metadata": {},
   "outputs": [],
   "source": [
    "# alumnos iniciantes que queremos saber si tienen la posibilidad de abandonar\n",
    "#data_to_predict = data[data['ID'].isin(alumno_muestra)].reset_index(drop=True)\n",
    "\n",
    "# grupo de alumnos cuyos datos estan completos\n",
    "data_to_work = data[~data['ID'].isin(alumno_muestra)].reset_index(drop=True)"
   ]
  },
  {
   "cell_type": "code",
   "execution_count": 32,
   "id": "163d68df",
   "metadata": {},
   "outputs": [
    {
     "data": {
      "text/html": [
       "<div>\n",
       "<style scoped>\n",
       "    .dataframe tbody tr th:only-of-type {\n",
       "        vertical-align: middle;\n",
       "    }\n",
       "\n",
       "    .dataframe tbody tr th {\n",
       "        vertical-align: top;\n",
       "    }\n",
       "\n",
       "    .dataframe thead th {\n",
       "        text-align: right;\n",
       "    }\n",
       "</style>\n",
       "<table border=\"1\" class=\"dataframe\">\n",
       "  <thead>\n",
       "    <tr style=\"text-align: right;\">\n",
       "      <th></th>\n",
       "      <th>SEMESTRE</th>\n",
       "      <th>COD_ESTUDIANTE</th>\n",
       "      <th>ESCUELA_PROFESIONAL</th>\n",
       "      <th>SITUACION_MATRICULA</th>\n",
       "      <th>CANT_CURSOS_APROBADOS</th>\n",
       "      <th>CANT_CURSOS_DESAPROBADOS</th>\n",
       "      <th>CANT_CURSOS_NSP</th>\n",
       "      <th>CANT_CRED_APROBADOS</th>\n",
       "      <th>CANT_CRED_DESAPROBADOS</th>\n",
       "      <th>CANT_CRED_NSP</th>\n",
       "      <th>...</th>\n",
       "      <th>CANT_CRED_CONVALIDADOS</th>\n",
       "      <th>PUNT_EXAMEN_ADMINISION</th>\n",
       "      <th>MODAL_INGRESO</th>\n",
       "      <th>COLEGIO_PROCEDENCIA</th>\n",
       "      <th>TIPO_COLEGIO</th>\n",
       "      <th>SEXO_ESTUDIANTE</th>\n",
       "      <th>EDAD_INGRESANTE</th>\n",
       "      <th>NUM_INGRESOS_UNIVERSIDAD</th>\n",
       "      <th>ID</th>\n",
       "      <th>PROCEDENCIA</th>\n",
       "    </tr>\n",
       "  </thead>\n",
       "  <tbody>\n",
       "    <tr>\n",
       "      <th>30</th>\n",
       "      <td>2011-3</td>\n",
       "      <td>alumno6</td>\n",
       "      <td>FD</td>\n",
       "      <td>1</td>\n",
       "      <td>3</td>\n",
       "      <td>0</td>\n",
       "      <td>0</td>\n",
       "      <td>11.0</td>\n",
       "      <td>0.0</td>\n",
       "      <td>0.0</td>\n",
       "      <td>...</td>\n",
       "      <td>0</td>\n",
       "      <td>0</td>\n",
       "      <td>CONCURSO ORDINARIO DE ADMISIÓN</td>\n",
       "      <td>...</td>\n",
       "      <td>...</td>\n",
       "      <td>M</td>\n",
       "      <td>NaN</td>\n",
       "      <td>1</td>\n",
       "      <td>1228258f98fad6c279879ebe5d1fbd837ca01c37b2fc35...</td>\n",
       "      <td>Foraneo</td>\n",
       "    </tr>\n",
       "    <tr>\n",
       "      <th>31</th>\n",
       "      <td>2012-1</td>\n",
       "      <td>alumno6</td>\n",
       "      <td>FD</td>\n",
       "      <td>1</td>\n",
       "      <td>5</td>\n",
       "      <td>0</td>\n",
       "      <td>0</td>\n",
       "      <td>14.0</td>\n",
       "      <td>0.0</td>\n",
       "      <td>0.0</td>\n",
       "      <td>...</td>\n",
       "      <td>0</td>\n",
       "      <td>0</td>\n",
       "      <td>CONCURSO ORDINARIO DE ADMISIÓN</td>\n",
       "      <td>...</td>\n",
       "      <td>...</td>\n",
       "      <td>M</td>\n",
       "      <td>NaN</td>\n",
       "      <td>1</td>\n",
       "      <td>1228258f98fad6c279879ebe5d1fbd837ca01c37b2fc35...</td>\n",
       "      <td>Foraneo</td>\n",
       "    </tr>\n",
       "    <tr>\n",
       "      <th>32</th>\n",
       "      <td>2012-2</td>\n",
       "      <td>alumno6</td>\n",
       "      <td>FD</td>\n",
       "      <td>1</td>\n",
       "      <td>6</td>\n",
       "      <td>0</td>\n",
       "      <td>0</td>\n",
       "      <td>22.0</td>\n",
       "      <td>0.0</td>\n",
       "      <td>0.0</td>\n",
       "      <td>...</td>\n",
       "      <td>0</td>\n",
       "      <td>0</td>\n",
       "      <td>CONCURSO ORDINARIO DE ADMISIÓN</td>\n",
       "      <td>...</td>\n",
       "      <td>...</td>\n",
       "      <td>M</td>\n",
       "      <td>NaN</td>\n",
       "      <td>1</td>\n",
       "      <td>1228258f98fad6c279879ebe5d1fbd837ca01c37b2fc35...</td>\n",
       "      <td>Foraneo</td>\n",
       "    </tr>\n",
       "    <tr>\n",
       "      <th>33</th>\n",
       "      <td>2013-1</td>\n",
       "      <td>alumno6</td>\n",
       "      <td>FD</td>\n",
       "      <td>1</td>\n",
       "      <td>4</td>\n",
       "      <td>2</td>\n",
       "      <td>0</td>\n",
       "      <td>14.0</td>\n",
       "      <td>5.0</td>\n",
       "      <td>0.0</td>\n",
       "      <td>...</td>\n",
       "      <td>0</td>\n",
       "      <td>0</td>\n",
       "      <td>CONCURSO ORDINARIO DE ADMISIÓN</td>\n",
       "      <td>...</td>\n",
       "      <td>...</td>\n",
       "      <td>M</td>\n",
       "      <td>NaN</td>\n",
       "      <td>1</td>\n",
       "      <td>1228258f98fad6c279879ebe5d1fbd837ca01c37b2fc35...</td>\n",
       "      <td>Foraneo</td>\n",
       "    </tr>\n",
       "    <tr>\n",
       "      <th>34</th>\n",
       "      <td>2013-2</td>\n",
       "      <td>alumno6</td>\n",
       "      <td>FD</td>\n",
       "      <td>1</td>\n",
       "      <td>6</td>\n",
       "      <td>0</td>\n",
       "      <td>0</td>\n",
       "      <td>21.0</td>\n",
       "      <td>0.0</td>\n",
       "      <td>0.0</td>\n",
       "      <td>...</td>\n",
       "      <td>0</td>\n",
       "      <td>0</td>\n",
       "      <td>CONCURSO ORDINARIO DE ADMISIÓN</td>\n",
       "      <td>...</td>\n",
       "      <td>...</td>\n",
       "      <td>M</td>\n",
       "      <td>NaN</td>\n",
       "      <td>1</td>\n",
       "      <td>1228258f98fad6c279879ebe5d1fbd837ca01c37b2fc35...</td>\n",
       "      <td>Foraneo</td>\n",
       "    </tr>\n",
       "  </tbody>\n",
       "</table>\n",
       "<p>5 rows × 89 columns</p>\n",
       "</div>"
      ],
      "text/plain": [
       "   SEMESTRE COD_ESTUDIANTE ESCUELA_PROFESIONAL  SITUACION_MATRICULA  \\\n",
       "30   2011-3        alumno6                  FD                    1   \n",
       "31   2012-1        alumno6                  FD                    1   \n",
       "32   2012-2        alumno6                  FD                    1   \n",
       "33   2013-1        alumno6                  FD                    1   \n",
       "34   2013-2        alumno6                  FD                    1   \n",
       "\n",
       "    CANT_CURSOS_APROBADOS  CANT_CURSOS_DESAPROBADOS  CANT_CURSOS_NSP  \\\n",
       "30                      3                         0                0   \n",
       "31                      5                         0                0   \n",
       "32                      6                         0                0   \n",
       "33                      4                         2                0   \n",
       "34                      6                         0                0   \n",
       "\n",
       "    CANT_CRED_APROBADOS  CANT_CRED_DESAPROBADOS  CANT_CRED_NSP  ...  \\\n",
       "30                 11.0                     0.0            0.0  ...   \n",
       "31                 14.0                     0.0            0.0  ...   \n",
       "32                 22.0                     0.0            0.0  ...   \n",
       "33                 14.0                     5.0            0.0  ...   \n",
       "34                 21.0                     0.0            0.0  ...   \n",
       "\n",
       "    CANT_CRED_CONVALIDADOS  PUNT_EXAMEN_ADMINISION  \\\n",
       "30                       0                       0   \n",
       "31                       0                       0   \n",
       "32                       0                       0   \n",
       "33                       0                       0   \n",
       "34                       0                       0   \n",
       "\n",
       "                      MODAL_INGRESO  \\\n",
       "30  CONCURSO ORDINARIO DE ADMISIÓN    \n",
       "31  CONCURSO ORDINARIO DE ADMISIÓN    \n",
       "32  CONCURSO ORDINARIO DE ADMISIÓN    \n",
       "33  CONCURSO ORDINARIO DE ADMISIÓN    \n",
       "34  CONCURSO ORDINARIO DE ADMISIÓN    \n",
       "\n",
       "                                  COLEGIO_PROCEDENCIA  \\\n",
       "30                                                ...   \n",
       "31                                                ...   \n",
       "32                                                ...   \n",
       "33                                                ...   \n",
       "34                                                ...   \n",
       "\n",
       "                                         TIPO_COLEGIO  SEXO_ESTUDIANTE  \\\n",
       "30                                                ...                M   \n",
       "31                                                ...                M   \n",
       "32                                                ...                M   \n",
       "33                                                ...                M   \n",
       "34                                                ...                M   \n",
       "\n",
       "    EDAD_INGRESANTE  NUM_INGRESOS_UNIVERSIDAD  \\\n",
       "30              NaN                         1   \n",
       "31              NaN                         1   \n",
       "32              NaN                         1   \n",
       "33              NaN                         1   \n",
       "34              NaN                         1   \n",
       "\n",
       "                                                   ID  PROCEDENCIA  \n",
       "30  1228258f98fad6c279879ebe5d1fbd837ca01c37b2fc35...      Foraneo  \n",
       "31  1228258f98fad6c279879ebe5d1fbd837ca01c37b2fc35...      Foraneo  \n",
       "32  1228258f98fad6c279879ebe5d1fbd837ca01c37b2fc35...      Foraneo  \n",
       "33  1228258f98fad6c279879ebe5d1fbd837ca01c37b2fc35...      Foraneo  \n",
       "34  1228258f98fad6c279879ebe5d1fbd837ca01c37b2fc35...      Foraneo  \n",
       "\n",
       "[5 rows x 89 columns]"
      ]
     },
     "execution_count": 32,
     "metadata": {},
     "output_type": "execute_result"
    }
   ],
   "source": [
    "data_to_work[(data_to_work['ID']=='1228258f98fad6c279879ebe5d1fbd837ca01c37b2fc3588d495a377d2aeaf80')].head()"
   ]
  },
  {
   "cell_type": "code",
   "execution_count": 33,
   "id": "717da234",
   "metadata": {},
   "outputs": [],
   "source": [
    "data_to_work = data_to_work[data_to_work['SITUACION_MATRICULA']==1] # cuan tuvieron activIDad academica\n",
    "data_features = data_to_work.groupby(['ID']).agg(\n",
    "                        NUM_MATRICULAS=('SEMESTRE','count'),\n",
    "                        COD_ESTUDIANTE=('COD_ESTUDIANTE','max'),\n",
    "                        ESCUELA_PROFESIONAL=('ESCUELA_PROFESIONAL','max'),\n",
    "                        \n",
    "                        NUM_CURSOS_APR_CICLO_01=('CANT_CURSO_MAT_CICLO_01','sum'),\n",
    "                        NUM_CURSOS_APR_CICLO_02=('CANT_CURSO_MAT_CICLO_02','sum'),\n",
    "                        NUM_CURSOS_APR_CICLO_03=('CANT_CURSO_MAT_CICLO_03','sum'),\n",
    "                        NUM_CURSOS_APR_CICLO_04=('CANT_CURSO_MAT_CICLO_04','sum'),\n",
    "                        NUM_CURSOS_APR_CICLO_05=('CANT_CURSO_MAT_CICLO_05','sum'),\n",
    "                        NUM_CURSOS_APR_CICLO_06=('CANT_CURSO_MAT_CICLO_06','sum'),\n",
    "                        NUM_CURSOS_APR_CICLO_07=('CANT_CURSO_MAT_CICLO_07','sum'),\n",
    "                        NUM_CURSOS_APR_CICLO_08=('CANT_CURSO_MAT_CICLO_08','sum'),\n",
    "                        NUM_CURSOS_APR_CICLO_09=('CANT_CURSO_MAT_CICLO_09','sum'),\n",
    "                        NUM_CURSOS_APR_CICLO_10=('CANT_CURSO_MAT_CICLO_10','sum'),\n",
    "                        NUM_CURSOS_APR_CICLO_11=('CANT_CURSO_MAT_CICLO_11','sum'),\n",
    "                        NUM_CURSOS_APR_CICLO_12=('CANT_CURSO_MAT_CICLO_12','sum'),\n",
    "                        NUM_CURSOS_APR_CICLO_13=('CANT_CURSO_MAT_CICLO_13','sum'),\n",
    "                        NUM_CURSOS_APR_CICLO_14=('CANT_CURSO_MAT_CICLO_14','sum'),\n",
    "                        # ratio\n",
    "                        \n",
    "                        CANT_CRED_APR_CICLO_01=('CANT_CRED_MAT_CICLO_01','sum'),\n",
    "                        CANT_CRED_APR_CICLO_02=('CANT_CRED_MAT_CICLO_02','sum'),\n",
    "                        CANT_CRED_APR_CICLO_03=('CANT_CRED_MAT_CICLO_03','sum'),\n",
    "                        CANT_CRED_APR_CICLO_04=('CANT_CRED_MAT_CICLO_04','sum'),\n",
    "                        CANT_CRED_APR_CICLO_05=('CANT_CRED_MAT_CICLO_05','sum'),\n",
    "                        CANT_CRED_APR_CICLO_06=('CANT_CRED_MAT_CICLO_06','sum'),\n",
    "                        CANT_CRED_APR_CICLO_07=('CANT_CRED_MAT_CICLO_07','sum'),\n",
    "                        CANT_CRED_APR_CICLO_08=('CANT_CRED_MAT_CICLO_08','sum'),\n",
    "                        CANT_CRED_APR_CICLO_09=('CANT_CRED_MAT_CICLO_09','sum'),\n",
    "                        CANT_CRED_APR_CICLO_10=('CANT_CRED_MAT_CICLO_10','sum'),\n",
    "                        CANT_CRED_APR_CICLO_11=('CANT_CRED_MAT_CICLO_11','sum'),\n",
    "                        CANT_CRED_APR_CICLO_12=('CANT_CRED_MAT_CICLO_12','sum'),\n",
    "                        CANT_CRED_APR_CICLO_13=('CANT_CRED_MAT_CICLO_13','sum'),\n",
    "                        CANT_CRED_APR_CICLO_14=('CANT_CRED_MAT_CICLO_14','sum'),\n",
    "                        NUM_CURSOS_DES_CICLO_01=('CANT_CURSO_MAT_DES_CICLO_01','sum'),\n",
    "                        NUM_CURSOS_DES_CICLO_02=('CANT_CURSO_MAT_DES_CICLO_02','sum'),\n",
    "                        NUM_CURSOS_DES_CICLO_03=('CANT_CURSO_MAT_DES_CICLO_03','sum'),\n",
    "                        NUM_CURSOS_DES_CICLO_04=('CANT_CURSO_MAT_DES_CICLO_04','sum'),\n",
    "                        NUM_CURSOS_DES_CICLO_05=('CANT_CURSO_MAT_DES_CICLO_05','sum'),\n",
    "                        NUM_CURSOS_DES_CICLO_06=('CANT_CURSO_MAT_DES_CICLO_06','sum'),\n",
    "                        NUM_CURSOS_DES_CICLO_07=('CANT_CURSO_MAT_DES_CICLO_07','sum'),\n",
    "                        NUM_CURSOS_DES_CICLO_08=('CANT_CURSO_MAT_DES_CICLO_08','sum'),\n",
    "                        NUM_CURSOS_DES_CICLO_09=('CANT_CURSO_MAT_DES_CICLO_09','sum'),\n",
    "                        NUM_CURSOS_DES_CICLO_10=('CANT_CURSO_MAT_DES_CICLO_10','sum'),\n",
    "                        NUM_CURSOS_DES_CICLO_11=('CANT_CURSO_MAT_DES_CICLO_11','sum'),\n",
    "                        NUM_CURSOS_DES_CICLO_12=('CANT_CURSO_MAT_DES_CICLO_12','sum'),\n",
    "                        NUM_CURSOS_DES_CICLO_13=('CANT_CURSO_MAT_DES_CICLO_13','sum'),\n",
    "                        NUM_CURSOS_DES_CICLO_14=('CANT_CURSO_MAT_DES_CICLO_14','sum'),\n",
    "                        CANT_CRED_DES_CICLO_01=('CANT_CRED_MAT_DES_CICLO_01','sum'),\n",
    "                        CANT_CRED_DES_CICLO_02=('CANT_CRED_MAT_DES_CICLO_02','sum'),\n",
    "                        CANT_CRED_DES_CICLO_03=('CANT_CRED_MAT_DES_CICLO_03','sum'),\n",
    "                        CANT_CRED_DES_CICLO_04=('CANT_CRED_MAT_DES_CICLO_04','sum'),\n",
    "                        CANT_CRED_DES_CICLO_05=('CANT_CRED_MAT_DES_CICLO_05','sum'),\n",
    "                        CANT_CRED_DES_CICLO_06=('CANT_CRED_MAT_DES_CICLO_06','sum'),\n",
    "                        CANT_CRED_DES_CICLO_07=('CANT_CRED_MAT_DES_CICLO_07','sum'),\n",
    "                        CANT_CRED_DES_CICLO_08=('CANT_CRED_MAT_DES_CICLO_08','sum'),\n",
    "                        CANT_CRED_DES_CICLO_09=('CANT_CRED_MAT_DES_CICLO_09','sum'),\n",
    "                        CANT_CRED_DES_CICLO_10=('CANT_CRED_MAT_DES_CICLO_10','sum'),\n",
    "                        CANT_CRED_DES_CICLO_11=('CANT_CRED_MAT_DES_CICLO_11','sum'),\n",
    "                        CANT_CRED_DES_CICLO_12=('CANT_CRED_MAT_DES_CICLO_12','sum'),\n",
    "                        CANT_CRED_DES_CICLO_13=('CANT_CRED_MAT_DES_CICLO_13','sum'),\n",
    "                        CANT_CRED_DES_CICLO_14=('CANT_CRED_MAT_DES_CICLO_14','sum'),\n",
    "                        PORC_ASISTENCIA=('PORC_ASISTENCIA','mean'),\n",
    "                        EDAD_ANIO_ESTUDIO_MIN=('EDAD_ANIO_ESTUDIO','min'),\n",
    "                        EDAD_ANIO_ESTUDIO_MAX=('EDAD_ANIO_ESTUDIO','max'),\n",
    "                        SITUACION_DESERCION_AL_SEM=('SITUACION_DESERCION_AL_SEM','mean'),\n",
    "                        PLAN_ESTUDIOS_INGRESO=('PLAN_ESTUDIOS_INGRESO','min'),\n",
    "                        PLAN_ESTUDIOS_ACTUAL=('PLAN_ESTUDIOS_ACTUAL','max'),\n",
    "                        MONTO_PENSION=('MONTO_PENSION','mean'),\n",
    "                        MONTO_PENSION_MIN=('MONTO_PENSION','min'),\n",
    "                        MONTO_PENSION_MAX=('MONTO_PENSION','max'),\n",
    "                        MATRICULA_EXTEMPORANEO=('MATRICULA_EXTEMPORANEO','sum'),\n",
    "                        CANT_ASIG_CONVALIDADOS=('CANT_ASIG_CONVALIDADOS','sum'),\n",
    "                        CANT_CRED_CONVALIDADOS=('CANT_CRED_CONVALIDADOS','sum'),\n",
    "                        PUNT_EXAMEN_ADMINISION=('PUNT_EXAMEN_ADMINISION','mean'),\n",
    "                        MODAL_INGRESO=('MODAL_INGRESO','max'),\n",
    "                        #COLEGIO_PROCEDENCIA=('COLEGIO_PROCEDENCIA','max'),\n",
    "                        TIPO_COLEGIO=('TIPO_COLEGIO','max'),\n",
    "                        SEXO_ESTUDIANTE=('SEXO_ESTUDIANTE','max'),\n",
    "                        EDAD_INGRESANTE=('EDAD_INGRESANTE','min'),\n",
    "                        NUM_INGRESOS_UNIVERSIDAD=('NUM_INGRESOS_UNIVERSIDAD','mean'),\n",
    "                        #DEPARTAMENTO_NACIMIENTO=('DEPARTAMENTO_NACIMIENTO','max'),\n",
    "                        #PROVINCIA_NACIMIENTO=('PROVINCIA_NAC','max'),\n",
    "                        #DISTRITO_NACIMIENTO=('DISTRITO_NAC','max'),\n",
    "                        PROCEDENCIA=('PROCEDENCIA','max'),\n",
    "        ).sort_values(by=['COD_ESTUDIANTE'], ascending=False)\n",
    "\n",
    "data_features = data_features.reset_index(drop=False)"
   ]
  },
  {
   "cell_type": "code",
   "execution_count": 34,
   "id": "605f8ff8",
   "metadata": {},
   "outputs": [
    {
     "data": {
      "text/html": [
       "<div>\n",
       "<style scoped>\n",
       "    .dataframe tbody tr th:only-of-type {\n",
       "        vertical-align: middle;\n",
       "    }\n",
       "\n",
       "    .dataframe tbody tr th {\n",
       "        vertical-align: top;\n",
       "    }\n",
       "\n",
       "    .dataframe thead th {\n",
       "        text-align: right;\n",
       "    }\n",
       "</style>\n",
       "<table border=\"1\" class=\"dataframe\">\n",
       "  <thead>\n",
       "    <tr style=\"text-align: right;\">\n",
       "      <th></th>\n",
       "      <th>ID</th>\n",
       "      <th>NUM_MATRICULAS</th>\n",
       "      <th>COD_ESTUDIANTE</th>\n",
       "      <th>ESCUELA_PROFESIONAL</th>\n",
       "      <th>NUM_CURSOS_APR_CICLO_01</th>\n",
       "      <th>NUM_CURSOS_APR_CICLO_02</th>\n",
       "      <th>NUM_CURSOS_APR_CICLO_03</th>\n",
       "      <th>NUM_CURSOS_APR_CICLO_04</th>\n",
       "      <th>NUM_CURSOS_APR_CICLO_05</th>\n",
       "      <th>NUM_CURSOS_APR_CICLO_06</th>\n",
       "      <th>...</th>\n",
       "      <th>MATRICULA_EXTEMPORANEO</th>\n",
       "      <th>CANT_ASIG_CONVALIDADOS</th>\n",
       "      <th>CANT_CRED_CONVALIDADOS</th>\n",
       "      <th>PUNT_EXAMEN_ADMINISION</th>\n",
       "      <th>MODAL_INGRESO</th>\n",
       "      <th>TIPO_COLEGIO</th>\n",
       "      <th>SEXO_ESTUDIANTE</th>\n",
       "      <th>EDAD_INGRESANTE</th>\n",
       "      <th>NUM_INGRESOS_UNIVERSIDAD</th>\n",
       "      <th>PROCEDENCIA</th>\n",
       "    </tr>\n",
       "  </thead>\n",
       "  <tbody>\n",
       "    <tr>\n",
       "      <th>1029</th>\n",
       "      <td>1228258f98fad6c279879ebe5d1fbd837ca01c37b2fc35...</td>\n",
       "      <td>10</td>\n",
       "      <td>alumno6</td>\n",
       "      <td>FD</td>\n",
       "      <td>1</td>\n",
       "      <td>5</td>\n",
       "      <td>4</td>\n",
       "      <td>1</td>\n",
       "      <td>0</td>\n",
       "      <td>4</td>\n",
       "      <td>...</td>\n",
       "      <td>0</td>\n",
       "      <td>0</td>\n",
       "      <td>0</td>\n",
       "      <td>0.0</td>\n",
       "      <td>CONCURSO ORDINARIO DE ADMISIÓN</td>\n",
       "      <td>...</td>\n",
       "      <td>M</td>\n",
       "      <td>NaN</td>\n",
       "      <td>1.0</td>\n",
       "      <td>Foraneo</td>\n",
       "    </tr>\n",
       "  </tbody>\n",
       "</table>\n",
       "<p>1 rows × 79 columns</p>\n",
       "</div>"
      ],
      "text/plain": [
       "                                                     ID  NUM_MATRICULAS  \\\n",
       "1029  1228258f98fad6c279879ebe5d1fbd837ca01c37b2fc35...              10   \n",
       "\n",
       "     COD_ESTUDIANTE ESCUELA_PROFESIONAL  NUM_CURSOS_APR_CICLO_01  \\\n",
       "1029        alumno6                  FD                        1   \n",
       "\n",
       "      NUM_CURSOS_APR_CICLO_02  NUM_CURSOS_APR_CICLO_03  \\\n",
       "1029                        5                        4   \n",
       "\n",
       "      NUM_CURSOS_APR_CICLO_04  NUM_CURSOS_APR_CICLO_05  \\\n",
       "1029                        1                        0   \n",
       "\n",
       "      NUM_CURSOS_APR_CICLO_06  ...  MATRICULA_EXTEMPORANEO  \\\n",
       "1029                        4  ...                       0   \n",
       "\n",
       "      CANT_ASIG_CONVALIDADOS  CANT_CRED_CONVALIDADOS  PUNT_EXAMEN_ADMINISION  \\\n",
       "1029                       0                       0                     0.0   \n",
       "\n",
       "                        MODAL_INGRESO  \\\n",
       "1029  CONCURSO ORDINARIO DE ADMISIÓN    \n",
       "\n",
       "                                           TIPO_COLEGIO  SEXO_ESTUDIANTE  \\\n",
       "1029                                                ...                M   \n",
       "\n",
       "      EDAD_INGRESANTE  NUM_INGRESOS_UNIVERSIDAD  PROCEDENCIA  \n",
       "1029              NaN                       1.0      Foraneo  \n",
       "\n",
       "[1 rows x 79 columns]"
      ]
     },
     "execution_count": 34,
     "metadata": {},
     "output_type": "execute_result"
    }
   ],
   "source": [
    "data_features[data_features['ID']=='1228258f98fad6c279879ebe5d1fbd837ca01c37b2fc3588d495a377d2aeaf80']"
   ]
  },
  {
   "cell_type": "code",
   "execution_count": null,
   "id": "3eee3835",
   "metadata": {},
   "outputs": [],
   "source": [
    "data_features = pd.merge(data_features,\n",
    "                         data_abandono[['ID', 'ABADONO']],\n",
    "                         #data_abandono[['ID', 'ABADONO_PERIODOS', 'ABADONO']],\n",
    "                         how=\"left\",\n",
    "                         left_on=['ID'],\n",
    "                         right_on=['ID'],\n",
    "                         sort=True,\n",
    "                         suffixes=(\"_x\", \"_y\"),\n",
    "                        )\n",
    "\n",
    "del data_features['COD_ESTUDIANTE']\n",
    "data_features = data_features.set_index('ID')\n",
    "data_features.head(3)"
   ]
  },
  {
   "attachments": {},
   "cell_type": "markdown",
   "id": "0bbb51e4",
   "metadata": {},
   "source": [
    "### Metricar para resumir vectores"
   ]
  },
  {
   "cell_type": "code",
   "execution_count": null,
   "id": "8599c815",
   "metadata": {},
   "outputs": [],
   "source": [
    "# Numero de periodos activos\n",
    "\n",
    "\n",
    "# Media del vector\n",
    "\n",
    "# Desviacion del vector\n",
    "\n",
    "# Desviación estándar: es una medida de la dispersión de los datos alrededor de la media. Una desviación estándar más alta indica una mayor variabilidad de los datos.\n",
    "# Rango: es la diferencia entre el valor máximo y el valor mínimo de los datos. Un rango más amplio indica una mayor variabilidad de los datos.\n",
    "# Varianza: es una medida de la dispersión de los datos alrededor de la media, similar a la desviación estándar.\n",
    "# Coeficiente de variación: es una medida de la variabilidad relativa de los datos, se calcula como la desviación estándar dividida entre la media.\n",
    "# Curtosis: es una medida de la asimetría de los datos, una curtosis más alta indica una mayor concentración de valores en los extremos.\n",
    "# Skewness: es una medida de la simetría de los datos, una asimetría positiva indica que los datos tienden a tener un sesgo hacia la derecha y una asimetría negativa indica que los datos tienden a tener un sesgo hacia la izquierda.\n",
    "# Boxplot: es una herramienta gráfica utilizada para visualizar la distribución de los datos y para detectar valores atípicos.\n",
    "# Correlación: es una medida de la relación lineal entre dos variables.\n",
    "# Entropía: es una medida de la incertidumbre o complejidad en un sistema estadístico."
   ]
  },
  {
   "attachments": {},
   "cell_type": "markdown",
   "id": "9a472c7a",
   "metadata": {},
   "source": [
    "##### Figura"
   ]
  },
  {
   "cell_type": "code",
   "execution_count": null,
   "id": "4a05216f",
   "metadata": {},
   "outputs": [],
   "source": [
    "abc = data_features.groupby(['ABADONO']).agg(NUM_MATRICULAS=('NUM_MATRICULAS','count'))\n",
    "abc_sum = abc['NUM_MATRICULAS'].sum()\n",
    "abc['per'] = abc['NUM_MATRICULAS']/abc_sum\n",
    "abc"
   ]
  },
  {
   "cell_type": "code",
   "execution_count": null,
   "id": "fdb8b4c3",
   "metadata": {},
   "outputs": [],
   "source": [
    "categorical_col = list(data_features.select_dtypes(include=['object']).columns)\n",
    "for col in categorical_col:\n",
    "  print(col)\n",
    "  data_features[col] = data_features[col].fillna('OTRO')"
   ]
  },
  {
   "cell_type": "code",
   "execution_count": null,
   "id": "c605d640",
   "metadata": {},
   "outputs": [],
   "source": [
    "data_features.isna().sum()"
   ]
  },
  {
   "cell_type": "code",
   "execution_count": null,
   "id": "61ef6263",
   "metadata": {},
   "outputs": [],
   "source": [
    "numeric_nan_col = list(data_features.columns[data_features.isna().any()])\n",
    "for col in numeric_nan_col:\n",
    "  print(col)\n",
    "  mean = np.mean(data_features[col])\n",
    "  data_features[col] = data_features[col].fillna(mean)\n",
    "\n",
    "data_features.columns[data_features.isna().any()]"
   ]
  },
  {
   "attachments": {},
   "cell_type": "markdown",
   "id": "010d0fbd",
   "metadata": {},
   "source": [
    "## Balanceo de datos"
   ]
  },
  {
   "cell_type": "code",
   "execution_count": null,
   "id": "35f85179",
   "metadata": {},
   "outputs": [],
   "source": [
    "data_features = pd.get_dummies(data_features, columns = categorical_col)\n",
    "\n",
    "data_features.head()"
   ]
  },
  {
   "cell_type": "code",
   "execution_count": null,
   "id": "8ead6e6e",
   "metadata": {},
   "outputs": [],
   "source": [
    "from sklearn.model_selection import train_test_split\n",
    "\n",
    "\n",
    "X = data_features.iloc[:,:-1]\n",
    "y = data_features['ABADONO']\n",
    "\n",
    "len(X), len(y)"
   ]
  },
  {
   "cell_type": "code",
   "execution_count": null,
   "id": "d1f5158c",
   "metadata": {},
   "outputs": [],
   "source": [
    "from imblearn.over_sampling import SMOTE, ADASYN\n",
    "X_resampled, y_resampled = SMOTE().fit_resample(X, y)"
   ]
  },
  {
   "cell_type": "code",
   "execution_count": null,
   "id": "50b67ca1",
   "metadata": {},
   "outputs": [],
   "source": [
    "y_resampled.values"
   ]
  },
  {
   "cell_type": "code",
   "execution_count": null,
   "id": "c42cfbb6",
   "metadata": {},
   "outputs": [],
   "source": [
    "plt.hist(y_resampled.values)"
   ]
  },
  {
   "cell_type": "code",
   "execution_count": null,
   "id": "09d35683",
   "metadata": {},
   "outputs": [],
   "source": []
  },
  {
   "cell_type": "code",
   "execution_count": null,
   "id": "28bc3b43",
   "metadata": {},
   "outputs": [],
   "source": []
  },
  {
   "cell_type": "code",
   "execution_count": null,
   "id": "9f9b504a",
   "metadata": {},
   "outputs": [],
   "source": []
  },
  {
   "cell_type": "code",
   "execution_count": null,
   "id": "ac887f10",
   "metadata": {},
   "outputs": [],
   "source": []
  },
  {
   "cell_type": "code",
   "execution_count": null,
   "id": "8e8aca8a",
   "metadata": {},
   "outputs": [],
   "source": []
  },
  {
   "cell_type": "code",
   "execution_count": null,
   "id": "8c000ce6",
   "metadata": {},
   "outputs": [],
   "source": []
  }
 ],
 "metadata": {
  "kernelspec": {
   "display_name": "base",
   "language": "python",
   "name": "python3"
  },
  "language_info": {
   "codemirror_mode": {
    "name": "ipython",
    "version": 3
   },
   "file_extension": ".py",
   "mimetype": "text/x-python",
   "name": "python",
   "nbconvert_exporter": "python",
   "pygments_lexer": "ipython3",
   "version": "3.9.12"
  },
  "latex_envs": {
   "LaTeX_envs_menu_present": true,
   "autoclose": false,
   "autocomplete": true,
   "bibliofile": "biblio.bib",
   "cite_by": "apalike",
   "current_citInitial": 1,
   "eqLabelWithNumbers": true,
   "eqNumInitial": 1,
   "hotkeys": {
    "equation": "Ctrl-E",
    "itemize": "Ctrl-I"
   },
   "labels_anchors": false,
   "latex_user_defs": false,
   "report_style_numbering": false,
   "user_envs_cfg": false
  },
  "toc": {
   "base_numbering": 1,
   "nav_menu": {},
   "number_sections": true,
   "sideBar": true,
   "skip_h1_title": false,
   "title_cell": "Table of Contents",
   "title_sidebar": "Contents",
   "toc_cell": false,
   "toc_position": {},
   "toc_section_display": true,
   "toc_window_display": false
  },
  "vscode": {
   "interpreter": {
    "hash": "40d3a090f54c6569ab1632332b64b2c03c39dcf918b08424e98f38b5ae0af88f"
   }
  }
 },
 "nbformat": 4,
 "nbformat_minor": 5
}
