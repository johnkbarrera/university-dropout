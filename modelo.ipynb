{
 "cells": [
  {
   "cell_type": "code",
   "execution_count": null,
   "id": "44abc44e",
   "metadata": {},
   "outputs": [],
   "source": [
    "from pycaret.classification import *\n",
    "\n",
    "X_resampled['target'] = y_resampled"
   ]
  },
  {
   "cell_type": "code",
   "execution_count": null,
   "id": "88f3af8f",
   "metadata": {},
   "outputs": [],
   "source": [
    "# https://pycaret.readthedocs.io/en/stable/api/classification.html\n",
    "s = setup(data = X_resampled, target = 'target', session_id=123, )"
   ]
  },
  {
   "cell_type": "code",
   "execution_count": null,
   "id": "782f2e7b",
   "metadata": {},
   "outputs": [],
   "source": [
    "best_model = compare_models()#"
   ]
  },
  {
   "cell_type": "code",
   "execution_count": null,
   "id": "ea46bf53",
   "metadata": {
    "scrolled": true
   },
   "outputs": [],
   "source": [
    "rf_model = create_model('rf')"
   ]
  },
  {
   "cell_type": "code",
   "execution_count": null,
   "id": "7e342b0b",
   "metadata": {},
   "outputs": [],
   "source": [
    "print(rf_model)"
   ]
  },
  {
   "cell_type": "raw",
   "id": "54aaaaa6",
   "metadata": {},
   "source": [
    "tuned_rf_model = tune_model(rf_model)"
   ]
  },
  {
   "cell_type": "code",
   "execution_count": null,
   "id": "4172b8e3",
   "metadata": {
    "scrolled": true
   },
   "outputs": [],
   "source": [
    "print(tuned_rf_model)"
   ]
  },
  {
   "cell_type": "code",
   "execution_count": null,
   "id": "28f75298",
   "metadata": {
    "scrolled": true
   },
   "outputs": [],
   "source": [
    "plot_model(tuned_rf_model, plot = 'auc')"
   ]
  },
  {
   "cell_type": "code",
   "execution_count": null,
   "id": "f0132bad",
   "metadata": {},
   "outputs": [],
   "source": [
    "plot_model(tuned_rf_model, plot = 'pr')"
   ]
  },
  {
   "cell_type": "code",
   "execution_count": null,
   "id": "5b0360d7",
   "metadata": {},
   "outputs": [],
   "source": [
    "plot_model(tuned_rf_model, plot='feature')"
   ]
  },
  {
   "cell_type": "code",
   "execution_count": null,
   "id": "e1401803",
   "metadata": {},
   "outputs": [],
   "source": [
    "plot_model(tuned_rf_model, plot = 'confusion_matrix')"
   ]
  },
  {
   "cell_type": "code",
   "execution_count": null,
   "id": "ad96ccf6",
   "metadata": {},
   "outputs": [],
   "source": [
    "evaluate_model(tuned_rf_model)"
   ]
  },
  {
   "cell_type": "code",
   "execution_count": null,
   "id": "b7675585",
   "metadata": {},
   "outputs": [],
   "source": [
    "predict_model(tuned_rf_model);"
   ]
  },
  {
   "cell_type": "code",
   "execution_count": null,
   "id": "b8dfaca6",
   "metadata": {},
   "outputs": [],
   "source": []
  }
 ],
 "metadata": {
  "kernelspec": {
   "display_name": "base",
   "language": "python",
   "name": "python3"
  },
  "language_info": {
   "codemirror_mode": {
    "name": "ipython",
    "version": 3
   },
   "file_extension": ".py",
   "mimetype": "text/x-python",
   "name": "python",
   "nbconvert_exporter": "python",
   "pygments_lexer": "ipython3",
   "version": "3.9.12"
  },
  "latex_envs": {
   "LaTeX_envs_menu_present": true,
   "autoclose": false,
   "autocomplete": true,
   "bibliofile": "biblio.bib",
   "cite_by": "apalike",
   "current_citInitial": 1,
   "eqLabelWithNumbers": true,
   "eqNumInitial": 1,
   "hotkeys": {
    "equation": "Ctrl-E",
    "itemize": "Ctrl-I"
   },
   "labels_anchors": false,
   "latex_user_defs": false,
   "report_style_numbering": false,
   "user_envs_cfg": false
  },
  "toc": {
   "base_numbering": 1,
   "nav_menu": {},
   "number_sections": true,
   "sideBar": true,
   "skip_h1_title": false,
   "title_cell": "Table of Contents",
   "title_sidebar": "Contents",
   "toc_cell": false,
   "toc_position": {
    "height": "calc(100% - 180px)",
    "left": "10px",
    "top": "150px",
    "width": "259.446px"
   },
   "toc_section_display": true,
   "toc_window_display": true
  },
  "vscode": {
   "interpreter": {
    "hash": "40d3a090f54c6569ab1632332b64b2c03c39dcf918b08424e98f38b5ae0af88f"
   }
  }
 },
 "nbformat": 4,
 "nbformat_minor": 5
}
